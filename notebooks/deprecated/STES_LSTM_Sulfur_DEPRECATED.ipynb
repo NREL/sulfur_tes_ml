{
 "cells": [
  {
   "cell_type": "code",
   "execution_count": 2,
   "id": "dae73c25-a7b6-4885-8cb0-2166e56a7b4c",
   "metadata": {},
   "outputs": [],
   "source": [
    "import os\n",
    "import glob\n",
    "import pandas as pd\n",
    "import numpy as np\n",
    "import tensorflow as tf\n",
    "import random\n",
    "\n",
    "from numpy import array\n",
    "from numpy import hstack\n",
    "\n",
    "from tensorflow import keras\n",
    "from tensorflow.keras.models import Sequential\n",
    "from tensorflow.keras.layers import LSTM\n",
    "from tensorflow.keras.layers import Dense"
   ]
  },
  {
   "cell_type": "code",
   "execution_count": 3,
   "id": "8fe95605-a421-4155-8c96-224a66195f9c",
   "metadata": {},
   "outputs": [],
   "source": [
    "from sklearn.model_selection import RepeatedKFold\n",
    "\n",
    "from sklearn.preprocessing import StandardScaler"
   ]
  },
  {
   "cell_type": "code",
   "execution_count": 4,
   "id": "5a660f2b-dc0d-41e9-94f9-7f8d47a372f5",
   "metadata": {},
   "outputs": [],
   "source": [
    "%load_ext tensorboard"
   ]
  },
  {
   "cell_type": "code",
   "execution_count": 5,
   "id": "881e278d-b4ac-46a3-823b-6a1f5b8f7dd3",
   "metadata": {},
   "outputs": [],
   "source": [
    "import datetime"
   ]
  },
  {
   "cell_type": "code",
   "execution_count": 6,
   "id": "8a9905b6-8e9b-49b2-be08-735e6cbc119b",
   "metadata": {},
   "outputs": [],
   "source": [
    "log_dir = \"logs/fit/\" + datetime.datetime.now().strftime(\"%Y%m%d-%H%M%S\")\n",
    "tensorboard_callback = tf.keras.callbacks.TensorBoard(log_dir=log_dir, histogram_freq=1)"
   ]
  },
  {
   "cell_type": "code",
   "execution_count": 7,
   "id": "6d151a56-1daa-4cbe-b154-f55fbe43a30a",
   "metadata": {},
   "outputs": [],
   "source": [
    "earlystopping_callback = tf.keras.callbacks.EarlyStopping(\n",
    "    monitor=\"val_loss\",\n",
    "    min_delta=0,\n",
    "    patience=0,\n",
    "    verbose=0,\n",
    "    mode=\"auto\",\n",
    "    baseline=None,\n",
    "    restore_best_weights=True,\n",
    ")"
   ]
  },
  {
   "cell_type": "code",
   "execution_count": 8,
   "id": "dc736980-d78d-49c9-a4f7-10db81819a8d",
   "metadata": {},
   "outputs": [],
   "source": [
    "data_dir = \"../data/Sulfur_Models/\"\n",
    "\n",
    "scenario_index = pd.DataFrame({\"filepath\": glob.glob(os.path.join(data_dir, \"ML_*_*.csv\"))})"
   ]
  },
  {
   "cell_type": "code",
   "execution_count": 9,
   "id": "622bc408-acf2-4acd-bee7-ecfab4f5e01d",
   "metadata": {},
   "outputs": [],
   "source": [
    "def get_train_and_test_index(scenario_index, random_state=None):\n",
    "    if random_state == None:\n",
    "        print('here')\n",
    "        random_state = random.randrange(2652124)\n",
    "    cv = RepeatedKFold(n_splits=5, n_repeats=1, random_state=random_state)\n",
    "\n",
    "    train_index, test_index  = next(cv.split(scenario_index.index))\n",
    "    \n",
    "    return train_index, test_index"
   ]
  },
  {
   "cell_type": "code",
   "execution_count": 10,
   "id": "46124939-e385-4f02-b366-e1b34f47b14f",
   "metadata": {},
   "outputs": [],
   "source": [
    "def load_data(scenario_index, selected_index, is_recurrent_test_data=False):\n",
    "    \"\"\" Load data from files in scenario_index with indices matching ones in selected_index\"\"\"\n",
    "    \n",
    "    df_arr = []\n",
    "    for f in scenario_index.loc[selected_index].filepath:\n",
    "        Tw = float(f.split(\"/\")[-1].split(\"_\")[1])\n",
    "        Ti = float(f.split(\"/\")[-1].split(\"_\")[2].replace(\".csv\", \"\"))\n",
    "\n",
    "        f_df = pd.read_csv(f, skiprows=0)\n",
    "        f_df[\"Tw\"] = Tw\n",
    "        f_df[\"Ti\"] = Ti\n",
    "        df_arr.append(f_df)\n",
    "    \n",
    "    return df_arr"
   ]
  },
  {
   "cell_type": "code",
   "execution_count": 11,
   "id": "6402c797-3cae-4b7d-8559-352458761b6a",
   "metadata": {},
   "outputs": [],
   "source": [
    "def scale_data(X_train, y_train, X_test, y_test, scaler_x, scaler_y):\n",
    "    for i in range(X_train.length())\n",
    "    X_train = scaler_x.transform(X_train)\n",
    "    X_test = scaler_x.transform(X_test)  \n",
    "\n",
    "    y_train = scaler_y.transform(y_train.reshape(-1,1)).reshape(1,-1)[0]\n",
    "    y_test = scaler_y.transform(y_test.reshape(-1,1)).reshape(1,-1)[0] \n",
    "    return X_train, y_train, X_test, y_test, scaler_x, scaler_y"
   ]
  },
  {
   "cell_type": "code",
   "execution_count": 12,
   "id": "c3259ec2-29e7-4a2b-9dba-f639e1dc9aed",
   "metadata": {},
   "outputs": [],
   "source": [
    "train_index, test_index = get_train_and_test_index(scenario_index, random_state=5)"
   ]
  },
  {
   "cell_type": "code",
   "execution_count": 13,
   "id": "2842ba73-143b-47f9-a2ea-0d069bfd2b17",
   "metadata": {},
   "outputs": [],
   "source": [
    "train_df = load_data(scenario_index, train_index)"
   ]
  },
  {
   "cell_type": "code",
   "execution_count": 14,
   "id": "3573ef18-2ffe-42a9-ab0b-896b1389e87b",
   "metadata": {},
   "outputs": [],
   "source": [
    "test_df = load_data(scenario_index, test_index)"
   ]
  },
  {
   "cell_type": "code",
   "execution_count": 29,
   "id": "086dcaed-9a8d-44ef-b301-a7fcaa5588c5",
   "metadata": {},
   "outputs": [],
   "source": [
    "train_df_new = pd.concat(train_df)"
   ]
  },
  {
   "cell_type": "code",
   "execution_count": 30,
   "id": "ca9fc2f5-0d43-40d7-96d5-4488b839efbb",
   "metadata": {},
   "outputs": [
    {
     "data": {
      "text/html": [
       "<div>\n",
       "<style scoped>\n",
       "    .dataframe tbody tr th:only-of-type {\n",
       "        vertical-align: middle;\n",
       "    }\n",
       "\n",
       "    .dataframe tbody tr th {\n",
       "        vertical-align: top;\n",
       "    }\n",
       "\n",
       "    .dataframe thead th {\n",
       "        text-align: right;\n",
       "    }\n",
       "</style>\n",
       "<table border=\"1\" class=\"dataframe\">\n",
       "  <thead>\n",
       "    <tr style=\"text-align: right;\">\n",
       "      <th></th>\n",
       "      <th>Time Step</th>\n",
       "      <th>flow-time</th>\n",
       "      <th>Tw</th>\n",
       "      <th>Tavg</th>\n",
       "      <th>Tfilm</th>\n",
       "      <th>Unnamed: 5</th>\n",
       "      <th>k(Tf)</th>\n",
       "      <th>rho(Tf)</th>\n",
       "      <th>beta(Tf)</th>\n",
       "      <th>mu(Tf)</th>\n",
       "      <th>...</th>\n",
       "      <th>k</th>\n",
       "      <th>rho</th>\n",
       "      <th>beta</th>\n",
       "      <th>mu</th>\n",
       "      <th>cp</th>\n",
       "      <th>h</th>\n",
       "      <th>soc</th>\n",
       "      <th>nu</th>\n",
       "      <th>ra</th>\n",
       "      <th>Ti</th>\n",
       "    </tr>\n",
       "  </thead>\n",
       "  <tbody>\n",
       "    <tr>\n",
       "      <th>0</th>\n",
       "      <td>0</td>\n",
       "      <td>0.000000</td>\n",
       "      <td>540.0</td>\n",
       "      <td>400.000000</td>\n",
       "      <td>470.000000</td>\n",
       "      <td>NaN</td>\n",
       "      <td>0.153348</td>\n",
       "      <td>1757.520000</td>\n",
       "      <td>0.000295</td>\n",
       "      <td>42.665941</td>\n",
       "      <td>...</td>\n",
       "      <td>0.150346</td>\n",
       "      <td>1755.567329</td>\n",
       "      <td>0.000337</td>\n",
       "      <td>18.067747</td>\n",
       "      <td>1138.744220</td>\n",
       "      <td>3668.866284</td>\n",
       "      <td>-1.660000e-09</td>\n",
       "      <td>0.000000</td>\n",
       "      <td>4783.512623</td>\n",
       "      <td>400.0</td>\n",
       "    </tr>\n",
       "    <tr>\n",
       "      <th>1</th>\n",
       "      <td>1</td>\n",
       "      <td>0.000050</td>\n",
       "      <td>540.0</td>\n",
       "      <td>400.000177</td>\n",
       "      <td>470.000089</td>\n",
       "      <td>NaN</td>\n",
       "      <td>0.153348</td>\n",
       "      <td>1757.519945</td>\n",
       "      <td>0.000295</td>\n",
       "      <td>42.665994</td>\n",
       "      <td>...</td>\n",
       "      <td>0.150346</td>\n",
       "      <td>1755.567275</td>\n",
       "      <td>0.000337</td>\n",
       "      <td>18.067770</td>\n",
       "      <td>1138.744379</td>\n",
       "      <td>3668.866284</td>\n",
       "      <td>1.270000e-06</td>\n",
       "      <td>488.056078</td>\n",
       "      <td>4783.497728</td>\n",
       "      <td>400.0</td>\n",
       "    </tr>\n",
       "    <tr>\n",
       "      <th>2</th>\n",
       "      <td>2</td>\n",
       "      <td>0.000100</td>\n",
       "      <td>540.0</td>\n",
       "      <td>400.000354</td>\n",
       "      <td>470.000177</td>\n",
       "      <td>NaN</td>\n",
       "      <td>0.153348</td>\n",
       "      <td>1757.519889</td>\n",
       "      <td>0.000295</td>\n",
       "      <td>42.666047</td>\n",
       "      <td>...</td>\n",
       "      <td>0.150346</td>\n",
       "      <td>1755.567221</td>\n",
       "      <td>0.000337</td>\n",
       "      <td>18.067793</td>\n",
       "      <td>1138.744537</td>\n",
       "      <td>3664.389437</td>\n",
       "      <td>2.530000e-06</td>\n",
       "      <td>487.460466</td>\n",
       "      <td>4783.482851</td>\n",
       "      <td>400.0</td>\n",
       "    </tr>\n",
       "    <tr>\n",
       "      <th>3</th>\n",
       "      <td>3</td>\n",
       "      <td>0.000192</td>\n",
       "      <td>540.0</td>\n",
       "      <td>400.000680</td>\n",
       "      <td>470.000340</td>\n",
       "      <td>NaN</td>\n",
       "      <td>0.153348</td>\n",
       "      <td>1757.519788</td>\n",
       "      <td>0.000295</td>\n",
       "      <td>42.666145</td>\n",
       "      <td>...</td>\n",
       "      <td>0.150346</td>\n",
       "      <td>1755.567122</td>\n",
       "      <td>0.000337</td>\n",
       "      <td>18.067835</td>\n",
       "      <td>1138.744828</td>\n",
       "      <td>3656.197577</td>\n",
       "      <td>4.860000e-06</td>\n",
       "      <td>486.370599</td>\n",
       "      <td>4783.455535</td>\n",
       "      <td>400.0</td>\n",
       "    </tr>\n",
       "    <tr>\n",
       "      <th>4</th>\n",
       "      <td>4</td>\n",
       "      <td>0.000370</td>\n",
       "      <td>540.0</td>\n",
       "      <td>400.001306</td>\n",
       "      <td>470.000653</td>\n",
       "      <td>NaN</td>\n",
       "      <td>0.153348</td>\n",
       "      <td>1757.519592</td>\n",
       "      <td>0.000295</td>\n",
       "      <td>42.666332</td>\n",
       "      <td>...</td>\n",
       "      <td>0.150346</td>\n",
       "      <td>1755.566931</td>\n",
       "      <td>0.000337</td>\n",
       "      <td>18.067915</td>\n",
       "      <td>1138.745389</td>\n",
       "      <td>3640.527400</td>\n",
       "      <td>9.330000e-06</td>\n",
       "      <td>484.285797</td>\n",
       "      <td>4783.402944</td>\n",
       "      <td>400.0</td>\n",
       "    </tr>\n",
       "    <tr>\n",
       "      <th>...</th>\n",
       "      <td>...</td>\n",
       "      <td>...</td>\n",
       "      <td>...</td>\n",
       "      <td>...</td>\n",
       "      <td>...</td>\n",
       "      <td>...</td>\n",
       "      <td>...</td>\n",
       "      <td>...</td>\n",
       "      <td>...</td>\n",
       "      <td>...</td>\n",
       "      <td>...</td>\n",
       "      <td>...</td>\n",
       "      <td>...</td>\n",
       "      <td>...</td>\n",
       "      <td>...</td>\n",
       "      <td>...</td>\n",
       "      <td>...</td>\n",
       "      <td>...</td>\n",
       "      <td>...</td>\n",
       "      <td>...</td>\n",
       "      <td>...</td>\n",
       "    </tr>\n",
       "    <tr>\n",
       "      <th>74092</th>\n",
       "      <td>74090</td>\n",
       "      <td>7199.604681</td>\n",
       "      <td>460.0</td>\n",
       "      <td>429.384154</td>\n",
       "      <td>444.692077</td>\n",
       "      <td>NaN</td>\n",
       "      <td>0.143031</td>\n",
       "      <td>1769.921799</td>\n",
       "      <td>0.000269</td>\n",
       "      <td>2.380730</td>\n",
       "      <td>...</td>\n",
       "      <td>0.143225</td>\n",
       "      <td>1770.046274</td>\n",
       "      <td>0.000191</td>\n",
       "      <td>7.391127</td>\n",
       "      <td>1317.828630</td>\n",
       "      <td>25.055965</td>\n",
       "      <td>4.897359e-01</td>\n",
       "      <td>3.498827</td>\n",
       "      <td>1789.723008</td>\n",
       "      <td>400.0</td>\n",
       "    </tr>\n",
       "    <tr>\n",
       "      <th>74093</th>\n",
       "      <td>74091</td>\n",
       "      <td>7199.704681</td>\n",
       "      <td>460.0</td>\n",
       "      <td>429.384296</td>\n",
       "      <td>444.692148</td>\n",
       "      <td>NaN</td>\n",
       "      <td>0.143031</td>\n",
       "      <td>1769.921778</td>\n",
       "      <td>0.000269</td>\n",
       "      <td>2.380800</td>\n",
       "      <td>...</td>\n",
       "      <td>0.143225</td>\n",
       "      <td>1770.046249</td>\n",
       "      <td>0.000191</td>\n",
       "      <td>7.391162</td>\n",
       "      <td>1317.829099</td>\n",
       "      <td>25.055843</td>\n",
       "      <td>4.897383e-01</td>\n",
       "      <td>3.498809</td>\n",
       "      <td>1789.702985</td>\n",
       "      <td>400.0</td>\n",
       "    </tr>\n",
       "    <tr>\n",
       "      <th>74094</th>\n",
       "      <td>74092</td>\n",
       "      <td>7199.804681</td>\n",
       "      <td>460.0</td>\n",
       "      <td>429.384439</td>\n",
       "      <td>444.692220</td>\n",
       "      <td>NaN</td>\n",
       "      <td>0.143031</td>\n",
       "      <td>1769.921758</td>\n",
       "      <td>0.000269</td>\n",
       "      <td>2.380870</td>\n",
       "      <td>...</td>\n",
       "      <td>0.143225</td>\n",
       "      <td>1770.046223</td>\n",
       "      <td>0.000191</td>\n",
       "      <td>7.391196</td>\n",
       "      <td>1317.829567</td>\n",
       "      <td>25.055720</td>\n",
       "      <td>4.897406e-01</td>\n",
       "      <td>3.498791</td>\n",
       "      <td>1789.682963</td>\n",
       "      <td>400.0</td>\n",
       "    </tr>\n",
       "    <tr>\n",
       "      <th>74095</th>\n",
       "      <td>74093</td>\n",
       "      <td>7199.904681</td>\n",
       "      <td>460.0</td>\n",
       "      <td>429.384582</td>\n",
       "      <td>444.692291</td>\n",
       "      <td>NaN</td>\n",
       "      <td>0.143031</td>\n",
       "      <td>1769.921737</td>\n",
       "      <td>0.000269</td>\n",
       "      <td>2.380940</td>\n",
       "      <td>...</td>\n",
       "      <td>0.143225</td>\n",
       "      <td>1770.046198</td>\n",
       "      <td>0.000191</td>\n",
       "      <td>7.391231</td>\n",
       "      <td>1317.830035</td>\n",
       "      <td>25.055597</td>\n",
       "      <td>4.897430e-01</td>\n",
       "      <td>3.498773</td>\n",
       "      <td>1789.662941</td>\n",
       "      <td>400.0</td>\n",
       "    </tr>\n",
       "    <tr>\n",
       "      <th>74096</th>\n",
       "      <td>74094</td>\n",
       "      <td>7200.000000</td>\n",
       "      <td>460.0</td>\n",
       "      <td>429.384718</td>\n",
       "      <td>444.692359</td>\n",
       "      <td>NaN</td>\n",
       "      <td>0.143031</td>\n",
       "      <td>1769.921718</td>\n",
       "      <td>0.000269</td>\n",
       "      <td>2.381006</td>\n",
       "      <td>...</td>\n",
       "      <td>0.143225</td>\n",
       "      <td>1770.046174</td>\n",
       "      <td>0.000191</td>\n",
       "      <td>7.391263</td>\n",
       "      <td>1317.830481</td>\n",
       "      <td>25.055480</td>\n",
       "      <td>4.897453e-01</td>\n",
       "      <td>3.498757</td>\n",
       "      <td>1789.643856</td>\n",
       "      <td>400.0</td>\n",
       "    </tr>\n",
       "  </tbody>\n",
       "</table>\n",
       "<p>1449126 rows × 25 columns</p>\n",
       "</div>"
      ],
      "text/plain": [
       "       Time Step    flow-time     Tw        Tavg       Tfilm  Unnamed: 5  \\\n",
       "0              0     0.000000  540.0  400.000000  470.000000         NaN   \n",
       "1              1     0.000050  540.0  400.000177  470.000089         NaN   \n",
       "2              2     0.000100  540.0  400.000354  470.000177         NaN   \n",
       "3              3     0.000192  540.0  400.000680  470.000340         NaN   \n",
       "4              4     0.000370  540.0  400.001306  470.000653         NaN   \n",
       "...          ...          ...    ...         ...         ...         ...   \n",
       "74092      74090  7199.604681  460.0  429.384154  444.692077         NaN   \n",
       "74093      74091  7199.704681  460.0  429.384296  444.692148         NaN   \n",
       "74094      74092  7199.804681  460.0  429.384439  444.692220         NaN   \n",
       "74095      74093  7199.904681  460.0  429.384582  444.692291         NaN   \n",
       "74096      74094  7200.000000  460.0  429.384718  444.692359         NaN   \n",
       "\n",
       "          k(Tf)      rho(Tf)  beta(Tf)     mu(Tf)  ...         k          rho  \\\n",
       "0      0.153348  1757.520000  0.000295  42.665941  ...  0.150346  1755.567329   \n",
       "1      0.153348  1757.519945  0.000295  42.665994  ...  0.150346  1755.567275   \n",
       "2      0.153348  1757.519889  0.000295  42.666047  ...  0.150346  1755.567221   \n",
       "3      0.153348  1757.519788  0.000295  42.666145  ...  0.150346  1755.567122   \n",
       "4      0.153348  1757.519592  0.000295  42.666332  ...  0.150346  1755.566931   \n",
       "...         ...          ...       ...        ...  ...       ...          ...   \n",
       "74092  0.143031  1769.921799  0.000269   2.380730  ...  0.143225  1770.046274   \n",
       "74093  0.143031  1769.921778  0.000269   2.380800  ...  0.143225  1770.046249   \n",
       "74094  0.143031  1769.921758  0.000269   2.380870  ...  0.143225  1770.046223   \n",
       "74095  0.143031  1769.921737  0.000269   2.380940  ...  0.143225  1770.046198   \n",
       "74096  0.143031  1769.921718  0.000269   2.381006  ...  0.143225  1770.046174   \n",
       "\n",
       "           beta         mu           cp            h           soc  \\\n",
       "0      0.000337  18.067747  1138.744220  3668.866284 -1.660000e-09   \n",
       "1      0.000337  18.067770  1138.744379  3668.866284  1.270000e-06   \n",
       "2      0.000337  18.067793  1138.744537  3664.389437  2.530000e-06   \n",
       "3      0.000337  18.067835  1138.744828  3656.197577  4.860000e-06   \n",
       "4      0.000337  18.067915  1138.745389  3640.527400  9.330000e-06   \n",
       "...         ...        ...          ...          ...           ...   \n",
       "74092  0.000191   7.391127  1317.828630    25.055965  4.897359e-01   \n",
       "74093  0.000191   7.391162  1317.829099    25.055843  4.897383e-01   \n",
       "74094  0.000191   7.391196  1317.829567    25.055720  4.897406e-01   \n",
       "74095  0.000191   7.391231  1317.830035    25.055597  4.897430e-01   \n",
       "74096  0.000191   7.391263  1317.830481    25.055480  4.897453e-01   \n",
       "\n",
       "               nu           ra     Ti  \n",
       "0        0.000000  4783.512623  400.0  \n",
       "1      488.056078  4783.497728  400.0  \n",
       "2      487.460466  4783.482851  400.0  \n",
       "3      486.370599  4783.455535  400.0  \n",
       "4      484.285797  4783.402944  400.0  \n",
       "...           ...          ...    ...  \n",
       "74092    3.498827  1789.723008  400.0  \n",
       "74093    3.498809  1789.702985  400.0  \n",
       "74094    3.498791  1789.682963  400.0  \n",
       "74095    3.498773  1789.662941  400.0  \n",
       "74096    3.498757  1789.643856  400.0  \n",
       "\n",
       "[1449126 rows x 25 columns]"
      ]
     },
     "execution_count": 30,
     "metadata": {},
     "output_type": "execute_result"
    }
   ],
   "source": [
    "train_df_new"
   ]
  },
  {
   "cell_type": "code",
   "execution_count": 31,
   "id": "622fc7ba-24c6-4702-8567-3fdccce69a39",
   "metadata": {},
   "outputs": [
    {
     "name": "stderr",
     "output_type": "stream",
     "text": [
      "/Users/kmenear/Projects/envTFsulfurTES/lib/python3.7/site-packages/sklearn/utils/extmath.py:985: RuntimeWarning: invalid value encountered in true_divide\n",
      "  updated_mean = (last_sum + new_sum) / updated_sample_count\n",
      "/Users/kmenear/Projects/envTFsulfurTES/lib/python3.7/site-packages/sklearn/utils/extmath.py:990: RuntimeWarning: invalid value encountered in true_divide\n",
      "  T = new_sum / new_sample_count\n",
      "/Users/kmenear/Projects/envTFsulfurTES/lib/python3.7/site-packages/sklearn/utils/extmath.py:1020: RuntimeWarning: invalid value encountered in true_divide\n",
      "  new_unnormalized_variance -= correction ** 2 / new_sample_count\n"
     ]
    }
   ],
   "source": [
    "scaler_x = StandardScaler().fit(train_df_new)"
   ]
  },
  {
   "cell_type": "code",
   "execution_count": 34,
   "id": "1851e738-4176-4f66-878c-f388395e0384",
   "metadata": {},
   "outputs": [],
   "source": [
    "train_df_new_new = scaler_x.transform(train_df_new)"
   ]
  },
  {
   "cell_type": "code",
   "execution_count": 57,
   "id": "9715c3c8-76c7-4d8a-8ae9-42deb933e743",
   "metadata": {},
   "outputs": [],
   "source": [
    "train_df_new_df = pd.DataFrame()"
   ]
  },
  {
   "cell_type": "code",
   "execution_count": 67,
   "id": "4c74c6d0-1271-4105-9195-0f1aaf9d6c16",
   "metadata": {},
   "outputs": [],
   "source": [
    "train_df_new_df['flow-time'] = train_df_new_new[:,1]\n",
    "train_df_new_df['Tw'] = train_df_new_new[:,2]\n",
    "train_df_new_df['Tavg'] = train_df_new_new[:,3]\n",
    "train_df_new_df['h'] = train_df_new_new[:,20]\n",
    "train_df_new_df['Ti'] = train_df_new_new[:,24]"
   ]
  },
  {
   "cell_type": "code",
   "execution_count": 79,
   "id": "5fc39cf9-8f56-4a4a-ad29-29f4b05b3c7d",
   "metadata": {},
   "outputs": [
    {
     "data": {
      "text/html": [
       "<div>\n",
       "<style scoped>\n",
       "    .dataframe tbody tr th:only-of-type {\n",
       "        vertical-align: middle;\n",
       "    }\n",
       "\n",
       "    .dataframe tbody tr th {\n",
       "        vertical-align: top;\n",
       "    }\n",
       "\n",
       "    .dataframe thead th {\n",
       "        text-align: right;\n",
       "    }\n",
       "</style>\n",
       "<table border=\"1\" class=\"dataframe\">\n",
       "  <thead>\n",
       "    <tr style=\"text-align: right;\">\n",
       "      <th></th>\n",
       "      <th>flow-time</th>\n",
       "      <th>Tw</th>\n",
       "      <th>Tavg</th>\n",
       "      <th>h</th>\n",
       "      <th>Ti</th>\n",
       "    </tr>\n",
       "  </thead>\n",
       "  <tbody>\n",
       "    <tr>\n",
       "      <th>0</th>\n",
       "      <td>-1.712568</td>\n",
       "      <td>0.459348</td>\n",
       "      <td>-1.436151</td>\n",
       "      <td>64.663927</td>\n",
       "      <td>-0.770863</td>\n",
       "    </tr>\n",
       "    <tr>\n",
       "      <th>1</th>\n",
       "      <td>-1.712568</td>\n",
       "      <td>0.459348</td>\n",
       "      <td>-1.436146</td>\n",
       "      <td>64.663927</td>\n",
       "      <td>-0.770863</td>\n",
       "    </tr>\n",
       "    <tr>\n",
       "      <th>2</th>\n",
       "      <td>-1.712568</td>\n",
       "      <td>0.459348</td>\n",
       "      <td>-1.436141</td>\n",
       "      <td>64.584169</td>\n",
       "      <td>-0.770863</td>\n",
       "    </tr>\n",
       "    <tr>\n",
       "      <th>3</th>\n",
       "      <td>-1.712568</td>\n",
       "      <td>0.459348</td>\n",
       "      <td>-1.436133</td>\n",
       "      <td>64.438225</td>\n",
       "      <td>-0.770863</td>\n",
       "    </tr>\n",
       "    <tr>\n",
       "      <th>4</th>\n",
       "      <td>-1.712568</td>\n",
       "      <td>0.459348</td>\n",
       "      <td>-1.436116</td>\n",
       "      <td>64.159051</td>\n",
       "      <td>-0.770863</td>\n",
       "    </tr>\n",
       "    <tr>\n",
       "      <th>...</th>\n",
       "      <td>...</td>\n",
       "      <td>...</td>\n",
       "      <td>...</td>\n",
       "      <td>...</td>\n",
       "      <td>...</td>\n",
       "    </tr>\n",
       "    <tr>\n",
       "      <th>1449121</th>\n",
       "      <td>1.732929</td>\n",
       "      <td>-1.055363</td>\n",
       "      <td>-0.658025</td>\n",
       "      <td>-0.252908</td>\n",
       "      <td>-0.770863</td>\n",
       "    </tr>\n",
       "    <tr>\n",
       "      <th>1449122</th>\n",
       "      <td>1.732977</td>\n",
       "      <td>-1.055363</td>\n",
       "      <td>-0.658021</td>\n",
       "      <td>-0.252910</td>\n",
       "      <td>-0.770863</td>\n",
       "    </tr>\n",
       "    <tr>\n",
       "      <th>1449123</th>\n",
       "      <td>1.733025</td>\n",
       "      <td>-1.055363</td>\n",
       "      <td>-0.658017</td>\n",
       "      <td>-0.252912</td>\n",
       "      <td>-0.770863</td>\n",
       "    </tr>\n",
       "    <tr>\n",
       "      <th>1449124</th>\n",
       "      <td>1.733073</td>\n",
       "      <td>-1.055363</td>\n",
       "      <td>-0.658014</td>\n",
       "      <td>-0.252914</td>\n",
       "      <td>-0.770863</td>\n",
       "    </tr>\n",
       "    <tr>\n",
       "      <th>1449125</th>\n",
       "      <td>1.733118</td>\n",
       "      <td>-1.055363</td>\n",
       "      <td>-0.658010</td>\n",
       "      <td>-0.252916</td>\n",
       "      <td>-0.770863</td>\n",
       "    </tr>\n",
       "  </tbody>\n",
       "</table>\n",
       "<p>1449126 rows × 5 columns</p>\n",
       "</div>"
      ],
      "text/plain": [
       "         flow-time        Tw      Tavg          h        Ti\n",
       "0        -1.712568  0.459348 -1.436151  64.663927 -0.770863\n",
       "1        -1.712568  0.459348 -1.436146  64.663927 -0.770863\n",
       "2        -1.712568  0.459348 -1.436141  64.584169 -0.770863\n",
       "3        -1.712568  0.459348 -1.436133  64.438225 -0.770863\n",
       "4        -1.712568  0.459348 -1.436116  64.159051 -0.770863\n",
       "...            ...       ...       ...        ...       ...\n",
       "1449121   1.732929 -1.055363 -0.658025  -0.252908 -0.770863\n",
       "1449122   1.732977 -1.055363 -0.658021  -0.252910 -0.770863\n",
       "1449123   1.733025 -1.055363 -0.658017  -0.252912 -0.770863\n",
       "1449124   1.733073 -1.055363 -0.658014  -0.252914 -0.770863\n",
       "1449125   1.733118 -1.055363 -0.658010  -0.252916 -0.770863\n",
       "\n",
       "[1449126 rows x 5 columns]"
      ]
     },
     "execution_count": 79,
     "metadata": {},
     "output_type": "execute_result"
    }
   ],
   "source": [
    "train_df_new_df"
   ]
  },
  {
   "cell_type": "code",
   "execution_count": 70,
   "id": "d11dcd71-781e-447a-8451-11a6a8205880",
   "metadata": {},
   "outputs": [],
   "source": [
    "df_arr = []\n",
    "for idx, grp in train_df_new_df.groupby([\"Tw\", \"Ti\"]):\n",
    "    df_arr.append(grp)"
   ]
  },
  {
   "cell_type": "code",
   "execution_count": 87,
   "id": "7aa11c6d-0371-4ca4-bcaa-16aa5f84e363",
   "metadata": {},
   "outputs": [
    {
     "name": "stdout",
     "output_type": "stream",
     "text": [
      "Int64Index([288731, 288732, 288733, 288734, 288735, 288736, 288737, 288738,\n",
      "            288739, 288740,\n",
      "            ...\n",
      "            362197, 362198, 362199, 362200, 362201, 362202, 362203, 362204,\n",
      "            362205, 362206],\n",
      "           dtype='int64', length=73476)\n"
     ]
    }
   ],
   "source": [
    "print(df_arr[0].index)"
   ]
  },
  {
   "cell_type": "code",
   "execution_count": 72,
   "id": "cfac69ea-b395-457b-bb95-2ad94cc66e1b",
   "metadata": {},
   "outputs": [
    {
     "ename": "KeyError",
     "evalue": "0",
     "output_type": "error",
     "traceback": [
      "\u001b[0;31m---------------------------------------------------------------------------\u001b[0m",
      "\u001b[0;31mKeyError\u001b[0m                                  Traceback (most recent call last)",
      "\u001b[0;32m~/Projects/envTFsulfurTES/lib/python3.7/site-packages/pandas/core/indexes/base.py\u001b[0m in \u001b[0;36mget_loc\u001b[0;34m(self, key, method, tolerance)\u001b[0m\n\u001b[1;32m   3360\u001b[0m             \u001b[0;32mtry\u001b[0m\u001b[0;34m:\u001b[0m\u001b[0;34m\u001b[0m\u001b[0;34m\u001b[0m\u001b[0m\n\u001b[0;32m-> 3361\u001b[0;31m                 \u001b[0;32mreturn\u001b[0m \u001b[0mself\u001b[0m\u001b[0;34m.\u001b[0m\u001b[0m_engine\u001b[0m\u001b[0;34m.\u001b[0m\u001b[0mget_loc\u001b[0m\u001b[0;34m(\u001b[0m\u001b[0mcasted_key\u001b[0m\u001b[0;34m)\u001b[0m\u001b[0;34m\u001b[0m\u001b[0;34m\u001b[0m\u001b[0m\n\u001b[0m\u001b[1;32m   3362\u001b[0m             \u001b[0;32mexcept\u001b[0m \u001b[0mKeyError\u001b[0m \u001b[0;32mas\u001b[0m \u001b[0merr\u001b[0m\u001b[0;34m:\u001b[0m\u001b[0;34m\u001b[0m\u001b[0;34m\u001b[0m\u001b[0m\n",
      "\u001b[0;32m~/Projects/envTFsulfurTES/lib/python3.7/site-packages/pandas/_libs/index.pyx\u001b[0m in \u001b[0;36mpandas._libs.index.IndexEngine.get_loc\u001b[0;34m()\u001b[0m\n",
      "\u001b[0;32m~/Projects/envTFsulfurTES/lib/python3.7/site-packages/pandas/_libs/index.pyx\u001b[0m in \u001b[0;36mpandas._libs.index.IndexEngine.get_loc\u001b[0;34m()\u001b[0m\n",
      "\u001b[0;32mpandas/_libs/hashtable_class_helper.pxi\u001b[0m in \u001b[0;36mpandas._libs.hashtable.Int64HashTable.get_item\u001b[0;34m()\u001b[0m\n",
      "\u001b[0;32mpandas/_libs/hashtable_class_helper.pxi\u001b[0m in \u001b[0;36mpandas._libs.hashtable.Int64HashTable.get_item\u001b[0;34m()\u001b[0m\n",
      "\u001b[0;31mKeyError\u001b[0m: 0",
      "\nThe above exception was the direct cause of the following exception:\n",
      "\u001b[0;31mKeyError\u001b[0m                                  Traceback (most recent call last)",
      "\u001b[0;32m/var/folders/cy/yhfymg2j61gfl448mb_195qxlvt1vt/T/ipykernel_17511/4192024676.py\u001b[0m in \u001b[0;36m<module>\u001b[0;34m\u001b[0m\n\u001b[1;32m      4\u001b[0m     \u001b[0mtrain_data\u001b[0m\u001b[0;34m.\u001b[0m\u001b[0mappend\u001b[0m\u001b[0;34m(\u001b[0m\u001b[0mlist\u001b[0m\u001b[0;34m(\u001b[0m\u001b[0;34m)\u001b[0m\u001b[0;34m)\u001b[0m\u001b[0;34m\u001b[0m\u001b[0;34m\u001b[0m\u001b[0m\n\u001b[1;32m      5\u001b[0m     \u001b[0;32mfor\u001b[0m \u001b[0mj\u001b[0m \u001b[0;32min\u001b[0m \u001b[0mrange\u001b[0m\u001b[0;34m(\u001b[0m\u001b[0msample\u001b[0m\u001b[0;34m.\u001b[0m\u001b[0mshape\u001b[0m\u001b[0;34m[\u001b[0m\u001b[0;36m0\u001b[0m\u001b[0;34m]\u001b[0m\u001b[0;34m)\u001b[0m\u001b[0;34m:\u001b[0m\u001b[0;34m\u001b[0m\u001b[0;34m\u001b[0m\u001b[0m\n\u001b[0;32m----> 6\u001b[0;31m         \u001b[0mtrain_data\u001b[0m\u001b[0;34m[\u001b[0m\u001b[0mi\u001b[0m\u001b[0;34m]\u001b[0m\u001b[0;34m.\u001b[0m\u001b[0mappend\u001b[0m\u001b[0;34m(\u001b[0m\u001b[0;34m[\u001b[0m\u001b[0msample\u001b[0m\u001b[0;34m[\u001b[0m\u001b[0;34m'Tw'\u001b[0m\u001b[0;34m]\u001b[0m\u001b[0;34m[\u001b[0m\u001b[0mj\u001b[0m\u001b[0;34m]\u001b[0m\u001b[0;34m,\u001b[0m\u001b[0msample\u001b[0m\u001b[0;34m[\u001b[0m\u001b[0;34m'Ti'\u001b[0m\u001b[0;34m]\u001b[0m\u001b[0;34m[\u001b[0m\u001b[0mj\u001b[0m\u001b[0;34m]\u001b[0m\u001b[0;34m,\u001b[0m\u001b[0msample\u001b[0m\u001b[0;34m[\u001b[0m\u001b[0;34m'Tavg'\u001b[0m\u001b[0;34m]\u001b[0m\u001b[0;34m[\u001b[0m\u001b[0mj\u001b[0m\u001b[0;34m]\u001b[0m\u001b[0;34m]\u001b[0m\u001b[0;34m)\u001b[0m\u001b[0;34m\u001b[0m\u001b[0;34m\u001b[0m\u001b[0m\n\u001b[0m",
      "\u001b[0;32m~/Projects/envTFsulfurTES/lib/python3.7/site-packages/pandas/core/series.py\u001b[0m in \u001b[0;36m__getitem__\u001b[0;34m(self, key)\u001b[0m\n\u001b[1;32m    940\u001b[0m \u001b[0;34m\u001b[0m\u001b[0m\n\u001b[1;32m    941\u001b[0m         \u001b[0;32melif\u001b[0m \u001b[0mkey_is_scalar\u001b[0m\u001b[0;34m:\u001b[0m\u001b[0;34m\u001b[0m\u001b[0;34m\u001b[0m\u001b[0m\n\u001b[0;32m--> 942\u001b[0;31m             \u001b[0;32mreturn\u001b[0m \u001b[0mself\u001b[0m\u001b[0;34m.\u001b[0m\u001b[0m_get_value\u001b[0m\u001b[0;34m(\u001b[0m\u001b[0mkey\u001b[0m\u001b[0;34m)\u001b[0m\u001b[0;34m\u001b[0m\u001b[0;34m\u001b[0m\u001b[0m\n\u001b[0m\u001b[1;32m    943\u001b[0m \u001b[0;34m\u001b[0m\u001b[0m\n\u001b[1;32m    944\u001b[0m         \u001b[0;32mif\u001b[0m \u001b[0mis_hashable\u001b[0m\u001b[0;34m(\u001b[0m\u001b[0mkey\u001b[0m\u001b[0;34m)\u001b[0m\u001b[0;34m:\u001b[0m\u001b[0;34m\u001b[0m\u001b[0;34m\u001b[0m\u001b[0m\n",
      "\u001b[0;32m~/Projects/envTFsulfurTES/lib/python3.7/site-packages/pandas/core/series.py\u001b[0m in \u001b[0;36m_get_value\u001b[0;34m(self, label, takeable)\u001b[0m\n\u001b[1;32m   1049\u001b[0m \u001b[0;34m\u001b[0m\u001b[0m\n\u001b[1;32m   1050\u001b[0m         \u001b[0;31m# Similar to Index.get_value, but we do not fall back to positional\u001b[0m\u001b[0;34m\u001b[0m\u001b[0;34m\u001b[0m\u001b[0;34m\u001b[0m\u001b[0m\n\u001b[0;32m-> 1051\u001b[0;31m         \u001b[0mloc\u001b[0m \u001b[0;34m=\u001b[0m \u001b[0mself\u001b[0m\u001b[0;34m.\u001b[0m\u001b[0mindex\u001b[0m\u001b[0;34m.\u001b[0m\u001b[0mget_loc\u001b[0m\u001b[0;34m(\u001b[0m\u001b[0mlabel\u001b[0m\u001b[0;34m)\u001b[0m\u001b[0;34m\u001b[0m\u001b[0;34m\u001b[0m\u001b[0m\n\u001b[0m\u001b[1;32m   1052\u001b[0m         \u001b[0;32mreturn\u001b[0m \u001b[0mself\u001b[0m\u001b[0;34m.\u001b[0m\u001b[0mindex\u001b[0m\u001b[0;34m.\u001b[0m\u001b[0m_get_values_for_loc\u001b[0m\u001b[0;34m(\u001b[0m\u001b[0mself\u001b[0m\u001b[0;34m,\u001b[0m \u001b[0mloc\u001b[0m\u001b[0;34m,\u001b[0m \u001b[0mlabel\u001b[0m\u001b[0;34m)\u001b[0m\u001b[0;34m\u001b[0m\u001b[0;34m\u001b[0m\u001b[0m\n\u001b[1;32m   1053\u001b[0m \u001b[0;34m\u001b[0m\u001b[0m\n",
      "\u001b[0;32m~/Projects/envTFsulfurTES/lib/python3.7/site-packages/pandas/core/indexes/base.py\u001b[0m in \u001b[0;36mget_loc\u001b[0;34m(self, key, method, tolerance)\u001b[0m\n\u001b[1;32m   3361\u001b[0m                 \u001b[0;32mreturn\u001b[0m \u001b[0mself\u001b[0m\u001b[0;34m.\u001b[0m\u001b[0m_engine\u001b[0m\u001b[0;34m.\u001b[0m\u001b[0mget_loc\u001b[0m\u001b[0;34m(\u001b[0m\u001b[0mcasted_key\u001b[0m\u001b[0;34m)\u001b[0m\u001b[0;34m\u001b[0m\u001b[0;34m\u001b[0m\u001b[0m\n\u001b[1;32m   3362\u001b[0m             \u001b[0;32mexcept\u001b[0m \u001b[0mKeyError\u001b[0m \u001b[0;32mas\u001b[0m \u001b[0merr\u001b[0m\u001b[0;34m:\u001b[0m\u001b[0;34m\u001b[0m\u001b[0;34m\u001b[0m\u001b[0m\n\u001b[0;32m-> 3363\u001b[0;31m                 \u001b[0;32mraise\u001b[0m \u001b[0mKeyError\u001b[0m\u001b[0;34m(\u001b[0m\u001b[0mkey\u001b[0m\u001b[0;34m)\u001b[0m \u001b[0;32mfrom\u001b[0m \u001b[0merr\u001b[0m\u001b[0;34m\u001b[0m\u001b[0;34m\u001b[0m\u001b[0m\n\u001b[0m\u001b[1;32m   3364\u001b[0m \u001b[0;34m\u001b[0m\u001b[0m\n\u001b[1;32m   3365\u001b[0m         \u001b[0;32mif\u001b[0m \u001b[0mis_scalar\u001b[0m\u001b[0;34m(\u001b[0m\u001b[0mkey\u001b[0m\u001b[0;34m)\u001b[0m \u001b[0;32mand\u001b[0m \u001b[0misna\u001b[0m\u001b[0;34m(\u001b[0m\u001b[0mkey\u001b[0m\u001b[0;34m)\u001b[0m \u001b[0;32mand\u001b[0m \u001b[0;32mnot\u001b[0m \u001b[0mself\u001b[0m\u001b[0;34m.\u001b[0m\u001b[0mhasnans\u001b[0m\u001b[0;34m:\u001b[0m\u001b[0;34m\u001b[0m\u001b[0;34m\u001b[0m\u001b[0m\n",
      "\u001b[0;31mKeyError\u001b[0m: 0"
     ]
    }
   ],
   "source": [
    "train_data = list()\n",
    "\n",
    "for i, sample in enumerate(df_arr):\n",
    "    train_data.append(list())\n",
    "    for j in range(sample.index):\n",
    "        train_data[i].append([sample['Tw'][j],sample['Ti'][j],sample['Tavg'][j]])"
   ]
  },
  {
   "cell_type": "code",
   "execution_count": 16,
   "id": "32df81ef-7323-4a25-a7e8-55596b1dd8c5",
   "metadata": {},
   "outputs": [],
   "source": [
    "n_steps = 10\n",
    "n_features = 3"
   ]
  },
  {
   "cell_type": "code",
   "execution_count": 17,
   "id": "2ec1cd58-e2d6-49e1-8525-afee6e9301cf",
   "metadata": {},
   "outputs": [],
   "source": [
    "test_data = list()\n",
    "test_data_initial = list()\n",
    "\n",
    "for i, sample in enumerate(test_df):\n",
    "    test_data.append(list())\n",
    "    test_data_initial.append(list())\n",
    "    for j in range(sample.shape[0]):\n",
    "        if j < n_steps:\n",
    "            test_data_initial[i].append([sample['Tw'][j],sample['Ti'][j],sample['Tavg'][j]])\n",
    "        test_data[i].append([sample['Tw'][j],sample['Ti'][j],sample['Tavg'][j]])"
   ]
  },
  {
   "cell_type": "code",
   "execution_count": 18,
   "id": "a00860a7-d1ac-4bfb-9000-58d3204ad59b",
   "metadata": {},
   "outputs": [],
   "source": [
    "# split a univariate sequence\n",
    "def split_sequence(sequences, n_steps):\n",
    "    X, y = list(), list()\n",
    "    for sequence in sequences:\n",
    "        for i in range(len(sequence)):\n",
    "            # find the end of this pattern\n",
    "            end_ix = i + n_steps\n",
    "            # check if we are beyond the sequence\n",
    "            if end_ix > len(sequence)-1:\n",
    "                break\n",
    "            # gather input and output parts of the pattern\n",
    "            seq_x, seq_y = sequence[i:end_ix], sequence[end_ix][2]\n",
    "            X.append(seq_x)\n",
    "            y.append(seq_y)\n",
    "    return array(X), array(y)"
   ]
  },
  {
   "cell_type": "code",
   "execution_count": 19,
   "id": "16a12290-a0f6-4693-a0db-70972f6b8d7a",
   "metadata": {},
   "outputs": [],
   "source": [
    "# split into samples\n",
    "X_train, y_train = split_sequence(train_data, n_steps)\n",
    "X_test, y_test = split_sequence(test_data, n_steps)\n",
    "# reshape from [samples, timesteps] into [samples, timesteps, features]\n",
    "X_train = X_train.reshape((X_train.shape[0], X_train.shape[1], n_features))\n",
    "X_test = X_test.reshape((X_test.shape[0], X_test.shape[1], n_features))"
   ]
  },
  {
   "cell_type": "code",
   "execution_count": 44,
   "id": "cc610af6-5cb4-46b5-91ea-5f51f94452f2",
   "metadata": {},
   "outputs": [
    {
     "data": {
      "text/plain": [
       "array([[540.       , 400.       , 399.9999998],\n",
       "       [540.       , 400.       , 400.0001772],\n",
       "       [540.       , 400.       , 400.0003544],\n",
       "       [540.       , 400.       , 400.0006799],\n",
       "       [540.       , 400.       , 400.0013064],\n",
       "       [540.       , 400.       , 400.0025506],\n",
       "       [540.       , 400.       , 400.0050056],\n",
       "       [540.       , 400.       , 400.0097933],\n",
       "       [540.       , 400.       , 400.0189551],\n",
       "       [540.       , 400.       , 400.0342836]])"
      ]
     },
     "execution_count": 44,
     "metadata": {},
     "output_type": "execute_result"
    }
   ],
   "source": []
  },
  {
   "cell_type": "code",
   "execution_count": 20,
   "id": "a4afcd4e-d2b7-4c67-a919-5f4796db6fe9",
   "metadata": {},
   "outputs": [
    {
     "ename": "ValueError",
     "evalue": "Found array with dim 3. StandardScaler expected <= 2.",
     "output_type": "error",
     "traceback": [
      "\u001b[0;31m---------------------------------------------------------------------------\u001b[0m",
      "\u001b[0;31mValueError\u001b[0m                                Traceback (most recent call last)",
      "\u001b[0;32m/var/folders/cy/yhfymg2j61gfl448mb_195qxlvt1vt/T/ipykernel_17511/103472032.py\u001b[0m in \u001b[0;36m<module>\u001b[0;34m\u001b[0m\n\u001b[1;32m      1\u001b[0m \u001b[0mscale\u001b[0m \u001b[0;34m=\u001b[0m \u001b[0;32mTrue\u001b[0m\u001b[0;34m\u001b[0m\u001b[0;34m\u001b[0m\u001b[0m\n\u001b[1;32m      2\u001b[0m \u001b[0;32mif\u001b[0m \u001b[0mscale\u001b[0m\u001b[0;34m:\u001b[0m\u001b[0;34m\u001b[0m\u001b[0;34m\u001b[0m\u001b[0m\n\u001b[0;32m----> 3\u001b[0;31m     \u001b[0mX_train\u001b[0m\u001b[0;34m,\u001b[0m \u001b[0my_train\u001b[0m\u001b[0;34m,\u001b[0m \u001b[0mX_test\u001b[0m\u001b[0;34m,\u001b[0m \u001b[0my_test\u001b[0m\u001b[0;34m,\u001b[0m \u001b[0mscaler_x\u001b[0m\u001b[0;34m,\u001b[0m \u001b[0mscaler_y\u001b[0m \u001b[0;34m=\u001b[0m \u001b[0mscale_data\u001b[0m\u001b[0;34m(\u001b[0m\u001b[0mX_train\u001b[0m\u001b[0;34m,\u001b[0m \u001b[0my_train\u001b[0m\u001b[0;34m,\u001b[0m \u001b[0mX_test\u001b[0m\u001b[0;34m,\u001b[0m \u001b[0my_test\u001b[0m\u001b[0;34m)\u001b[0m\u001b[0;34m\u001b[0m\u001b[0;34m\u001b[0m\u001b[0m\n\u001b[0m",
      "\u001b[0;32m/var/folders/cy/yhfymg2j61gfl448mb_195qxlvt1vt/T/ipykernel_17511/985254177.py\u001b[0m in \u001b[0;36mscale_data\u001b[0;34m(X_train, y_train, X_test, y_test)\u001b[0m\n\u001b[1;32m      1\u001b[0m \u001b[0;32mdef\u001b[0m \u001b[0mscale_data\u001b[0m\u001b[0;34m(\u001b[0m\u001b[0mX_train\u001b[0m\u001b[0;34m,\u001b[0m \u001b[0my_train\u001b[0m\u001b[0;34m,\u001b[0m \u001b[0mX_test\u001b[0m\u001b[0;34m,\u001b[0m \u001b[0my_test\u001b[0m\u001b[0;34m)\u001b[0m\u001b[0;34m:\u001b[0m\u001b[0;34m\u001b[0m\u001b[0;34m\u001b[0m\u001b[0m\n\u001b[0;32m----> 2\u001b[0;31m     \u001b[0mscaler_x\u001b[0m \u001b[0;34m=\u001b[0m \u001b[0mStandardScaler\u001b[0m\u001b[0;34m(\u001b[0m\u001b[0;34m)\u001b[0m\u001b[0;34m.\u001b[0m\u001b[0mfit\u001b[0m\u001b[0;34m(\u001b[0m\u001b[0mX_train\u001b[0m\u001b[0;34m)\u001b[0m\u001b[0;34m\u001b[0m\u001b[0;34m\u001b[0m\u001b[0m\n\u001b[0m\u001b[1;32m      3\u001b[0m     \u001b[0mX_train\u001b[0m \u001b[0;34m=\u001b[0m \u001b[0mscaler_x\u001b[0m\u001b[0;34m.\u001b[0m\u001b[0mtransform\u001b[0m\u001b[0;34m(\u001b[0m\u001b[0mX_train\u001b[0m\u001b[0;34m)\u001b[0m\u001b[0;34m\u001b[0m\u001b[0;34m\u001b[0m\u001b[0m\n\u001b[1;32m      4\u001b[0m     \u001b[0mX_test\u001b[0m \u001b[0;34m=\u001b[0m \u001b[0mscaler_x\u001b[0m\u001b[0;34m.\u001b[0m\u001b[0mtransform\u001b[0m\u001b[0;34m(\u001b[0m\u001b[0mX_test\u001b[0m\u001b[0;34m)\u001b[0m\u001b[0;34m\u001b[0m\u001b[0;34m\u001b[0m\u001b[0m\n\u001b[1;32m      5\u001b[0m \u001b[0;34m\u001b[0m\u001b[0m\n",
      "\u001b[0;32m~/Projects/envTFsulfurTES/lib/python3.7/site-packages/sklearn/preprocessing/_data.py\u001b[0m in \u001b[0;36mfit\u001b[0;34m(self, X, y, sample_weight)\u001b[0m\n\u001b[1;32m    804\u001b[0m         \u001b[0;31m# Reset internal state before fitting\u001b[0m\u001b[0;34m\u001b[0m\u001b[0;34m\u001b[0m\u001b[0;34m\u001b[0m\u001b[0m\n\u001b[1;32m    805\u001b[0m         \u001b[0mself\u001b[0m\u001b[0;34m.\u001b[0m\u001b[0m_reset\u001b[0m\u001b[0;34m(\u001b[0m\u001b[0;34m)\u001b[0m\u001b[0;34m\u001b[0m\u001b[0;34m\u001b[0m\u001b[0m\n\u001b[0;32m--> 806\u001b[0;31m         \u001b[0;32mreturn\u001b[0m \u001b[0mself\u001b[0m\u001b[0;34m.\u001b[0m\u001b[0mpartial_fit\u001b[0m\u001b[0;34m(\u001b[0m\u001b[0mX\u001b[0m\u001b[0;34m,\u001b[0m \u001b[0my\u001b[0m\u001b[0;34m,\u001b[0m \u001b[0msample_weight\u001b[0m\u001b[0;34m)\u001b[0m\u001b[0;34m\u001b[0m\u001b[0;34m\u001b[0m\u001b[0m\n\u001b[0m\u001b[1;32m    807\u001b[0m \u001b[0;34m\u001b[0m\u001b[0m\n\u001b[1;32m    808\u001b[0m     \u001b[0;32mdef\u001b[0m \u001b[0mpartial_fit\u001b[0m\u001b[0;34m(\u001b[0m\u001b[0mself\u001b[0m\u001b[0;34m,\u001b[0m \u001b[0mX\u001b[0m\u001b[0;34m,\u001b[0m \u001b[0my\u001b[0m\u001b[0;34m=\u001b[0m\u001b[0;32mNone\u001b[0m\u001b[0;34m,\u001b[0m \u001b[0msample_weight\u001b[0m\u001b[0;34m=\u001b[0m\u001b[0;32mNone\u001b[0m\u001b[0;34m)\u001b[0m\u001b[0;34m:\u001b[0m\u001b[0;34m\u001b[0m\u001b[0;34m\u001b[0m\u001b[0m\n",
      "\u001b[0;32m~/Projects/envTFsulfurTES/lib/python3.7/site-packages/sklearn/preprocessing/_data.py\u001b[0m in \u001b[0;36mpartial_fit\u001b[0;34m(self, X, y, sample_weight)\u001b[0m\n\u001b[1;32m    845\u001b[0m             \u001b[0mdtype\u001b[0m\u001b[0;34m=\u001b[0m\u001b[0mFLOAT_DTYPES\u001b[0m\u001b[0;34m,\u001b[0m\u001b[0;34m\u001b[0m\u001b[0;34m\u001b[0m\u001b[0m\n\u001b[1;32m    846\u001b[0m             \u001b[0mforce_all_finite\u001b[0m\u001b[0;34m=\u001b[0m\u001b[0;34m\"allow-nan\"\u001b[0m\u001b[0;34m,\u001b[0m\u001b[0;34m\u001b[0m\u001b[0;34m\u001b[0m\u001b[0m\n\u001b[0;32m--> 847\u001b[0;31m             \u001b[0mreset\u001b[0m\u001b[0;34m=\u001b[0m\u001b[0mfirst_call\u001b[0m\u001b[0;34m,\u001b[0m\u001b[0;34m\u001b[0m\u001b[0;34m\u001b[0m\u001b[0m\n\u001b[0m\u001b[1;32m    848\u001b[0m         )\n\u001b[1;32m    849\u001b[0m         \u001b[0mn_features\u001b[0m \u001b[0;34m=\u001b[0m \u001b[0mX\u001b[0m\u001b[0;34m.\u001b[0m\u001b[0mshape\u001b[0m\u001b[0;34m[\u001b[0m\u001b[0;36m1\u001b[0m\u001b[0;34m]\u001b[0m\u001b[0;34m\u001b[0m\u001b[0;34m\u001b[0m\u001b[0m\n",
      "\u001b[0;32m~/Projects/envTFsulfurTES/lib/python3.7/site-packages/sklearn/base.py\u001b[0m in \u001b[0;36m_validate_data\u001b[0;34m(self, X, y, reset, validate_separately, **check_params)\u001b[0m\n\u001b[1;32m    564\u001b[0m             \u001b[0;32mraise\u001b[0m \u001b[0mValueError\u001b[0m\u001b[0;34m(\u001b[0m\u001b[0;34m\"Validation should be done on X, y or both.\"\u001b[0m\u001b[0;34m)\u001b[0m\u001b[0;34m\u001b[0m\u001b[0;34m\u001b[0m\u001b[0m\n\u001b[1;32m    565\u001b[0m         \u001b[0;32melif\u001b[0m \u001b[0;32mnot\u001b[0m \u001b[0mno_val_X\u001b[0m \u001b[0;32mand\u001b[0m \u001b[0mno_val_y\u001b[0m\u001b[0;34m:\u001b[0m\u001b[0;34m\u001b[0m\u001b[0;34m\u001b[0m\u001b[0m\n\u001b[0;32m--> 566\u001b[0;31m             \u001b[0mX\u001b[0m \u001b[0;34m=\u001b[0m \u001b[0mcheck_array\u001b[0m\u001b[0;34m(\u001b[0m\u001b[0mX\u001b[0m\u001b[0;34m,\u001b[0m \u001b[0;34m**\u001b[0m\u001b[0mcheck_params\u001b[0m\u001b[0;34m)\u001b[0m\u001b[0;34m\u001b[0m\u001b[0;34m\u001b[0m\u001b[0m\n\u001b[0m\u001b[1;32m    567\u001b[0m             \u001b[0mout\u001b[0m \u001b[0;34m=\u001b[0m \u001b[0mX\u001b[0m\u001b[0;34m\u001b[0m\u001b[0;34m\u001b[0m\u001b[0m\n\u001b[1;32m    568\u001b[0m         \u001b[0;32melif\u001b[0m \u001b[0mno_val_X\u001b[0m \u001b[0;32mand\u001b[0m \u001b[0;32mnot\u001b[0m \u001b[0mno_val_y\u001b[0m\u001b[0;34m:\u001b[0m\u001b[0;34m\u001b[0m\u001b[0;34m\u001b[0m\u001b[0m\n",
      "\u001b[0;32m~/Projects/envTFsulfurTES/lib/python3.7/site-packages/sklearn/utils/validation.py\u001b[0m in \u001b[0;36mcheck_array\u001b[0;34m(array, accept_sparse, accept_large_sparse, dtype, order, copy, force_all_finite, ensure_2d, allow_nd, ensure_min_samples, ensure_min_features, estimator)\u001b[0m\n\u001b[1;32m    794\u001b[0m             raise ValueError(\n\u001b[1;32m    795\u001b[0m                 \u001b[0;34m\"Found array with dim %d. %s expected <= 2.\"\u001b[0m\u001b[0;34m\u001b[0m\u001b[0;34m\u001b[0m\u001b[0m\n\u001b[0;32m--> 796\u001b[0;31m                 \u001b[0;34m%\u001b[0m \u001b[0;34m(\u001b[0m\u001b[0marray\u001b[0m\u001b[0;34m.\u001b[0m\u001b[0mndim\u001b[0m\u001b[0;34m,\u001b[0m \u001b[0mestimator_name\u001b[0m\u001b[0;34m)\u001b[0m\u001b[0;34m\u001b[0m\u001b[0;34m\u001b[0m\u001b[0m\n\u001b[0m\u001b[1;32m    797\u001b[0m             )\n\u001b[1;32m    798\u001b[0m \u001b[0;34m\u001b[0m\u001b[0m\n",
      "\u001b[0;31mValueError\u001b[0m: Found array with dim 3. StandardScaler expected <= 2."
     ]
    }
   ],
   "source": [
    "scale = True\n",
    "if scale:\n",
    "    X_train, y_train, X_test, y_test, scaler_x, scaler_y = scale_data(X_train, y_train, X_test, y_test)"
   ]
  },
  {
   "cell_type": "code",
   "execution_count": 18,
   "id": "393a62cc-c752-49bc-8a53-13717012132d",
   "metadata": {
    "tags": []
   },
   "outputs": [
    {
     "name": "stderr",
     "output_type": "stream",
     "text": [
      "2022-06-22 12:08:29.103859: I tensorflow/core/platform/cpu_feature_guard.cc:145] This TensorFlow binary is optimized with Intel(R) MKL-DNN to use the following CPU instructions in performance critical operations:  SSE4.1 SSE4.2 AVX AVX2 FMA\n",
      "To enable them in non-MKL-DNN operations, rebuild TensorFlow with the appropriate compiler flags.\n",
      "2022-06-22 12:08:29.104309: I tensorflow/core/common_runtime/process_util.cc:115] Creating new thread pool with default inter op setting: 12. Tune using inter_op_parallelism_threads for best performance.\n"
     ]
    }
   ],
   "source": [
    "model = Sequential()\n",
    "model.add(LSTM(50, activation='relu', return_sequences=False, input_shape=(n_steps, n_features)))\n",
    "#model.add(LSTM(50, activation='relu'))\n",
    "model.add(Dense(1))\n",
    "model.compile(optimizer='adam', loss='mse')"
   ]
  },
  {
   "cell_type": "code",
   "execution_count": 19,
   "id": "93606542-9897-425d-842e-16e51f0cd02f",
   "metadata": {},
   "outputs": [
    {
     "name": "stdout",
     "output_type": "stream",
     "text": [
      "Model: \"sequential\"\n",
      "_________________________________________________________________\n",
      "Layer (type)                 Output Shape              Param #   \n",
      "=================================================================\n",
      "lstm (LSTM)                  (None, 50)                10800     \n",
      "_________________________________________________________________\n",
      "dense (Dense)                (None, 1)                 51        \n",
      "=================================================================\n",
      "Total params: 10,851\n",
      "Trainable params: 10,851\n",
      "Non-trainable params: 0\n",
      "_________________________________________________________________\n"
     ]
    }
   ],
   "source": [
    "model.summary()"
   ]
  },
  {
   "cell_type": "code",
   "execution_count": 20,
   "id": "bcd3740b-afa6-4bd5-8f2a-7064eb1f567b",
   "metadata": {},
   "outputs": [
    {
     "name": "stdout",
     "output_type": "stream",
     "text": [
      "Train on 1448926 samples, validate on 360073 samples\n",
      "Epoch 1/3\n",
      "    300/1448926 [..............................] - ETA: 5:24:24 - loss: 285097.1250"
     ]
    },
    {
     "name": "stderr",
     "output_type": "stream",
     "text": [
      "2022-06-22 12:08:37.604836: I tensorflow/core/profiler/lib/profiler_session.cc:184] Profiler session started.\n"
     ]
    },
    {
     "name": "stdout",
     "output_type": "stream",
     "text": [
      "1448926/1448926 [==============================] - 379s 261us/sample - loss: 1206.4783 - val_loss: 5.2195\n",
      "Epoch 2/3\n",
      "1448926/1448926 [==============================] - 420s 290us/sample - loss: 1.4047 - val_loss: 1.4746\n",
      "Epoch 3/3\n",
      "1448926/1448926 [==============================] - 366s 253us/sample - loss: 7.4829 - val_loss: 0.3014\n"
     ]
    },
    {
     "data": {
      "text/plain": [
       "<tensorflow.python.keras.callbacks.History at 0x7fdfe11a8810>"
      ]
     },
     "execution_count": 20,
     "metadata": {},
     "output_type": "execute_result"
    }
   ],
   "source": [
    "model.fit(x=X_train, \n",
    "          y=y_train,\n",
    "          batch_size=300,\n",
    "          epochs=3, \n",
    "          validation_data=(X_test, y_test), \n",
    "          callbacks=[tensorboard_callback])"
   ]
  },
  {
   "cell_type": "code",
   "execution_count": 21,
   "id": "93a7e249-165a-425d-8433-36c156c23d88",
   "metadata": {},
   "outputs": [
    {
     "name": "stdout",
     "output_type": "stream",
     "text": [
      "Train on 1448926 samples, validate on 360073 samples\n",
      "1448926/1448926 [==============================] - 80s 55us/sample - loss: 0.1149 - val_loss: 0.1751\n"
     ]
    },
    {
     "data": {
      "text/plain": [
       "<tensorflow.python.keras.callbacks.History at 0x7fdf1b79c8d0>"
      ]
     },
     "execution_count": 21,
     "metadata": {},
     "output_type": "execute_result"
    }
   ],
   "source": [
    "model.fit(x=X_train, \n",
    "          y=y_train,\n",
    "          batch_size=72020 - n_steps,\n",
    "          epochs=1, \n",
    "          validation_data=(X_test, y_test), \n",
    "          callbacks=[tensorboard_callback])"
   ]
  },
  {
   "cell_type": "code",
   "execution_count": 22,
   "id": "37ab6322-3a60-4fa5-be54-204f6d6ef7f9",
   "metadata": {},
   "outputs": [],
   "source": [
    "# split a univariate sequence\n",
    "def split_initial_sequence(sequences, n_steps):\n",
    "    X = list()\n",
    "    for sequence in sequences:\n",
    "        for i in range(len(sequence)):\n",
    "            # find the end of this pattern\n",
    "            end_ix = i + n_steps\n",
    "            # check if we are beyond the sequence\n",
    "            if end_ix > len(sequence):\n",
    "                break\n",
    "            # gather input and output parts of the pattern\n",
    "            seq_x = sequence[i:end_ix]\n",
    "            X.append(seq_x)\n",
    "    return array(X)"
   ]
  },
  {
   "cell_type": "code",
   "execution_count": 23,
   "id": "654cad48-9aac-4195-b46d-8abc94409ae2",
   "metadata": {},
   "outputs": [],
   "source": [
    "X_test_initial = split_initial_sequence(test_data_initial, n_steps)\n",
    "# reshape from [samples, timesteps] into [samples, timesteps, features]\n",
    "X_test_initial = X_test_initial.reshape((X_test_initial.shape[0], X_test_initial.shape[1], n_features))"
   ]
  },
  {
   "cell_type": "code",
   "execution_count": 24,
   "id": "1bbf4460-021a-4eff-85e4-9416ad72e62a",
   "metadata": {},
   "outputs": [
    {
     "name": "stdout",
     "output_type": "stream",
     "text": [
      "Generating Predictions for Sample: 0 Tw: 560.0 Ti: 520.0\n",
      "0\n",
      "1000\n",
      "2000\n",
      "3000\n",
      "4000\n",
      "5000\n",
      "6000\n",
      "7000\n",
      "8000\n",
      "9000\n",
      "10000\n",
      "11000\n",
      "12000\n",
      "13000\n",
      "14000\n",
      "15000\n",
      "16000\n",
      "17000\n",
      "18000\n",
      "19000\n",
      "20000\n",
      "21000\n",
      "22000\n",
      "23000\n",
      "24000\n",
      "25000\n",
      "26000\n",
      "27000\n",
      "28000\n",
      "29000\n",
      "30000\n",
      "31000\n",
      "32000\n",
      "33000\n",
      "34000\n",
      "35000\n",
      "36000\n",
      "37000\n",
      "38000\n",
      "39000\n",
      "40000\n",
      "41000\n",
      "42000\n",
      "43000\n",
      "44000\n",
      "45000\n",
      "46000\n",
      "47000\n",
      "48000\n",
      "49000\n",
      "50000\n",
      "51000\n",
      "52000\n",
      "53000\n",
      "54000\n",
      "55000\n",
      "56000\n",
      "57000\n",
      "58000\n"
     ]
    },
    {
     "ename": "KeyboardInterrupt",
     "evalue": "",
     "output_type": "error",
     "traceback": [
      "\u001b[0;31m---------------------------------------------------------------------------\u001b[0m",
      "\u001b[0;31mKeyboardInterrupt\u001b[0m                         Traceback (most recent call last)",
      "\u001b[0;32m/var/folders/cy/yhfymg2j61gfl448mb_195qxlvt1vt/T/ipykernel_62312/1364385271.py\u001b[0m in \u001b[0;36m<module>\u001b[0;34m\u001b[0m\n\u001b[1;32m     12\u001b[0m             \u001b[0mprint\u001b[0m\u001b[0;34m(\u001b[0m\u001b[0mi\u001b[0m\u001b[0;34m)\u001b[0m\u001b[0;34m\u001b[0m\u001b[0;34m\u001b[0m\u001b[0m\n\u001b[1;32m     13\u001b[0m         \u001b[0mx_input\u001b[0m \u001b[0;34m=\u001b[0m \u001b[0mx_input\u001b[0m\u001b[0;34m.\u001b[0m\u001b[0mreshape\u001b[0m\u001b[0;34m(\u001b[0m\u001b[0;34m(\u001b[0m\u001b[0;36m1\u001b[0m\u001b[0;34m,\u001b[0m \u001b[0mn_steps\u001b[0m\u001b[0;34m,\u001b[0m \u001b[0mn_features\u001b[0m\u001b[0;34m)\u001b[0m\u001b[0;34m)\u001b[0m\u001b[0;34m\u001b[0m\u001b[0;34m\u001b[0m\u001b[0m\n\u001b[0;32m---> 14\u001b[0;31m         \u001b[0myhat_timestep\u001b[0m \u001b[0;34m=\u001b[0m \u001b[0mmodel\u001b[0m\u001b[0;34m.\u001b[0m\u001b[0mpredict\u001b[0m\u001b[0;34m(\u001b[0m\u001b[0mx_input\u001b[0m\u001b[0;34m,\u001b[0m \u001b[0mverbose\u001b[0m\u001b[0;34m=\u001b[0m\u001b[0;36m0\u001b[0m\u001b[0;34m)\u001b[0m\u001b[0;34m\u001b[0m\u001b[0;34m\u001b[0m\u001b[0m\n\u001b[0m\u001b[1;32m     15\u001b[0m         \u001b[0mx_input\u001b[0m \u001b[0;34m=\u001b[0m \u001b[0mnp\u001b[0m\u001b[0;34m.\u001b[0m\u001b[0mdelete\u001b[0m\u001b[0;34m(\u001b[0m\u001b[0mx_input\u001b[0m\u001b[0;34m,\u001b[0m \u001b[0;34m[\u001b[0m\u001b[0;36m0\u001b[0m\u001b[0;34m,\u001b[0m\u001b[0;36m1\u001b[0m\u001b[0;34m,\u001b[0m\u001b[0;36m2\u001b[0m\u001b[0;34m]\u001b[0m\u001b[0;34m)\u001b[0m\u001b[0;34m\u001b[0m\u001b[0;34m\u001b[0m\u001b[0m\n\u001b[1;32m     16\u001b[0m         \u001b[0mx_input\u001b[0m \u001b[0;34m=\u001b[0m \u001b[0mnp\u001b[0m\u001b[0;34m.\u001b[0m\u001b[0mappend\u001b[0m\u001b[0;34m(\u001b[0m\u001b[0mx_input\u001b[0m\u001b[0;34m,\u001b[0m \u001b[0;34m[\u001b[0m\u001b[0mTw\u001b[0m\u001b[0;34m,\u001b[0m \u001b[0mTi\u001b[0m\u001b[0;34m,\u001b[0m \u001b[0myhat_timestep\u001b[0m\u001b[0;34m[\u001b[0m\u001b[0;36m0\u001b[0m\u001b[0;34m]\u001b[0m\u001b[0;34m[\u001b[0m\u001b[0;36m0\u001b[0m\u001b[0;34m]\u001b[0m\u001b[0;34m]\u001b[0m\u001b[0;34m)\u001b[0m\u001b[0;34m\u001b[0m\u001b[0;34m\u001b[0m\u001b[0m\n",
      "\u001b[0;32m~/Projects/envTFsulfurTES/lib/python3.7/site-packages/tensorflow_core/python/keras/engine/training.py\u001b[0m in \u001b[0;36mpredict\u001b[0;34m(self, x, batch_size, verbose, steps, callbacks, max_queue_size, workers, use_multiprocessing)\u001b[0m\n\u001b[1;32m    907\u001b[0m         \u001b[0mmax_queue_size\u001b[0m\u001b[0;34m=\u001b[0m\u001b[0mmax_queue_size\u001b[0m\u001b[0;34m,\u001b[0m\u001b[0;34m\u001b[0m\u001b[0;34m\u001b[0m\u001b[0m\n\u001b[1;32m    908\u001b[0m         \u001b[0mworkers\u001b[0m\u001b[0;34m=\u001b[0m\u001b[0mworkers\u001b[0m\u001b[0;34m,\u001b[0m\u001b[0;34m\u001b[0m\u001b[0;34m\u001b[0m\u001b[0m\n\u001b[0;32m--> 909\u001b[0;31m         use_multiprocessing=use_multiprocessing)\n\u001b[0m\u001b[1;32m    910\u001b[0m \u001b[0;34m\u001b[0m\u001b[0m\n\u001b[1;32m    911\u001b[0m   \u001b[0;32mdef\u001b[0m \u001b[0mreset_metrics\u001b[0m\u001b[0;34m(\u001b[0m\u001b[0mself\u001b[0m\u001b[0;34m)\u001b[0m\u001b[0;34m:\u001b[0m\u001b[0;34m\u001b[0m\u001b[0;34m\u001b[0m\u001b[0m\n",
      "\u001b[0;32m~/Projects/envTFsulfurTES/lib/python3.7/site-packages/tensorflow_core/python/keras/engine/training_v2.py\u001b[0m in \u001b[0;36mpredict\u001b[0;34m(self, model, x, batch_size, verbose, steps, callbacks, **kwargs)\u001b[0m\n\u001b[1;32m    460\u001b[0m     return self._model_iteration(\n\u001b[1;32m    461\u001b[0m         \u001b[0mmodel\u001b[0m\u001b[0;34m,\u001b[0m \u001b[0mModeKeys\u001b[0m\u001b[0;34m.\u001b[0m\u001b[0mPREDICT\u001b[0m\u001b[0;34m,\u001b[0m \u001b[0mx\u001b[0m\u001b[0;34m=\u001b[0m\u001b[0mx\u001b[0m\u001b[0;34m,\u001b[0m \u001b[0mbatch_size\u001b[0m\u001b[0;34m=\u001b[0m\u001b[0mbatch_size\u001b[0m\u001b[0;34m,\u001b[0m \u001b[0mverbose\u001b[0m\u001b[0;34m=\u001b[0m\u001b[0mverbose\u001b[0m\u001b[0;34m,\u001b[0m\u001b[0;34m\u001b[0m\u001b[0;34m\u001b[0m\u001b[0m\n\u001b[0;32m--> 462\u001b[0;31m         steps=steps, callbacks=callbacks, **kwargs)\n\u001b[0m\u001b[1;32m    463\u001b[0m \u001b[0;34m\u001b[0m\u001b[0m\n\u001b[1;32m    464\u001b[0m \u001b[0;34m\u001b[0m\u001b[0m\n",
      "\u001b[0;32m~/Projects/envTFsulfurTES/lib/python3.7/site-packages/tensorflow_core/python/keras/engine/training_v2.py\u001b[0m in \u001b[0;36m_model_iteration\u001b[0;34m(self, model, mode, x, y, batch_size, verbose, sample_weight, steps, callbacks, **kwargs)\u001b[0m\n\u001b[1;32m    394\u001b[0m           \u001b[0msample_weights\u001b[0m\u001b[0;34m=\u001b[0m\u001b[0msample_weight\u001b[0m\u001b[0;34m,\u001b[0m\u001b[0;34m\u001b[0m\u001b[0;34m\u001b[0m\u001b[0m\n\u001b[1;32m    395\u001b[0m           \u001b[0msteps\u001b[0m\u001b[0;34m=\u001b[0m\u001b[0msteps\u001b[0m\u001b[0;34m,\u001b[0m\u001b[0;34m\u001b[0m\u001b[0;34m\u001b[0m\u001b[0m\n\u001b[0;32m--> 396\u001b[0;31m           distribution_strategy=strategy)\n\u001b[0m\u001b[1;32m    397\u001b[0m       \u001b[0mtotal_samples\u001b[0m \u001b[0;34m=\u001b[0m \u001b[0m_get_total_number_of_samples\u001b[0m\u001b[0;34m(\u001b[0m\u001b[0madapter\u001b[0m\u001b[0;34m)\u001b[0m\u001b[0;34m\u001b[0m\u001b[0;34m\u001b[0m\u001b[0m\n\u001b[1;32m    398\u001b[0m       \u001b[0muse_sample\u001b[0m \u001b[0;34m=\u001b[0m \u001b[0mtotal_samples\u001b[0m \u001b[0;32mis\u001b[0m \u001b[0;32mnot\u001b[0m \u001b[0;32mNone\u001b[0m\u001b[0;34m\u001b[0m\u001b[0;34m\u001b[0m\u001b[0m\n",
      "\u001b[0;32m~/Projects/envTFsulfurTES/lib/python3.7/site-packages/tensorflow_core/python/keras/engine/training_v2.py\u001b[0m in \u001b[0;36m_process_inputs\u001b[0;34m(model, x, y, batch_size, epochs, sample_weights, class_weights, shuffle, steps, distribution_strategy, max_queue_size, workers, use_multiprocessing)\u001b[0m\n\u001b[1;32m    604\u001b[0m       \u001b[0mmax_queue_size\u001b[0m\u001b[0;34m=\u001b[0m\u001b[0mmax_queue_size\u001b[0m\u001b[0;34m,\u001b[0m\u001b[0;34m\u001b[0m\u001b[0;34m\u001b[0m\u001b[0m\n\u001b[1;32m    605\u001b[0m       \u001b[0mworkers\u001b[0m\u001b[0;34m=\u001b[0m\u001b[0mworkers\u001b[0m\u001b[0;34m,\u001b[0m\u001b[0;34m\u001b[0m\u001b[0;34m\u001b[0m\u001b[0m\n\u001b[0;32m--> 606\u001b[0;31m       use_multiprocessing=use_multiprocessing)\n\u001b[0m\u001b[1;32m    607\u001b[0m   \u001b[0;31m# As a fallback for the data type that does not work with\u001b[0m\u001b[0;34m\u001b[0m\u001b[0;34m\u001b[0m\u001b[0;34m\u001b[0m\u001b[0m\n\u001b[1;32m    608\u001b[0m   \u001b[0;31m# _standardize_user_data, use the _prepare_model_with_inputs.\u001b[0m\u001b[0;34m\u001b[0m\u001b[0;34m\u001b[0m\u001b[0;34m\u001b[0m\u001b[0m\n",
      "\u001b[0;32m~/Projects/envTFsulfurTES/lib/python3.7/site-packages/tensorflow_core/python/keras/engine/data_adapter.py\u001b[0m in \u001b[0;36m__init__\u001b[0;34m(self, x, y, sample_weights, batch_size, epochs, steps, shuffle, **kwargs)\u001b[0m\n\u001b[1;32m    326\u001b[0m \u001b[0;34m\u001b[0m\u001b[0m\n\u001b[1;32m    327\u001b[0m     dataset = dataset.map(\n\u001b[0;32m--> 328\u001b[0;31m         grab_batch, num_parallel_calls=dataset_ops.AUTOTUNE)\n\u001b[0m\u001b[1;32m    329\u001b[0m \u001b[0;34m\u001b[0m\u001b[0m\n\u001b[1;32m    330\u001b[0m     \u001b[0;31m# Default optimizations are disabled to avoid the overhead of (unnecessary)\u001b[0m\u001b[0;34m\u001b[0m\u001b[0;34m\u001b[0m\u001b[0;34m\u001b[0m\u001b[0m\n",
      "\u001b[0;32m~/Projects/envTFsulfurTES/lib/python3.7/site-packages/tensorflow_core/python/data/ops/dataset_ops.py\u001b[0m in \u001b[0;36mmap\u001b[0;34m(self, map_func, num_parallel_calls)\u001b[0m\n\u001b[1;32m   1212\u001b[0m     \u001b[0;32melse\u001b[0m\u001b[0;34m:\u001b[0m\u001b[0;34m\u001b[0m\u001b[0;34m\u001b[0m\u001b[0m\n\u001b[1;32m   1213\u001b[0m       return ParallelMapDataset(\n\u001b[0;32m-> 1214\u001b[0;31m           self, map_func, num_parallel_calls, preserve_cardinality=True)\n\u001b[0m\u001b[1;32m   1215\u001b[0m \u001b[0;34m\u001b[0m\u001b[0m\n\u001b[1;32m   1216\u001b[0m   \u001b[0;32mdef\u001b[0m \u001b[0mflat_map\u001b[0m\u001b[0;34m(\u001b[0m\u001b[0mself\u001b[0m\u001b[0;34m,\u001b[0m \u001b[0mmap_func\u001b[0m\u001b[0;34m)\u001b[0m\u001b[0;34m:\u001b[0m\u001b[0;34m\u001b[0m\u001b[0;34m\u001b[0m\u001b[0m\n",
      "\u001b[0;32m~/Projects/envTFsulfurTES/lib/python3.7/site-packages/tensorflow_core/python/data/ops/dataset_ops.py\u001b[0m in \u001b[0;36m__init__\u001b[0;34m(self, input_dataset, map_func, num_parallel_calls, use_inter_op_parallelism, preserve_cardinality, use_legacy_function)\u001b[0m\n\u001b[1;32m   3454\u001b[0m         use_legacy_function=use_legacy_function)\n\u001b[1;32m   3455\u001b[0m     self._num_parallel_calls = ops.convert_to_tensor(\n\u001b[0;32m-> 3456\u001b[0;31m         num_parallel_calls, dtype=dtypes.int32, name=\"num_parallel_calls\")\n\u001b[0m\u001b[1;32m   3457\u001b[0m     \u001b[0mself\u001b[0m\u001b[0;34m.\u001b[0m\u001b[0m_preserve_cardinality\u001b[0m \u001b[0;34m=\u001b[0m \u001b[0mpreserve_cardinality\u001b[0m\u001b[0;34m\u001b[0m\u001b[0;34m\u001b[0m\u001b[0m\n\u001b[1;32m   3458\u001b[0m     variant_tensor = gen_dataset_ops.parallel_map_dataset(\n",
      "\u001b[0;32m~/Projects/envTFsulfurTES/lib/python3.7/site-packages/tensorflow_core/python/framework/ops.py\u001b[0m in \u001b[0;36mconvert_to_tensor\u001b[0;34m(value, dtype, name, preferred_dtype, dtype_hint)\u001b[0m\n\u001b[1;32m   1182\u001b[0m   preferred_dtype = deprecation.deprecated_argument_lookup(\n\u001b[1;32m   1183\u001b[0m       \"dtype_hint\", dtype_hint, \"preferred_dtype\", preferred_dtype)\n\u001b[0;32m-> 1184\u001b[0;31m   \u001b[0;32mreturn\u001b[0m \u001b[0mconvert_to_tensor_v2\u001b[0m\u001b[0;34m(\u001b[0m\u001b[0mvalue\u001b[0m\u001b[0;34m,\u001b[0m \u001b[0mdtype\u001b[0m\u001b[0;34m,\u001b[0m \u001b[0mpreferred_dtype\u001b[0m\u001b[0;34m,\u001b[0m \u001b[0mname\u001b[0m\u001b[0;34m)\u001b[0m\u001b[0;34m\u001b[0m\u001b[0;34m\u001b[0m\u001b[0m\n\u001b[0m\u001b[1;32m   1185\u001b[0m \u001b[0;34m\u001b[0m\u001b[0m\n\u001b[1;32m   1186\u001b[0m \u001b[0;34m\u001b[0m\u001b[0m\n",
      "\u001b[0;32m~/Projects/envTFsulfurTES/lib/python3.7/site-packages/tensorflow_core/python/framework/ops.py\u001b[0m in \u001b[0;36mconvert_to_tensor_v2\u001b[0;34m(value, dtype, dtype_hint, name)\u001b[0m\n\u001b[1;32m   1240\u001b[0m       \u001b[0mname\u001b[0m\u001b[0;34m=\u001b[0m\u001b[0mname\u001b[0m\u001b[0;34m,\u001b[0m\u001b[0;34m\u001b[0m\u001b[0;34m\u001b[0m\u001b[0m\n\u001b[1;32m   1241\u001b[0m       \u001b[0mpreferred_dtype\u001b[0m\u001b[0;34m=\u001b[0m\u001b[0mdtype_hint\u001b[0m\u001b[0;34m,\u001b[0m\u001b[0;34m\u001b[0m\u001b[0;34m\u001b[0m\u001b[0m\n\u001b[0;32m-> 1242\u001b[0;31m       as_ref=False)\n\u001b[0m\u001b[1;32m   1243\u001b[0m \u001b[0;34m\u001b[0m\u001b[0m\n\u001b[1;32m   1244\u001b[0m \u001b[0;34m\u001b[0m\u001b[0m\n",
      "\u001b[0;32m~/Projects/envTFsulfurTES/lib/python3.7/site-packages/tensorflow_core/python/framework/ops.py\u001b[0m in \u001b[0;36minternal_convert_to_tensor\u001b[0;34m(value, dtype, name, as_ref, preferred_dtype, ctx, accept_composite_tensors)\u001b[0m\n\u001b[1;32m   1255\u001b[0m                                accept_composite_tensors=False):\n\u001b[1;32m   1256\u001b[0m   \u001b[0;34m\"\"\"Implementation of the public convert_to_tensor.\"\"\"\u001b[0m\u001b[0;34m\u001b[0m\u001b[0;34m\u001b[0m\u001b[0m\n\u001b[0;32m-> 1257\u001b[0;31m   \u001b[0;32mif\u001b[0m \u001b[0mdtype\u001b[0m \u001b[0;32mis\u001b[0m \u001b[0;32mnot\u001b[0m \u001b[0;32mNone\u001b[0m\u001b[0;34m:\u001b[0m\u001b[0;34m\u001b[0m\u001b[0;34m\u001b[0m\u001b[0m\n\u001b[0m\u001b[1;32m   1258\u001b[0m     \u001b[0mdtype\u001b[0m \u001b[0;34m=\u001b[0m \u001b[0mdtypes\u001b[0m\u001b[0;34m.\u001b[0m\u001b[0mas_dtype\u001b[0m\u001b[0;34m(\u001b[0m\u001b[0mdtype\u001b[0m\u001b[0;34m)\u001b[0m\u001b[0;34m\u001b[0m\u001b[0;34m\u001b[0m\u001b[0m\n\u001b[1;32m   1259\u001b[0m   \u001b[0;32mif\u001b[0m \u001b[0mctx\u001b[0m \u001b[0;32mis\u001b[0m \u001b[0;32mNone\u001b[0m\u001b[0;34m:\u001b[0m\u001b[0;34m\u001b[0m\u001b[0;34m\u001b[0m\u001b[0m\n",
      "\u001b[0;31mKeyboardInterrupt\u001b[0m: "
     ]
    }
   ],
   "source": [
    "yhat = list()\n",
    "for j, x_input in enumerate(X_test_initial):\n",
    "    x_input = x_input.reshape((1, n_steps, n_features))\n",
    "    yhat_sample = list()\n",
    "    Tw = x_input[0][0][0]\n",
    "    Ti = x_input[0][0][1]\n",
    "    print('Generating Predictions for Sample:',j,'Tw:',Tw,'Ti:',Ti)\n",
    "    for i in range(n_steps):\n",
    "        yhat_sample.append(x_input[0][i][2])\n",
    "    for i in range(72000 - n_steps):\n",
    "        if i % 1000 == 0:\n",
    "            print(i)\n",
    "        x_input = x_input.reshape((1, n_steps, n_features))\n",
    "        yhat_timestep = model.predict(x_input, verbose=0)\n",
    "        x_input = np.delete(x_input, [0,1,2])\n",
    "        x_input = np.append(x_input, [Tw, Ti, yhat_timestep[0][0]])\n",
    "        yhat_sample.append(yhat_timestep[0][0])\n",
    "    yhat.append(yhat_sample)"
   ]
  },
  {
   "cell_type": "code",
   "execution_count": 25,
   "id": "f4f36fcb-647c-4ab2-9b2d-3313af575b44",
   "metadata": {},
   "outputs": [],
   "source": [
    "yhat.append(yhat_sample)"
   ]
  },
  {
   "cell_type": "code",
   "execution_count": 26,
   "id": "f2473c57-d00f-4d69-905e-3224e6a1cc6d",
   "metadata": {},
   "outputs": [],
   "source": [
    "y = list()\n",
    "for i, sample in enumerate(test_data):\n",
    "    y.append(list())\n",
    "    for timestep in sample:\n",
    "        y[i].append(timestep[2])"
   ]
  },
  {
   "cell_type": "code",
   "execution_count": 27,
   "id": "ad1a9721-93cc-49ec-90d0-e003dc0682a6",
   "metadata": {},
   "outputs": [],
   "source": [
    "import matplotlib.pyplot as plt"
   ]
  },
  {
   "cell_type": "code",
   "execution_count": 30,
   "id": "3f90d650-aa46-401b-b81a-6214614be9d1",
   "metadata": {},
   "outputs": [
    {
     "data": {
      "image/png": "[encoded data removed]",
      "text/plain": [
       "<Figure size 2000x1000 with 1 Axes>"
      ]
     },
     "metadata": {
      "needs_background": "light"
     },
     "output_type": "display_data"
    },
    {
     "ename": "IndexError",
     "evalue": "list index out of range",
     "output_type": "error",
     "traceback": [
      "\u001b[0;31m---------------------------------------------------------------------------\u001b[0m",
      "\u001b[0;31mIndexError\u001b[0m                                Traceback (most recent call last)",
      "\u001b[0;32m/var/folders/cy/yhfymg2j61gfl448mb_195qxlvt1vt/T/ipykernel_62312/3690927444.py\u001b[0m in \u001b[0;36m<module>\u001b[0;34m\u001b[0m\n\u001b[1;32m      2\u001b[0m     \u001b[0max\u001b[0m \u001b[0;34m=\u001b[0m \u001b[0mplt\u001b[0m\u001b[0;34m.\u001b[0m\u001b[0mfigure\u001b[0m\u001b[0;34m(\u001b[0m\u001b[0mfigsize\u001b[0m\u001b[0;34m=\u001b[0m\u001b[0;34m(\u001b[0m\u001b[0;36m10\u001b[0m\u001b[0;34m,\u001b[0m\u001b[0;36m5\u001b[0m\u001b[0;34m)\u001b[0m\u001b[0;34m,\u001b[0m \u001b[0mdpi\u001b[0m \u001b[0;34m=\u001b[0m \u001b[0;36m200\u001b[0m\u001b[0;34m)\u001b[0m\u001b[0;34m.\u001b[0m\u001b[0madd_axes\u001b[0m\u001b[0;34m(\u001b[0m\u001b[0;34m[\u001b[0m\u001b[0;36m0\u001b[0m\u001b[0;34m,\u001b[0m\u001b[0;36m0\u001b[0m\u001b[0;34m,\u001b[0m\u001b[0;36m1\u001b[0m\u001b[0;34m,\u001b[0m\u001b[0;36m1\u001b[0m\u001b[0;34m]\u001b[0m\u001b[0;34m)\u001b[0m\u001b[0;34m\u001b[0m\u001b[0;34m\u001b[0m\u001b[0m\n\u001b[1;32m      3\u001b[0m     \u001b[0max\u001b[0m\u001b[0;34m.\u001b[0m\u001b[0mplot\u001b[0m\u001b[0;34m(\u001b[0m\u001b[0my_sample\u001b[0m\u001b[0;34m,\u001b[0m \u001b[0mcolor\u001b[0m\u001b[0;34m=\u001b[0m\u001b[0;34m'DarkBlue'\u001b[0m\u001b[0;34m,\u001b[0m \u001b[0mlinewidth\u001b[0m\u001b[0;34m=\u001b[0m\u001b[0;36m2.5\u001b[0m\u001b[0;34m,\u001b[0m \u001b[0mlabel\u001b[0m\u001b[0;34m=\u001b[0m\u001b[0;34m\"Expected\"\u001b[0m\u001b[0;34m)\u001b[0m\u001b[0;34m\u001b[0m\u001b[0;34m\u001b[0m\u001b[0m\n\u001b[0;32m----> 4\u001b[0;31m     \u001b[0max\u001b[0m\u001b[0;34m.\u001b[0m\u001b[0mplot\u001b[0m\u001b[0;34m(\u001b[0m\u001b[0myhat\u001b[0m\u001b[0;34m[\u001b[0m\u001b[0mi\u001b[0m\u001b[0;34m]\u001b[0m\u001b[0;34m,\u001b[0m \u001b[0mcolor\u001b[0m\u001b[0;34m=\u001b[0m\u001b[0;34m'Orange'\u001b[0m\u001b[0;34m,\u001b[0m \u001b[0mlinewidth\u001b[0m\u001b[0;34m=\u001b[0m\u001b[0;36m2.5\u001b[0m\u001b[0;34m,\u001b[0m \u001b[0mlabel\u001b[0m\u001b[0;34m=\u001b[0m\u001b[0;34m\"Predicted\"\u001b[0m\u001b[0;34m)\u001b[0m\u001b[0;34m\u001b[0m\u001b[0;34m\u001b[0m\u001b[0m\n\u001b[0m\u001b[1;32m      5\u001b[0m     \u001b[0;31m#ax.set_ylim(300,620)\u001b[0m\u001b[0;34m\u001b[0m\u001b[0;34m\u001b[0m\u001b[0;34m\u001b[0m\u001b[0m\n\u001b[1;32m      6\u001b[0m     \u001b[0;31m#ax.set_xlim(0,2200)\u001b[0m\u001b[0;34m\u001b[0m\u001b[0;34m\u001b[0m\u001b[0;34m\u001b[0m\u001b[0m\n",
      "\u001b[0;31mIndexError\u001b[0m: list index out of range"
     ]
    },
    {
     "data": {
      "image/png": "[encoded data removed]",
      "text/plain": [
       "<Figure size 2000x1000 with 1 Axes>"
      ]
     },
     "metadata": {
      "needs_background": "light"
     },
     "output_type": "display_data"
    }
   ],
   "source": [
    "for i, y_sample in enumerate(y):\n",
    "    ax = plt.figure(figsize=(10,5), dpi = 200).add_axes([0,0,1,1])\n",
    "    ax.plot(y_sample, color='DarkBlue', linewidth=2.5, label=\"Expected\")\n",
    "    ax.plot(yhat[i], color='Orange', linewidth=2.5, label=\"Predicted\")\n",
    "    #ax.set_ylim(300,620)\n",
    "    #ax.set_xlim(0,2200)\n",
    "    plt.show()"
   ]
  },
  {
   "cell_type": "code",
   "execution_count": 87,
   "id": "947ce3ef-baec-43eb-ba25-7f93475f52e6",
   "metadata": {},
   "outputs": [],
   "source": [
    "from sklearn.metrics import r2_score\n",
    "from sklearn.metrics import mean_squared_error"
   ]
  },
  {
   "cell_type": "code",
   "execution_count": 88,
   "id": "8cb0b5a2-5f5e-4677-9a38-f3c423e3bc18",
   "metadata": {},
   "outputs": [],
   "source": [
    "y_tot = list()\n",
    "for y_sample in y:\n",
    "    for y_ts in y_sample:\n",
    "        y_tot.append(y_ts)"
   ]
  },
  {
   "cell_type": "code",
   "execution_count": 89,
   "id": "ce6291de-1861-4661-94c8-0ddf0c70dc0c",
   "metadata": {},
   "outputs": [],
   "source": [
    "yhat_tot = list()\n",
    "for y_sample in yhat:\n",
    "    for y_ts in y_sample:\n",
    "        yhat_tot.append(y_ts)"
   ]
  },
  {
   "cell_type": "code",
   "execution_count": 90,
   "id": "4c19db61-7228-48ba-965e-d17a9fc27bbc",
   "metadata": {},
   "outputs": [
    {
     "name": "stdout",
     "output_type": "stream",
     "text": [
      "0.9879211225697893\n"
     ]
    }
   ],
   "source": [
    "print(r2_score(y_tot, yhat_tot))"
   ]
  },
  {
   "cell_type": "code",
   "execution_count": 91,
   "id": "d8c8a53a-5450-4002-bd7f-cb274f4de378",
   "metadata": {},
   "outputs": [
    {
     "name": "stdout",
     "output_type": "stream",
     "text": [
      "8.07936560832011\n"
     ]
    }
   ],
   "source": [
    "print(mean_squared_error(y_tot, yhat_tot, squared=False))"
   ]
  },
  {
   "cell_type": "code",
   "execution_count": null,
   "id": "2a77deac-8421-4835-a1da-1de807e3a04b",
   "metadata": {},
   "outputs": [],
   "source": []
  }
 ],
 "metadata": {
  "kernelspec": {
   "display_name": "Python 3 (ipykernel)",
   "language": "python",
   "name": "python3"
  },
  "language_info": {
   "codemirror_mode": {
    "name": "ipython",
    "version": 3
   },
   "file_extension": ".py",
   "mimetype": "text/x-python",
   "name": "python",
   "nbconvert_exporter": "python",
   "pygments_lexer": "ipython3",
   "version": "3.9.12"
  }
 },
 "nbformat": 4,
 "nbformat_minor": 5
}
