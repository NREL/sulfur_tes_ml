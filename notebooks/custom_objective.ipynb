{
 "cells": [
  {
   "cell_type": "code",
   "execution_count": 3,
   "id": "f6fc88d9-1213-481c-94e7-8d2a57ea0203",
   "metadata": {},
   "outputs": [],
   "source": [
    "import numpy as np\n",
    "import xgboost as xgb\n",
    "from typing import Tuple\n",
    "\n",
    "def relu(x):\n",
    "    return max(x,0)\n",
    "\n",
    "def focal_obj(Tw, Ti):\n",
    "    def custom_obj(expected: np.ndarray, predt: np.ndarray) -> Tuple[np.ndarray, np.ndarray]:\n",
    "        rows = expected.shape[0]\n",
    "        grad = np.zeros((rows, classes), dtype=float)\n",
    "        hess = np.zeros((rows, classes), dtype=float)\n",
    "        for r in range(predt.shape[0]):\n",
    "            for c in range(predt.shape[1]):\n",
    "                y = expected[r][c]\n",
    "                y_hat = predt[r][c]\n",
    "                g = 2*(y_hat - y) + relu(2*(y_hat - Tw)) + relu(2*(Ti - y_hat))\n",
    "                h = 2 + relu(2*(y_hat - Tw)/abs(y_hat - Tw)) + relu(2*(Ti - y_hat)/abs(Ti - y_hat))\n",
    "                grad[r, c] = g\n",
    "                hess[r, c] = h\n",
    "        grad = grad.reshape((rows * classes, 1))\n",
    "        hess = hess.reshape((rows * classes, 1))\n",
    "        return grad, hess\n",
    "    return custom_obj\n",
    "                                            \n",
    "\n",
    "clf = xgb.XGBClassifier(tree_method=\"hist\", objective=focal_obj)"
   ]
  },
  {
   "cell_type": "code",
   "execution_count": null,
   "id": "05f1b961-5162-48d2-86c8-d4e04ed2fe71",
   "metadata": {},
   "outputs": [],
   "source": []
  }
 ],
 "metadata": {
  "kernelspec": {
   "display_name": "Python 3 (ipykernel)",
   "language": "python",
   "name": "python3"
  },
  "language_info": {
   "codemirror_mode": {
    "name": "ipython",
    "version": 3
   },
   "file_extension": ".py",
   "mimetype": "text/x-python",
   "name": "python",
   "nbconvert_exporter": "python",
   "pygments_lexer": "ipython3",
   "version": "3.10.4"
  }
 },
 "nbformat": 4,
 "nbformat_minor": 5
}
