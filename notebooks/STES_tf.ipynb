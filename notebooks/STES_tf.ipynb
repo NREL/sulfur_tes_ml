{
 "cells": [
  {
   "cell_type": "code",
   "execution_count": 1,
   "id": "d0bb1af4-90d6-42cd-a319-3af2da837576",
   "metadata": {},
   "outputs": [
    {
     "ename": "ModuleNotFoundError",
     "evalue": "No module named 'tensorflow'",
     "output_type": "error",
     "traceback": [
      "\u001b[0;31m---------------------------------------------------------------------------\u001b[0m",
      "\u001b[0;31mModuleNotFoundError\u001b[0m                       Traceback (most recent call last)",
      "Input \u001b[0;32mIn [1]\u001b[0m, in \u001b[0;36m<cell line: 8>\u001b[0;34m()\u001b[0m\n\u001b[1;32m      4\u001b[0m \u001b[38;5;28;01mimport\u001b[39;00m \u001b[38;5;21;01mrandom\u001b[39;00m\n\u001b[1;32m      6\u001b[0m \u001b[38;5;28;01mfrom\u001b[39;00m \u001b[38;5;21;01msklearn\u001b[39;00m\u001b[38;5;21;01m.\u001b[39;00m\u001b[38;5;21;01mmodel_selection\u001b[39;00m \u001b[38;5;28;01mimport\u001b[39;00m RepeatedKFold\n\u001b[0;32m----> 8\u001b[0m \u001b[38;5;28;01mimport\u001b[39;00m \u001b[38;5;21;01mtensorflow\u001b[39;00m\n",
      "\u001b[0;31mModuleNotFoundError\u001b[0m: No module named 'tensorflow'"
     ]
    }
   ],
   "source": [
    "import os\n",
    "import glob\n",
    "import pandas as pd\n",
    "import random\n",
    "\n",
    "from sklearn.model_selection import RepeatedKFold\n",
    "\n",
    "import tensorflow"
   ]
  },
  {
   "cell_type": "code",
   "execution_count": 7,
   "id": "457e74a9-add8-4d60-9d3a-8bece038bde6",
   "metadata": {},
   "outputs": [
    {
     "data": {
      "text/html": [
       "<div>\n",
       "<style scoped>\n",
       "    .dataframe tbody tr th:only-of-type {\n",
       "        vertical-align: middle;\n",
       "    }\n",
       "\n",
       "    .dataframe tbody tr th {\n",
       "        vertical-align: top;\n",
       "    }\n",
       "\n",
       "    .dataframe thead th {\n",
       "        text-align: right;\n",
       "    }\n",
       "</style>\n",
       "<table border=\"1\" class=\"dataframe\">\n",
       "  <thead>\n",
       "    <tr style=\"text-align: right;\">\n",
       "      <th></th>\n",
       "      <th>filepath</th>\n",
       "    </tr>\n",
       "  </thead>\n",
       "  <tbody>\n",
       "    <tr>\n",
       "      <th>0</th>\n",
       "      <td>../data/Air_Models/IG_500_390.csv</td>\n",
       "    </tr>\n",
       "    <tr>\n",
       "      <th>1</th>\n",
       "      <td>../data/Air_Models/IG_520_300.csv</td>\n",
       "    </tr>\n",
       "    <tr>\n",
       "      <th>2</th>\n",
       "      <td>../data/Air_Models/IG_530_300.csv</td>\n",
       "    </tr>\n",
       "    <tr>\n",
       "      <th>3</th>\n",
       "      <td>../data/Air_Models/IG_600_560.csv</td>\n",
       "    </tr>\n",
       "    <tr>\n",
       "      <th>4</th>\n",
       "      <td>../data/Air_Models/IG_600_400.csv</td>\n",
       "    </tr>\n",
       "    <tr>\n",
       "      <th>...</th>\n",
       "      <td>...</td>\n",
       "    </tr>\n",
       "    <tr>\n",
       "      <th>135</th>\n",
       "      <td>../data/Air_Models/IG_370_300.csv</td>\n",
       "    </tr>\n",
       "    <tr>\n",
       "      <th>136</th>\n",
       "      <td>../data/Air_Models/IG_600_550.csv</td>\n",
       "    </tr>\n",
       "    <tr>\n",
       "      <th>137</th>\n",
       "      <td>../data/Air_Models/IG_600_430.csv</td>\n",
       "    </tr>\n",
       "    <tr>\n",
       "      <th>138</th>\n",
       "      <td>../data/Air_Models/IG_550_340.csv</td>\n",
       "    </tr>\n",
       "    <tr>\n",
       "      <th>139</th>\n",
       "      <td>../data/Air_Models/IG_500_410.csv</td>\n",
       "    </tr>\n",
       "  </tbody>\n",
       "</table>\n",
       "<p>140 rows × 1 columns</p>\n",
       "</div>"
      ],
      "text/plain": [
       "                              filepath\n",
       "0    ../data/Air_Models/IG_500_390.csv\n",
       "1    ../data/Air_Models/IG_520_300.csv\n",
       "2    ../data/Air_Models/IG_530_300.csv\n",
       "3    ../data/Air_Models/IG_600_560.csv\n",
       "4    ../data/Air_Models/IG_600_400.csv\n",
       "..                                 ...\n",
       "135  ../data/Air_Models/IG_370_300.csv\n",
       "136  ../data/Air_Models/IG_600_550.csv\n",
       "137  ../data/Air_Models/IG_600_430.csv\n",
       "138  ../data/Air_Models/IG_550_340.csv\n",
       "139  ../data/Air_Models/IG_500_410.csv\n",
       "\n",
       "[140 rows x 1 columns]"
      ]
     },
     "execution_count": 7,
     "metadata": {},
     "output_type": "execute_result"
    }
   ],
   "source": [
    "data_dir = \"../data/Air_Models/\"\n",
    "\n",
    "scenario_index = pd.DataFrame({\"filepath\": glob.glob(os.path.join(data_dir, \"IG_*_*.csv\"))})\n",
    "scenario_index"
   ]
  },
  {
   "cell_type": "code",
   "execution_count": 10,
   "id": "41f7690a-0e19-4c1e-a862-c4435a5ef902",
   "metadata": {},
   "outputs": [],
   "source": [
    "def get_train_and_test_index(scenario_index, random_state=None):\n",
    "    if random_state == None:\n",
    "        print('here')\n",
    "        random_state = random.randrange(2652124)\n",
    "    cv = RepeatedKFold(n_splits=5, n_repeats=1, random_state=random_state)\n",
    "\n",
    "    train_index, test_index  = next(cv.split(scenario_index.index))\n",
    "    \n",
    "    return train_index, test_index"
   ]
  },
  {
   "cell_type": "code",
   "execution_count": 9,
   "id": "03e5f0f2-26f7-452a-b050-2c69f2a2a974",
   "metadata": {},
   "outputs": [],
   "source": [
    "def load_data(scenario_index, selected_index, is_recurrent_test_data=False):\n",
    "    \"\"\" Load data from files in scenario_index with indices matching ones in selected_index\"\"\"\n",
    "    \n",
    "    df_arr = []\n",
    "    for f in scenario_index.loc[selected_index].filepath:\n",
    "        Tw = float(f.split(\"/\")[-1].split(\"_\")[1])\n",
    "        Ti = float(f.split(\"/\")[-1].split(\"_\")[2].replace(\".csv\", \"\"))\n",
    "\n",
    "        f_df = pd.read_csv(f, skiprows=12)\n",
    "        f_df[\"Tw\"] = Tw\n",
    "        f_df[\"Ti\"] = Ti\n",
    "        df_arr.append(f_df)\n",
    "    \n",
    "    if is_recurrent_test_data:\n",
    "        return df_arr\n",
    "    \n",
    "    combined_df = pd.concat(df_arr)\n",
    "    return combined_df"
   ]
  },
  {
   "cell_type": "code",
   "execution_count": 21,
   "id": "c731cad2-3d55-4600-84aa-04443bd523d3",
   "metadata": {},
   "outputs": [],
   "source": [
    "train_index, test_index = get_train_and_test_index(scenario_index, random_state=5)"
   ]
  },
  {
   "cell_type": "code",
   "execution_count": 22,
   "id": "abd7dead-048b-4bd5-a0d8-8eb649c96917",
   "metadata": {},
   "outputs": [],
   "source": [
    "train_df = load_data(scenario_index, train_index)"
   ]
  },
  {
   "cell_type": "code",
   "execution_count": 23,
   "id": "e7232b55-aa2d-4c3b-9f12-de8fef6ab7d7",
   "metadata": {},
   "outputs": [],
   "source": [
    "test_df = load_data(scenario_index, test_index)"
   ]
  },
  {
   "cell_type": "code",
   "execution_count": null,
   "id": "843726e1-80af-449a-89ca-2d0bbe370d06",
   "metadata": {},
   "outputs": [],
   "source": []
  }
 ],
 "metadata": {
  "kernelspec": {
   "display_name": "Python 3 (ipykernel)",
   "language": "python",
   "name": "python3"
  },
  "language_info": {
   "codemirror_mode": {
    "name": "ipython",
    "version": 3
   },
   "file_extension": ".py",
   "mimetype": "text/x-python",
   "name": "python",
   "nbconvert_exporter": "python",
   "pygments_lexer": "ipython3",
   "version": "3.10.4"
  }
 },
 "nbformat": 4,
 "nbformat_minor": 5
}
