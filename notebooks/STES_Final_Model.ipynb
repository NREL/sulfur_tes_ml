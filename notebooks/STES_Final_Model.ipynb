{
 "cells": [
  {
   "cell_type": "code",
   "execution_count": 28,
   "id": "ddfeb8ee",
   "metadata": {},
   "outputs": [],
   "source": [
    "from stesml.model_tools import train_model\n",
    "from stesml.model_tools import test_model\n",
    "from stesml.model_tools import get_T_from_h_results\n",
    "\n",
    "from stesml.plot_tools import plot_results\n",
    "from stesml.plot_tools import save_figures\n",
    "from stesml.plot_tools import plot_average_error\n",
    "\n",
    "from stesml.stes_model import stes_model"
   ]
  },
  {
   "cell_type": "code",
   "execution_count": 29,
   "id": "9a851ed3",
   "metadata": {},
   "outputs": [],
   "source": [
    "plot = False"
   ]
  },
  {
   "cell_type": "code",
   "execution_count": 30,
   "id": "c7dd582c",
   "metadata": {},
   "outputs": [],
   "source": [
    "# Model names\n",
    "# NN model truncated at t <= 360: 'NN_20220708-22'\n",
    "# NN model for full run time: 'NN_20220708-23'\n",
    "# XGBoost model for full run time 'XGBoost_20220711-1554'\n",
    "# XGBoost model truncated at t >= 360 'XGBoost_20220709-0914'"
   ]
  },
  {
   "cell_type": "code",
   "execution_count": 31,
   "id": "a73c4515",
   "metadata": {},
   "outputs": [],
   "source": [
    "# Train the XGBoost model for t >= 360\n",
    "\n",
    "data_dir = \"../data/Sulfur_Models/heating/heating_all\"\n",
    "model_name = 'XGBoost_h_model'\n",
    "model_type = 'XGBoost' # Options: NN, XGBoost, RandomForest\n",
    "target = 'h' # Options: Tavg, h\n",
    "metric = 'rmse' # Options: rmse, r2\n",
    "scale = False # Normalize data to a mean of 0 and STD of 1\n",
    "t_min = -1\n",
    "truncated = False"
   ]
  },
  {
   "cell_type": "code",
   "execution_count": 32,
   "id": "d045eb55",
   "metadata": {},
   "outputs": [],
   "source": [
    "train_model_ = False\n",
    "save_model_ = False\n",
    "load_model_ = True"
   ]
  },
  {
   "cell_type": "code",
   "execution_count": 33,
   "id": "bd521ed4",
   "metadata": {},
   "outputs": [],
   "source": [
    "if train_model_:\n",
    "    parameters = stes_model.get_parameters(model_type, truncated)\n",
    "    model, addendum = train_model(data_dir, model_type, target, scale, parameters, t_min=t_min)"
   ]
  },
  {
   "cell_type": "code",
   "execution_count": 34,
   "id": "d607b1f0",
   "metadata": {},
   "outputs": [],
   "source": [
    "if save_model_:\n",
    "    stes_model.save_model(model, model_type, addendum)"
   ]
  },
  {
   "cell_type": "code",
   "execution_count": 35,
   "id": "4714dfe4",
   "metadata": {},
   "outputs": [],
   "source": [
    "if load_model_:\n",
    "    model, addendum = stes_model.load_model(model_type, model_name)"
   ]
  },
  {
   "cell_type": "code",
   "execution_count": 36,
   "id": "4b475409",
   "metadata": {},
   "outputs": [
    {
     "name": "stdout",
     "output_type": "stream",
     "text": [
      "RMSE: 2.6610673, R2: 0.9989617\n"
     ]
    }
   ],
   "source": [
    "t_min = -1 # If building final model, set t_min to -1 here\n",
    "h_results = test_model(model, model_type, data_dir, target, scale, addendum, t_min=t_min)"
   ]
  },
  {
   "cell_type": "code",
   "execution_count": 37,
   "id": "a9b1066f",
   "metadata": {},
   "outputs": [],
   "source": [
    "h_df = h_results['test_df']"
   ]
  },
  {
   "cell_type": "code",
   "execution_count": 38,
   "id": "827d827c",
   "metadata": {},
   "outputs": [],
   "source": [
    "if plot:\n",
    "    (h_df['h'] - h_df['h_hat']).hist(bins=20, range=(-30, 30))"
   ]
  },
  {
   "cell_type": "code",
   "execution_count": 39,
   "id": "e8854112",
   "metadata": {},
   "outputs": [],
   "source": [
    "if plot:\n",
    "    figures = plot_results(h_df, model_type, target='h')"
   ]
  },
  {
   "cell_type": "code",
   "execution_count": 40,
   "id": "60401432",
   "metadata": {},
   "outputs": [],
   "source": [
    "if plot:\n",
    "    figures['AverageError'] = plot_average_error(h_df, target=target)"
   ]
  },
  {
   "cell_type": "code",
   "execution_count": 41,
   "id": "c108a8f3-96fa-49c6-8616-989c7631b162",
   "metadata": {},
   "outputs": [],
   "source": [
    "if plot:\n",
    "    figures_directory = save_figures(figures)"
   ]
  },
  {
   "cell_type": "code",
   "execution_count": null,
   "id": "1aefb5c3",
   "metadata": {},
   "outputs": [],
   "source": []
  }
 ],
 "metadata": {
  "kernelspec": {
   "display_name": "Python 3 (ipykernel)",
   "language": "python",
   "name": "python3"
  },
  "language_info": {
   "codemirror_mode": {
    "name": "ipython",
    "version": 3
   },
   "file_extension": ".py",
   "mimetype": "text/x-python",
   "name": "python",
   "nbconvert_exporter": "python",
   "pygments_lexer": "ipython3",
   "version": "3.9.12"
  }
 },
 "nbformat": 4,
 "nbformat_minor": 5
}
