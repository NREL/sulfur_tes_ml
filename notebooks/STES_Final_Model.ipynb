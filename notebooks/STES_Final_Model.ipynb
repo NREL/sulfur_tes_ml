{
 "cells": [
  {
   "cell_type": "markdown",
   "id": "5c6b4001",
   "metadata": {},
   "source": [
    "# This noteboook is used to train and test a final model.\n",
    "### *This should be used after validating a model architecture with the `Train_and_Validate` notebook and optimizing the hyperparameters with the `Optuna_Studies` notebook.*"
   ]
  },
  {
   "cell_type": "markdown",
   "id": "ec55c70e",
   "metadata": {},
   "source": [
    "### Import tools"
   ]
  },
  {
   "cell_type": "code",
   "execution_count": 1,
   "id": "4ebdf9fa",
   "metadata": {},
   "outputs": [
    {
     "name": "stderr",
     "output_type": "stream",
     "text": [
      "/Users/kmenear/Projects/sulfur_tes_ml/envSulfurTES/lib/python3.9/site-packages/xgboost/compat.py:36: FutureWarning: pandas.Int64Index is deprecated and will be removed from pandas in a future version. Use pandas.Index with the appropriate dtype instead.\n",
      "  from pandas import MultiIndex, Int64Index\n"
     ]
    }
   ],
   "source": [
    "from stesml.model_tools import train_final_model # Train the model\n",
    "from stesml.stes_model import stes_model # Get parameters, load & save models"
   ]
  },
  {
   "cell_type": "markdown",
   "id": "ce64a571-b086-4c2c-8483-904ae6dd3ca6",
   "metadata": {},
   "source": [
    "#### Names of the previously trained and saved final models:\n",
    "**NN model truncated at t <= 360:** 'NN_tmax_360'\n",
    "\n",
    "**NN model for full run time:** 'NN_full'\n",
    "\n",
    "**XGBoost model truncated at t <= 360:** 'XGBoost_tmax_360'\n",
    "\n",
    "**XGBoost model truncated at t >= 360:** 'XGBoost_tmin_360'"
   ]
  },
  {
   "cell_type": "markdown",
   "id": "bbd3d4b3-b6c0-44f2-bd78-6386d943f7db",
   "metadata": {},
   "source": [
    "### Get model parameters"
   ]
  },
  {
   "cell_type": "code",
   "execution_count": 9,
   "id": "e6ac1152",
   "metadata": {},
   "outputs": [],
   "source": [
    "data_dir = \"../data/Sulfur_Models/heating/heating_all\"\n",
    "model_type = 'NN' # Options: NN, XGBoost, RandomForest\n",
    "target = 'Tavg' # Options: Tavg, h\n",
    "metric = 'rmse' # Options: rmse, r2\n",
    "scale = True # Normalize data to a mean of 0 and STD of 1\n",
    "t_min = -1\n",
    "t_max = 360\n",
    "truncated = True\n",
    "parameters = stes_model.get_parameters(model_type, truncated)"
   ]
  },
  {
   "cell_type": "markdown",
   "id": "92551d4b-33cc-45c6-80a1-2f286ef9fbc1",
   "metadata": {},
   "source": [
    "### Train the final model"
   ]
  },
  {
   "cell_type": "code",
   "execution_count": 10,
   "id": "9d1718a9",
   "metadata": {},
   "outputs": [
    {
     "name": "stdout",
     "output_type": "stream",
     "text": [
      "Epoch 1/6\n",
      "26811/26811 [==============================] - 23s 848us/step - loss: 0.0031 - val_loss: 8.6345e-05\n",
      "Epoch 2/6\n",
      "26811/26811 [==============================] - 23s 850us/step - loss: 4.7009e-05 - val_loss: 2.1392e-04\n",
      "Epoch 3/6\n",
      "26811/26811 [==============================] - 23s 873us/step - loss: 3.4019e-05 - val_loss: 1.1475e-05\n",
      "Epoch 4/6\n",
      "26811/26811 [==============================] - 23s 857us/step - loss: 2.6475e-05 - val_loss: 2.1163e-05\n",
      "Epoch 5/6\n",
      "26811/26811 [==============================] - 23s 860us/step - loss: 2.4414e-05 - val_loss: 1.4438e-05\n"
     ]
    }
   ],
   "source": [
    "model, addendum = train_final_model(data_dir, model_type, target, scale, parameters, t_min=t_min, t_max=t_max)"
   ]
  },
  {
   "cell_type": "markdown",
   "id": "cf8e7cc6-8c78-4570-8f46-62ec426a7066",
   "metadata": {},
   "source": [
    "### Save the final model"
   ]
  },
  {
   "cell_type": "code",
   "execution_count": 8,
   "id": "101b61ef",
   "metadata": {},
   "outputs": [
    {
     "name": "stdout",
     "output_type": "stream",
     "text": [
      "INFO:tensorflow:Assets written to: ../models/NN_20220920-2221/assets\n"
     ]
    }
   ],
   "source": [
    "stes_model.save_model(model, model_type, addendum)"
   ]
  },
  {
   "cell_type": "code",
   "execution_count": null,
   "id": "d13ac001-3d26-4b54-ae3c-e465cd95ed33",
   "metadata": {},
   "outputs": [],
   "source": []
  }
 ],
 "metadata": {
  "kernelspec": {
   "display_name": "Python 3 (ipykernel)",
   "language": "python",
   "name": "python3"
  },
  "language_info": {
   "codemirror_mode": {
    "name": "ipython",
    "version": 3
   },
   "file_extension": ".py",
   "mimetype": "text/x-python",
   "name": "python",
   "nbconvert_exporter": "python",
   "pygments_lexer": "ipython3",
   "version": "3.9.12"
  },
  "toc-autonumbering": false,
  "toc-showmarkdowntxt": true
 },
 "nbformat": 4,
 "nbformat_minor": 5
}
