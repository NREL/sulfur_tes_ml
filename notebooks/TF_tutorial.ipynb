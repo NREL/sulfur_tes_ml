{
 "cells": [
  {
   "cell_type": "code",
   "execution_count": 11,
   "id": "343e022c-813e-4c7b-adf5-1597f735b9c4",
   "metadata": {},
   "outputs": [],
   "source": [
    "import numpy as np\n",
    "import pandas as pd\n",
    "import glob\n",
    "import os\n",
    "import matplotlib.pyplot as plt\n",
    "from typing import Tuple\n",
    "\n",
    "from sklearn.ensemble import RandomForestRegressor\n",
    "from xgboost import XGBRegressor\n",
    "from sklearn.metrics import r2_score\n",
    "from sklearn.metrics import mean_squared_error\n",
    "\n",
    "import tensorflow as tf\n",
    "from tensorflow import keras\n",
    "from tensorflow.keras.models import Sequential\n",
    "from tensorflow.keras.layers import Dense\n",
    "\n",
    "from stesml.data_tools import get_scenario_index\n",
    "from stesml.data_tools import get_train_and_test_index\n",
    "from stesml.data_tools import load_data\n",
    "from stesml.data_tools import get_train_data\n",
    "from stesml.data_tools import get_test_data\n",
    "from stesml.data_tools import get_train_and_test_data\n",
    "\n",
    "from stesml.plot_tools import plot_test_results\n",
    "from stesml.plot_tools import plot_average_error\n",
    "from stesml.plot_tools import plot_progress_results"
   ]
  },
  {
   "cell_type": "code",
   "execution_count": 12,
   "id": "7b117c70-9ab6-4f9d-8ca8-75a12f1025f2",
   "metadata": {},
   "outputs": [
    {
     "name": "stdout",
     "output_type": "stream",
     "text": [
      "The tensorboard extension is already loaded. To reload it, use:\n",
      "  %reload_ext tensorboard\n"
     ]
    },
    {
     "name": "stderr",
     "output_type": "stream",
     "text": [
      "2022-06-29 23:11:57.740152: I tensorflow/core/profiler/lib/profiler_session.cc:136] Profiler session initializing.\n",
      "2022-06-29 23:11:57.740166: I tensorflow/core/profiler/lib/profiler_session.cc:155] Profiler session started.\n",
      "2022-06-29 23:11:57.740187: I tensorflow/core/profiler/lib/profiler_session.cc:172] Profiler session tear down.\n"
     ]
    }
   ],
   "source": [
    "%load_ext tensorboard\n",
    "import datetime\n",
    "log_dir = \"logs/fit/\" + datetime.datetime.now().strftime(\"%Y%m%d-%H%M%S\")\n",
    "tensorboard_callback = tf.keras.callbacks.TensorBoard(log_dir=log_dir, histogram_freq=1)"
   ]
  },
  {
   "cell_type": "code",
   "execution_count": 13,
   "id": "63c29834-65f8-4d75-93d4-242b45578ce0",
   "metadata": {},
   "outputs": [],
   "source": [
    "earlystopping_callback = tf.keras.callbacks.EarlyStopping(\n",
    "    monitor=\"val_loss\",\n",
    "    min_delta=0,\n",
    "    patience=0,\n",
    "    verbose=0,\n",
    "    mode=\"auto\",\n",
    "    baseline=None,\n",
    "    restore_best_weights=True,\n",
    ")"
   ]
  },
  {
   "cell_type": "code",
   "execution_count": 14,
   "id": "cf576374-6662-47dc-a33b-508a65bb4957",
   "metadata": {},
   "outputs": [],
   "source": [
    "data_dir = \"../data/Sulfur_Models/\"\n",
    "\n",
    "scenario_index = pd.DataFrame({\"filepath\": glob.glob(os.path.join(data_dir, \"ML_*_*.csv\"))})"
   ]
  },
  {
   "cell_type": "code",
   "execution_count": 15,
   "id": "5a9b34d2-2303-4f19-b86f-640da17b4fe5",
   "metadata": {},
   "outputs": [],
   "source": [
    "target = 'Tavg'\n",
    "scale = True"
   ]
  },
  {
   "cell_type": "code",
   "execution_count": 16,
   "id": "d35b820f-8bea-4250-96ff-7091706dae05",
   "metadata": {},
   "outputs": [],
   "source": [
    "# Get the train and test index by randomly splitting up data (80-20 train-test split)\n",
    "train_index, test_index = get_train_and_test_index(scenario_index)"
   ]
  },
  {
   "cell_type": "code",
   "execution_count": 17,
   "id": "d6550955-a3fd-4db6-98f4-11ce9da3a837",
   "metadata": {},
   "outputs": [],
   "source": [
    "# Get train and test data\n",
    "X_train, y_train, X_test, y_test, scaler_x, scaler_y = get_train_and_test_data(scenario_index, train_index, test_index, target, scale)"
   ]
  },
  {
   "cell_type": "code",
   "execution_count": 18,
   "id": "096117f1-cc88-43a4-aebb-86df2a0c1edf",
   "metadata": {},
   "outputs": [
    {
     "name": "stdout",
     "output_type": "stream",
     "text": [
      "Model: \"sequential\"\n",
      "_________________________________________________________________\n",
      "Layer (type)                 Output Shape              Param #   \n",
      "=================================================================\n",
      "dense (Dense)                (None, 50)                200       \n",
      "_________________________________________________________________\n",
      "dense_1 (Dense)              (None, 50)                2550      \n",
      "_________________________________________________________________\n",
      "dense_2 (Dense)              (None, 1)                 51        \n",
      "=================================================================\n",
      "Total params: 2,801\n",
      "Trainable params: 2,801\n",
      "Non-trainable params: 0\n",
      "_________________________________________________________________\n"
     ]
    },
    {
     "name": "stderr",
     "output_type": "stream",
     "text": [
      "2022-06-29 23:12:18.632835: I tensorflow/core/platform/cpu_feature_guard.cc:142] This TensorFlow binary is optimized with oneAPI Deep Neural Network Library (oneDNN) to use the following CPU instructions in performance-critical operations:  SSE4.1 SSE4.2 AVX AVX2 FMA\n",
      "To enable them in other operations, rebuild TensorFlow with the appropriate compiler flags.\n"
     ]
    }
   ],
   "source": [
    "# Get the model\n",
    "model = Sequential()\n",
    "model.add(Dense(50, activation='relu', input_shape=(3,)))\n",
    "model.add(Dense(50, activation='relu'))\n",
    "model.add(Dense(1))\n",
    "model.compile(optimizer='adam', loss='mse')\n",
    "model.build()\n",
    "model.summary()"
   ]
  },
  {
   "cell_type": "code",
   "execution_count": 19,
   "id": "fbbd32d1-7226-4b05-a993-a0f2358c87ea",
   "metadata": {},
   "outputs": [
    {
     "name": "stderr",
     "output_type": "stream",
     "text": [
      "2022-06-29 23:12:28.541459: I tensorflow/compiler/mlir/mlir_graph_optimization_pass.cc:116] None of the MLIR optimization passes are enabled (registered 2)\n"
     ]
    },
    {
     "name": "stdout",
     "output_type": "stream",
     "text": [
      "Epoch 1/10\n",
      "6742/6742 [==============================] - 6s 809us/step - loss: 0.0135 - val_loss: 0.0033\n",
      "Epoch 2/10\n",
      "6742/6742 [==============================] - 5s 730us/step - loss: 2.2236e-05 - val_loss: 0.0032\n",
      "Epoch 3/10\n",
      "6742/6742 [==============================] - 5s 724us/step - loss: 1.2087e-05 - val_loss: 0.0032\n",
      "Epoch 4/10\n",
      "6742/6742 [==============================] - 5s 736us/step - loss: 9.4523e-06 - val_loss: 0.0032\n"
     ]
    },
    {
     "data": {
      "text/plain": [
       "<tensorflow.python.keras.callbacks.History at 0x7fe3bf6adf10>"
      ]
     },
     "execution_count": 19,
     "metadata": {},
     "output_type": "execute_result"
    }
   ],
   "source": [
    "# Fit the model to training data\n",
    "model.fit(x=X_train, \n",
    "          y=y_train,\n",
    "          batch_size=300,\n",
    "          epochs=10,\n",
    "          validation_data=(X_test, y_test),\n",
    "          callbacks=[earlystopping_callback])"
   ]
  },
  {
   "cell_type": "code",
   "execution_count": 20,
   "id": "b14cf126-7a57-4039-aae2-7054a1efe63a",
   "metadata": {},
   "outputs": [],
   "source": [
    "# Get predictions for test data\n",
    "y_hat = model.predict(X_test)"
   ]
  },
  {
   "cell_type": "code",
   "execution_count": 21,
   "id": "01aa52da-5ab7-4192-b383-6c008d9a0558",
   "metadata": {},
   "outputs": [],
   "source": [
    "y_hat = scaler_y.inverse_transform(y_hat.reshape(-1,1)).reshape(1,-1)[0]\n",
    "y_test = scaler_y.inverse_transform(y_test.reshape(-1,1)).reshape(1,-1)[0]"
   ]
  },
  {
   "cell_type": "code",
   "execution_count": 22,
   "id": "34626caf-dffe-46c5-9610-228ee1cfe735",
   "metadata": {},
   "outputs": [
    {
     "name": "stdout",
     "output_type": "stream",
     "text": [
      "2.987462078402744\n"
     ]
    }
   ],
   "source": [
    "# Evaluate results\n",
    "rmse = mean_squared_error(y_test, y_hat, squared=False)\n",
    "print(rmse)"
   ]
  },
  {
   "cell_type": "code",
   "execution_count": 23,
   "id": "c810501f-5a7e-4a6f-aa61-dc4ec734c3ee",
   "metadata": {},
   "outputs": [
    {
     "name": "stdout",
     "output_type": "stream",
     "text": [
      "0.9959118712308493\n"
     ]
    }
   ],
   "source": [
    "r2 = r2_score(y_test, y_hat)\n",
    "print(r2)"
   ]
  },
  {
   "cell_type": "code",
   "execution_count": 25,
   "id": "406662bb-ddae-4ec5-b9a0-1710727d249b",
   "metadata": {},
   "outputs": [],
   "source": [
    "test_df = load_data(scenario_index, test_index)\n",
    "test_df[target+\"_hat\"] = y_hat"
   ]
  },
  {
   "cell_type": "code",
   "execution_count": 27,
   "id": "d914266f-8c43-43b0-846d-81b589b3c55f",
   "metadata": {},
   "outputs": [
    {
     "ename": "SyntaxError",
     "evalue": "positional argument follows keyword argument (1664183238.py, line 1)",
     "output_type": "error",
     "traceback": [
      "\u001b[0;36m  Input \u001b[0;32mIn [27]\u001b[0;36m\u001b[0m\n\u001b[0;31m    plot_test_results(test_df, model_type='NN', target)\u001b[0m\n\u001b[0m                                                      ^\u001b[0m\n\u001b[0;31mSyntaxError\u001b[0m\u001b[0;31m:\u001b[0m positional argument follows keyword argument\n"
     ]
    }
   ],
   "source": [
    "plot_test_results(test_df, 'NN', target)"
   ]
  },
  {
   "cell_type": "code",
   "execution_count": null,
   "id": "30e9a925-a91c-4b72-9ba5-d16bae6af473",
   "metadata": {},
   "outputs": [],
   "source": []
  }
 ],
 "metadata": {
  "kernelspec": {
   "display_name": "Python 3 (ipykernel)",
   "language": "python",
   "name": "python3"
  },
  "language_info": {
   "codemirror_mode": {
    "name": "ipython",
    "version": 3
   },
   "file_extension": ".py",
   "mimetype": "text/x-python",
   "name": "python",
   "nbconvert_exporter": "python",
   "pygments_lexer": "ipython3",
   "version": "3.9.12"
  }
 },
 "nbformat": 4,
 "nbformat_minor": 5
}
