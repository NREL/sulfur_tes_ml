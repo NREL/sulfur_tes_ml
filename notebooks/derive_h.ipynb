{
 "cells": [
  {
   "cell_type": "code",
   "execution_count": 2,
   "id": "b0d21bb8-cbf0-473c-9f9c-4703c73abc8a",
   "metadata": {},
   "outputs": [],
   "source": [
    "import math"
   ]
  },
  {
   "cell_type": "code",
   "execution_count": 3,
   "id": "a902abb0-f446-4706-9f1c-efd386f3674a",
   "metadata": {},
   "outputs": [],
   "source": [
    "d_i = 0.01\n",
    "d_o = 0.02\n",
    "pi = math.pi"
   ]
  },
  {
   "cell_type": "code",
   "execution_count": 4,
   "id": "0d4fdd30-e425-43ed-81ae-3ea5bf31bb5d",
   "metadata": {},
   "outputs": [],
   "source": [
    "def get_rho(Tc):\n",
    "    if Tc <= 422:\n",
    "        rho = 2137.7 - 0.8487*Tc\n",
    "    elif Tc > 422 and Tc < 462:\n",
    "        rho = 21125 - 129.29*Tc+ 0.2885*(Tc**2) - 0.00021506*(Tc**3)\n",
    "    else:\n",
    "        rho = 2050.8 - 0.6240*Tc\n",
    "        \n",
    "    return rho"
   ]
  },
  {
   "cell_type": "code",
   "execution_count": 5,
   "id": "733f1b5c-91c8-416b-92b0-472485231ab4",
   "metadata": {},
   "outputs": [],
   "source": [
    "def get_Ac():\n",
    "    Ac = (pi/4) * (d_o**2 - d_i**2) # Cross-sectional area\n",
    "    \n",
    "    return Ac"
   ]
  },
  {
   "cell_type": "code",
   "execution_count": 6,
   "id": "f8189617-0bec-422f-bbf5-9cc431e4626c",
   "metadata": {},
   "outputs": [],
   "source": [
    "def get_m(Tc, Ac):\n",
    "    # Get mass for a cross-sectional area of pipe, assuming unit length\n",
    "    rho = get_rho(Tc)\n",
    "    m = Ac * rho\n",
    "    \n",
    "    return m"
   ]
  },
  {
   "cell_type": "code",
   "execution_count": 7,
   "id": "a6943f50-e6b9-422c-b29f-3284bbc71a38",
   "metadata": {},
   "outputs": [],
   "source": [
    "def get_Cp(Tc):           \n",
    "    if Tc <= 392:                  \n",
    "        Cp = 996.458/1000\n",
    "    elif Tc > 392 and Tc <= 431.2:\n",
    "        Cp = ( 3.636e-7*math.exp(1.925/(Tc - 440.4)) ) + ( 0.002564*Tc )\n",
    "    elif Tc>431.2 and Tc<718:\n",
    "        Cp= 1.065 + ( 2.599/(Tc- 428) ) - ( 0.3092/((Tc - 428)**2) ) + ( 5.911e-9*((Tc - 428)**3) )\n",
    "    elif Tc>=718:\n",
    "        Cp = 1215.535/1000;\n",
    "    Cp = Cp*1000\n",
    "        \n",
    "    return Cp\n",
    "\n",
    "if t_avg[i]<=392:                  \n",
    "            cp_t_avg[i]= 996.458/1000 ;\n",
    "        elif t_avg[i]>392 and t_avg[i]<= 431.2 :\n",
    "            cp_t_avg[i]= ((3.636e-7)*(math.exp(1.925/(t_avg[i]- 440.4)) ) )+ 0.002564*t_avg[i] ;\n",
    "        elif t_avg[i]>431.2 and t_avg[i]<718:\n",
    "            cp_t_avg[i]= 1.065+ ( 2.599/(t_avg[i]- 428) )-( 0.3092/((t_avg[i]- 428)**2) ) + (5.911e-9)*((t_avg[i]- 428)**3) ;\n",
    "        elif t_avg[i]>=718:\n",
    "            cp_t_avg[i]= 1215.535/1000;\n",
    "        cp_t_avg[i]=cp_t_avg[i]*1000;   "
   ]
  },
  {
   "cell_type": "code",
   "execution_count": 8,
   "id": "225da560-1ff2-4ba6-8ee2-d11780dcbee2",
   "metadata": {},
   "outputs": [],
   "source": [
    "def get_As():\n",
    "    As = pi * d_i # Heat transfer surface area, assuming unit length\n",
    "    \n",
    "    return As"
   ]
  },
  {
   "cell_type": "code",
   "execution_count": 9,
   "id": "01c83169-cce8-4165-901a-67241673b89c",
   "metadata": {},
   "outputs": [],
   "source": [
    "def get_dTc_dt(Tc_list, i, timestep):\n",
    "    ######################\n",
    "    # Formula (Centered difference for discrete differentiation):\n",
    "    #\n",
    "    #           Tc_(t+1) - Tc_(t-1)\n",
    "    # dTc/dt = --------------------\n",
    "    #              2 * timestep\n",
    "    #\n",
    "    ######################\n",
    "    \n",
    "    Tc_prev = Tc_list[i - 1][0]\n",
    "    Tc_next = Tc_list[i + 1][0]\n",
    "    \n",
    "    dTc_dt = (Tc_next - Tc_prev) / (2*timestep)\n",
    "    \n",
    "    return dTc_dt"
   ]
  },
  {
   "cell_type": "code",
   "execution_count": 35,
   "id": "19d2d5b8-0b05-4f5f-9571-c1c6c482b31b",
   "metadata": {},
   "outputs": [],
   "source": [
    "def get_h(df):\n",
    "    ######################\n",
    "    # Formula:\n",
    "    #\n",
    "    #     m * Cp * dTc/dt\n",
    "    # h = ---------------\n",
    "    #      As * (Tw - Tc)\n",
    "    #\n",
    "    ######################\n",
    "    \n",
    "    # This formula assumes it is given a dataframe (df) from a single dataset\n",
    "    # e.g. the data from a single test run with Tw = 550 and Ti = 440.\n",
    "    \n",
    "    Tc_list = df[[\"Tc\"]].to_numpy()\n",
    "    time_list = df[[\"Time\"]].to_numpy()\n",
    "    timestep = time_list[1][0] - time_list[0][0]\n",
    "    Tw = df[[\"Tw\"]].to_numpy()[0][0]\n",
    "    As = get_As()\n",
    "    Ac = get_Ac()\n",
    "    #print('As=',As,'Ac=',Ac,'Tw=',Tw,'timestep=',timestep)\n",
    "    \n",
    "    h = list()\n",
    "    for i, Tc in enumerate(Tc_list):\n",
    "        Tc = Tc[0]\n",
    "        if i == 0 or i == len(Tc_list) - 1: # Cannot get centered diff derivative for Tc at first and last datapoints\n",
    "            continue\n",
    "        m = get_m(Tc, Ac)\n",
    "        Cp = get_Cp(Tc)\n",
    "        dTc_dt = get_dTc_dt(Tc_list, i, timestep)\n",
    "        \n",
    "        h_i = (m * Cp * dTc_dt) / (As * (Tw-Tc))\n",
    "        \n",
    "        #print('m=',m,'Cp=',Cp,'dTc_dt=',dTc_dt,'Tc=',Tc,'h=',h_i)\n",
    "        \n",
    "        h.append(h_i)\n",
    "        \n",
    "    return h"
   ]
  },
  {
   "cell_type": "code",
   "execution_count": 11,
   "id": "c40660fa-ba61-447c-8183-1a5d9c4fccfd",
   "metadata": {},
   "outputs": [],
   "source": [
    "import os\n",
    "import pandas as pd\n",
    "import numpy as np\n",
    "import glob\n",
    "\n",
    "from stesml.data_tools import get_train_and_test_index\n",
    "from stesml.data_tools import load_data\n",
    "from stesml.data_tools import series_to_supervised\n",
    "from stesml.data_tools import get_train_data\n",
    "from stesml.data_tools import get_test_data"
   ]
  },
  {
   "cell_type": "code",
   "execution_count": 12,
   "id": "33d612af-c9f2-4a85-95d9-ee8f1e73c87d",
   "metadata": {},
   "outputs": [
    {
     "data": {
      "text/html": [
       "<div>\n",
       "<style scoped>\n",
       "    .dataframe tbody tr th:only-of-type {\n",
       "        vertical-align: middle;\n",
       "    }\n",
       "\n",
       "    .dataframe tbody tr th {\n",
       "        vertical-align: top;\n",
       "    }\n",
       "\n",
       "    .dataframe thead th {\n",
       "        text-align: right;\n",
       "    }\n",
       "</style>\n",
       "<table border=\"1\" class=\"dataframe\">\n",
       "  <thead>\n",
       "    <tr style=\"text-align: right;\">\n",
       "      <th></th>\n",
       "      <th>filepath</th>\n",
       "    </tr>\n",
       "  </thead>\n",
       "  <tbody>\n",
       "    <tr>\n",
       "      <th>0</th>\n",
       "      <td>../data/Air_Models/IG_500_390.csv</td>\n",
       "    </tr>\n",
       "    <tr>\n",
       "      <th>1</th>\n",
       "      <td>../data/Air_Models/IG_520_300.csv</td>\n",
       "    </tr>\n",
       "    <tr>\n",
       "      <th>2</th>\n",
       "      <td>../data/Air_Models/IG_530_300.csv</td>\n",
       "    </tr>\n",
       "    <tr>\n",
       "      <th>3</th>\n",
       "      <td>../data/Air_Models/IG_600_560.csv</td>\n",
       "    </tr>\n",
       "    <tr>\n",
       "      <th>4</th>\n",
       "      <td>../data/Air_Models/IG_600_400.csv</td>\n",
       "    </tr>\n",
       "    <tr>\n",
       "      <th>...</th>\n",
       "      <td>...</td>\n",
       "    </tr>\n",
       "    <tr>\n",
       "      <th>135</th>\n",
       "      <td>../data/Air_Models/IG_370_300.csv</td>\n",
       "    </tr>\n",
       "    <tr>\n",
       "      <th>136</th>\n",
       "      <td>../data/Air_Models/IG_600_550.csv</td>\n",
       "    </tr>\n",
       "    <tr>\n",
       "      <th>137</th>\n",
       "      <td>../data/Air_Models/IG_600_430.csv</td>\n",
       "    </tr>\n",
       "    <tr>\n",
       "      <th>138</th>\n",
       "      <td>../data/Air_Models/IG_550_340.csv</td>\n",
       "    </tr>\n",
       "    <tr>\n",
       "      <th>139</th>\n",
       "      <td>../data/Air_Models/IG_500_410.csv</td>\n",
       "    </tr>\n",
       "  </tbody>\n",
       "</table>\n",
       "<p>140 rows × 1 columns</p>\n",
       "</div>"
      ],
      "text/plain": [
       "                              filepath\n",
       "0    ../data/Air_Models/IG_500_390.csv\n",
       "1    ../data/Air_Models/IG_520_300.csv\n",
       "2    ../data/Air_Models/IG_530_300.csv\n",
       "3    ../data/Air_Models/IG_600_560.csv\n",
       "4    ../data/Air_Models/IG_600_400.csv\n",
       "..                                 ...\n",
       "135  ../data/Air_Models/IG_370_300.csv\n",
       "136  ../data/Air_Models/IG_600_550.csv\n",
       "137  ../data/Air_Models/IG_600_430.csv\n",
       "138  ../data/Air_Models/IG_550_340.csv\n",
       "139  ../data/Air_Models/IG_500_410.csv\n",
       "\n",
       "[140 rows x 1 columns]"
      ]
     },
     "execution_count": 12,
     "metadata": {},
     "output_type": "execute_result"
    }
   ],
   "source": [
    "data_dir = \"../data/Air_Models/\"\n",
    "\n",
    "scenario_index = pd.DataFrame({\"filepath\": glob.glob(os.path.join(data_dir, \"IG_*_*.csv\"))})\n",
    "scenario_index"
   ]
  },
  {
   "cell_type": "code",
   "execution_count": 13,
   "id": "abdbf559-0d3e-4b98-a41e-2818b42d3dab",
   "metadata": {},
   "outputs": [],
   "source": [
    "train_index, test_index = get_train_and_test_index(scenario_index)\n",
    "\n",
    "test_df = load_data(scenario_index, test_index, is_recurrent_test_data=True)"
   ]
  },
  {
   "cell_type": "code",
   "execution_count": 36,
   "id": "e6af999e-5222-42c4-be54-a912dc3cb115",
   "metadata": {},
   "outputs": [],
   "source": [
    "h = get_h(test_df[0])"
   ]
  },
  {
   "cell_type": "code",
   "execution_count": 37,
   "id": "a680111b-8fd2-4784-b8e9-0dcfb000f581",
   "metadata": {},
   "outputs": [
    {
     "data": {
      "text/plain": [
       "[<matplotlib.lines.Line2D at 0x7fc7bfed6ec0>]"
      ]
     },
     "execution_count": 37,
     "metadata": {},
     "output_type": "execute_result"
    },
    {
     "data": {
      "image/png": "[encoded data removed]",
      "text/plain": [
       "<Figure size 432x288 with 1 Axes>"
      ]
     },
     "metadata": {
      "needs_background": "light"
     },
     "output_type": "display_data"
    }
   ],
   "source": [
    "import matplotlib.pyplot as plt\n",
    "window = 25\n",
    "average_h = []\n",
    "for ind in range(len(h) - window + 1):\n",
    "    average_h.append(np.mean(h[ind:ind+window]))\n",
    "    \n",
    "plt.plot(average_h)"
   ]
  },
  {
   "cell_type": "code",
   "execution_count": null,
   "id": "3c1fc232-e10b-40b5-b4ff-9c5eff453312",
   "metadata": {},
   "outputs": [],
   "source": []
  }
 ],
 "metadata": {
  "kernelspec": {
   "display_name": "Python 3 (ipykernel)",
   "language": "python",
   "name": "python3"
  },
  "language_info": {
   "codemirror_mode": {
    "name": "ipython",
    "version": 3
   },
   "file_extension": ".py",
   "mimetype": "text/x-python",
   "name": "python",
   "nbconvert_exporter": "python",
   "pygments_lexer": "ipython3",
   "version": "3.10.4"
  }
 },
 "nbformat": 4,
 "nbformat_minor": 5
}
