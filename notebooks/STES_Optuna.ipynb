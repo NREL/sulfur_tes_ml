{
 "cells": [
  {
   "cell_type": "code",
   "execution_count": 3,
   "id": "dae73c25-a7b6-4885-8cb0-2166e56a7b4c",
   "metadata": {},
   "outputs": [],
   "source": [
    "import optuna"
   ]
  },
  {
   "cell_type": "code",
   "execution_count": 4,
   "id": "6dff9627-7970-4b2c-9693-f735e6b72940",
   "metadata": {},
   "outputs": [],
   "source": [
    "from stesml.model_tools import build_train_test_model"
   ]
  },
  {
   "cell_type": "code",
   "execution_count": 5,
   "id": "691a5477-7183-475a-aded-282a55bb1faa",
   "metadata": {},
   "outputs": [],
   "source": [
    "data_dir = \"../data/Sulfur_Models/\"\n",
    "model_type = 'NN' # Options: NN, XGBoost, RandomForest\n",
    "target = 'Tavg' # Options: Tavg, h\n",
    "metric = 'rmse' # Options: rmse, r2\n",
    "n_shuffles = 3\n",
    "\n",
    "if metric == 'rmse':\n",
    "    direction = 'minimize'\n",
    "elif metric == 'r2':\n",
    "    directon = 'maximize'"
   ]
  },
  {
   "cell_type": "code",
   "execution_count": 6,
   "id": "895c3113-0e9c-4206-8532-108b21078362",
   "metadata": {},
   "outputs": [],
   "source": [
    "def objective(trial):   \n",
    "    if model_type == 'NN':\n",
    "        scale = True\n",
    "        n_layers = trial.suggest_int(\"n_layers\", 1, 5)\n",
    "        n_hidden_units = trial.suggest_int(\"n_hidden_units\", 10, 100)\n",
    "        batch_size = trial.suggest_int(\"batch_size\", 10, 10000, log=True)\n",
    "        epochs = trial.suggest_int(\"epochs\", 1, 20)\n",
    "        result = build_train_test_model(data_dir, model_type, target, metric, scale, n_layers, n_hidden_units, batch_size, epochs, trial=trial, n_shuffles=n_shuffles)\n",
    "    elif model_type == 'XGBoost':\n",
    "        scale = False\n",
    "        n_estimators = trial.suggest_int(\"n_estimators\", 50, 10000, log=True)\n",
    "        result = build_train_test_model(data_dir, model_type, target, metric, scale, n_estimators=n_estimators, trial=trial, n_shuffles=n_shuffles)\n",
    "    elif model_type == 'RandomForest':\n",
    "        scale = False\n",
    "        n_estimators = trial.suggest_int(\"n_estimators\", 1, 100, log=True)\n",
    "        result = build_train_test_model(data_dir, model_type, target, metric, scale, n_estimators=n_estimators, trial=trial, n_shuffles=n_shuffles)\n",
    "    \n",
    "    return result"
   ]
  },
  {
   "cell_type": "code",
   "execution_count": 7,
   "id": "a9a53952-8964-4abb-95fb-315e0b158cd3",
   "metadata": {},
   "outputs": [
    {
     "name": "stderr",
     "output_type": "stream",
     "text": [
      "\u001b[32m[I 2022-06-29 15:49:30,324]\u001b[0m A new study created in memory with name: no-name-8ea2fa55-aa2a-4870-8bee-80fde6df3720\u001b[0m\n"
     ]
    }
   ],
   "source": [
    "study = optuna.create_study(direction=direction)"
   ]
  },
  {
   "cell_type": "code",
   "execution_count": null,
   "id": "798d9325-63a3-470d-a1f8-26176557ee91",
   "metadata": {},
   "outputs": [
    {
     "name": "stderr",
     "output_type": "stream",
     "text": [
      "2022-06-29 15:49:46.134167: I tensorflow/core/platform/cpu_feature_guard.cc:142] This TensorFlow binary is optimized with oneAPI Deep Neural Network Library (oneDNN) to use the following CPU instructions in performance-critical operations:  SSE4.1 SSE4.2 AVX AVX2 FMA\n",
      "To enable them in other operations, rebuild TensorFlow with the appropriate compiler flags.\n",
      "2022-06-29 15:49:46.236457: I tensorflow/compiler/mlir/mlir_graph_optimization_pass.cc:116] None of the MLIR optimization passes are enabled (registered 2)\n"
     ]
    },
    {
     "name": "stdout",
     "output_type": "stream",
     "text": [
      "Epoch 1/7\n",
      "1783/1783 [==============================] - 5s 2ms/step - loss: 0.0526 - val_loss: 0.0014\n",
      "Epoch 2/7\n",
      "1783/1783 [==============================] - 4s 2ms/step - loss: 1.0819e-04 - val_loss: 0.0017\n",
      "Stopped 5 epochs early. Applying penalty of 1.05. Old result = 1.9922087427003063\n",
      "New result = 2.091819179835322\n",
      "Result: 2.0918\n",
      "RMSE AVG: 2.0918\n",
      "Epoch 1/7\n",
      "1783/1783 [==============================] - 4s 2ms/step - loss: 0.0605 - val_loss: 0.0037\n",
      "Epoch 2/7\n",
      "1783/1783 [==============================] - 4s 2ms/step - loss: 3.2103e-05 - val_loss: 0.0043\n",
      "Stopped 5 epochs early. Applying penalty of 1.05. Old result = 3.102303849699908\n",
      "New result = 3.257419042184903\n",
      "Result: 3.2574\n",
      "RMSE AVG: 2.6746\n",
      "Epoch 1/7\n",
      "1785/1785 [==============================] - 4s 2ms/step - loss: 0.0403 - val_loss: 0.0025\n",
      "Epoch 2/7\n",
      "1785/1785 [==============================] - 4s 2ms/step - loss: 8.2706e-05 - val_loss: 0.0030\n"
     ]
    },
    {
     "name": "stderr",
     "output_type": "stream",
     "text": [
      "\u001b[32m[I 2022-06-29 15:51:04,572]\u001b[0m Trial 0 finished with value: 2.748779291731692 and parameters: {'n_layers': 5, 'n_hidden_units': 33, 'batch_size': 1134, 'epochs': 7}. Best is trial 0 with value: 2.748779291731692.\u001b[0m\n"
     ]
    },
    {
     "name": "stdout",
     "output_type": "stream",
     "text": [
      "Stopped 5 epochs early. Applying penalty of 1.05. Old result = 2.7591425268331915\n",
      "New result = 2.8970996531748514\n",
      "Result: 2.8971\n",
      "RMSE AVG: 2.7488\n",
      "Epoch 1/19\n",
      "812/812 [==============================] - 3s 3ms/step - loss: 0.0570 - val_loss: 0.0025\n",
      "Epoch 2/19\n",
      "812/812 [==============================] - 3s 3ms/step - loss: 1.9203e-04 - val_loss: 0.0013\n",
      "Epoch 3/19\n",
      "812/812 [==============================] - 3s 4ms/step - loss: 2.9521e-05 - val_loss: 0.0012\n",
      "Epoch 4/19\n",
      "812/812 [==============================] - 3s 4ms/step - loss: 2.2868e-05 - val_loss: 0.0013\n",
      "Stopped 15 epochs early. Applying penalty of 1.15. Old result = 1.8911354143158032\n",
      "New result = 2.1748057264631737\n",
      "Result: 2.1748\n",
      "RMSE AVG: 2.1748\n",
      "Epoch 1/19\n",
      "811/811 [==============================] - 3s 3ms/step - loss: 0.0541 - val_loss: 0.0016\n",
      "Epoch 2/19\n",
      "811/811 [==============================] - 3s 3ms/step - loss: 1.2827e-04 - val_loss: 0.0011\n",
      "Epoch 3/19\n",
      "811/811 [==============================] - 3s 4ms/step - loss: 3.7855e-05 - val_loss: 0.0011\n",
      "Epoch 4/19\n",
      "811/811 [==============================] - 3s 4ms/step - loss: 1.6796e-05 - val_loss: 0.0011\n",
      "Epoch 5/19\n",
      "811/811 [==============================] - 3s 4ms/step - loss: 1.9294e-05 - val_loss: 0.0013\n",
      "Stopped 14 epochs early. Applying penalty of 1.1400000000000001. Old result = 1.778112134347848\n",
      "New result = 2.027047833156547\n",
      "Result: 2.0270\n",
      "RMSE AVG: 2.1009\n",
      "Epoch 1/19\n",
      "811/811 [==============================] - 3s 3ms/step - loss: 0.0470 - val_loss: 0.0014\n",
      "Epoch 2/19\n",
      "811/811 [==============================] - 3s 3ms/step - loss: 1.4600e-04 - val_loss: 0.0019\n"
     ]
    },
    {
     "name": "stderr",
     "output_type": "stream",
     "text": [
      "\u001b[32m[I 2022-06-29 15:52:41,685]\u001b[0m Trial 1 finished with value: 2.1406073803899517 and parameters: {'n_layers': 3, 'n_hidden_units': 87, 'batch_size': 2496, 'epochs': 19}. Best is trial 1 with value: 2.1406073803899517.\u001b[0m\n"
     ]
    },
    {
     "name": "stdout",
     "output_type": "stream",
     "text": [
      "Stopped 17 epochs early. Applying penalty of 1.17. Old result = 1.897409044059944\n",
      "New result = 2.2199685815501344\n",
      "Result: 2.2200\n",
      "RMSE AVG: 2.1406\n",
      "Epoch 1/19\n",
      "1029/1029 [==============================] - 3s 3ms/step - loss: 0.0586 - val_loss: 0.0013\n",
      "Epoch 2/19\n",
      "1029/1029 [==============================] - 3s 3ms/step - loss: 1.1001e-04 - val_loss: 0.0023\n",
      "Stopped 17 epochs early. Applying penalty of 1.17. Old result = 1.903951836301064\n",
      "New result = 2.2276236484722447\n",
      "Result: 2.2276\n",
      "RMSE AVG: 2.2276\n",
      "Epoch 1/19\n",
      " 289/1029 [=======>......................] - ETA: 1s - loss: 0.1108"
     ]
    }
   ],
   "source": [
    "study.optimize(objective, n_trials=45)"
   ]
  },
  {
   "cell_type": "code",
   "execution_count": 17,
   "id": "7b1bd5a8-191b-4458-8f65-aaacdacd7944",
   "metadata": {},
   "outputs": [],
   "source": [
    "best_params = study.best_params"
   ]
  },
  {
   "cell_type": "code",
   "execution_count": 18,
   "id": "30856eb2-9144-4793-8609-503f17cdab7b",
   "metadata": {},
   "outputs": [
    {
     "data": {
      "text/plain": [
       "{'n_layers': 2, 'n_hidden_units': 79, 'batch_size': 339, 'epochs': 7}"
      ]
     },
     "execution_count": 18,
     "metadata": {},
     "output_type": "execute_result"
    }
   ],
   "source": [
    "best_params"
   ]
  },
  {
   "cell_type": "code",
   "execution_count": 21,
   "id": "e1f60f86-38d5-4005-afd9-6b53676817e2",
   "metadata": {},
   "outputs": [],
   "source": [
    "best_value = study.best_value"
   ]
  },
  {
   "cell_type": "code",
   "execution_count": 22,
   "id": "b5a74c6d-d7c7-4eed-910f-cc3e7e7eda06",
   "metadata": {},
   "outputs": [
    {
     "data": {
      "text/plain": [
       "1.0137617092656621"
      ]
     },
     "execution_count": 22,
     "metadata": {},
     "output_type": "execute_result"
    }
   ],
   "source": [
    "best_value"
   ]
  },
  {
   "cell_type": "code",
   "execution_count": null,
   "id": "dcea2104-bf23-4a32-b745-af9692450072",
   "metadata": {},
   "outputs": [],
   "source": []
  }
 ],
 "metadata": {
  "kernelspec": {
   "display_name": "Python 3 (ipykernel)",
   "language": "python",
   "name": "python3"
  },
  "language_info": {
   "codemirror_mode": {
    "name": "ipython",
    "version": 3
   },
   "file_extension": ".py",
   "mimetype": "text/x-python",
   "name": "python",
   "nbconvert_exporter": "python",
   "pygments_lexer": "ipython3",
   "version": "3.9.12"
  }
 },
 "nbformat": 4,
 "nbformat_minor": 5
}
