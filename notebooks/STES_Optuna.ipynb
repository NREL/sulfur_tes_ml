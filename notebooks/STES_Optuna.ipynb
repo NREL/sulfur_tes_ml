{
 "cells": [
  {
   "cell_type": "code",
   "execution_count": 1,
   "id": "dae73c25-a7b6-4885-8cb0-2166e56a7b4c",
   "metadata": {},
   "outputs": [
    {
     "name": "stderr",
     "output_type": "stream",
     "text": [
      "/Users/kmenear/Projects/envSulfurTES/lib/python3.9/site-packages/tqdm/auto.py:22: TqdmWarning: IProgress not found. Please update jupyter and ipywidgets. See https://ipywidgets.readthedocs.io/en/stable/user_install.html\n",
      "  from .autonotebook import tqdm as notebook_tqdm\n"
     ]
    }
   ],
   "source": [
    "import optuna\n",
    "import joblib\n",
    "import datetime"
   ]
  },
  {
   "cell_type": "code",
   "execution_count": 2,
   "id": "6dff9627-7970-4b2c-9693-f735e6b72940",
   "metadata": {},
   "outputs": [
    {
     "name": "stderr",
     "output_type": "stream",
     "text": [
      "/Users/kmenear/Projects/envSulfurTES/lib/python3.9/site-packages/xgboost/compat.py:36: FutureWarning: pandas.Int64Index is deprecated and will be removed from pandas in a future version. Use pandas.Index with the appropriate dtype instead.\n",
      "  from pandas import MultiIndex, Int64Index\n"
     ]
    }
   ],
   "source": [
    "from stesml.model_tools import build_train_test_model"
   ]
  },
  {
   "cell_type": "code",
   "execution_count": 3,
   "id": "895c3113-0e9c-4206-8532-108b21078362",
   "metadata": {},
   "outputs": [],
   "source": [
    "def objective(trial):   \n",
    "    # Save the study before running the next trial\n",
    "    joblib.dump(study, \"../studies/study_\" + model_type + \"_\" + datetime.datetime.now().strftime(\"%Y%m%d-%H\") + \".pkl\")\n",
    "    \n",
    "    if model_type == 'NN':\n",
    "        scale = True\n",
    "        n_layers = trial.suggest_int(\"n_layers\", 1, 5)\n",
    "        n_hidden_units = trial.suggest_int(\"n_hidden_units\", 10, 100)\n",
    "        batch_size = trial.suggest_int(\"batch_size\", 10, 10000, log=True)\n",
    "        epochs = 20 # Neglect optmizing # of epochs, allow early stopping to determine # of epochs\n",
    "        parameters = {'n_layers': n_layers, 'n_hidden_units': n_hidden_units, 'batch_size': batch_size, 'epochs': epochs}\n",
    "        result, addendum = build_train_test_model(data_dir, model_type, target, metric, scale, parameters, n_repeats)\n",
    "    elif model_type == 'XGBoost':\n",
    "        scale = False\n",
    "        #n_estimators = trial.suggest_int(\"n_estimators\", 50, 2000, log=True)\n",
    "        num_boost_round = trial.suggest_int(\"num_boost_round\", 10, 2000, log=True)\n",
    "        learning_rate = trial.suggest_float(\"learning_rate\", 0.01, 1)\n",
    "        subsample = trial.suggest_float(\"subsample\", 0.01, 1)\n",
    "        #parameters = {'n_estimators': n_estimators, 'learning_rate': learning_rate, 'subsample': subsample}\n",
    "        parameters = {'num_boost_round': num_boost_round, 'learning_rate': learning_rate, 'subsample': subsample}\n",
    "        result, addendum = build_train_test_model(data_dir, model_type, target, metric, scale, parameters, n_repeats)\n",
    "    elif model_type == 'RandomForest':\n",
    "        scale = False\n",
    "        n_estimators = trial.suggest_int(\"n_estimators\", 1, 200, log=True)\n",
    "        parameters = {'n_estimators': n_estimators}\n",
    "        result, addendum = build_train_test_model(data_dir, model_type, target, metric, scale, parameters, n_repeats)\n",
    "    \n",
    "    return result"
   ]
  },
  {
   "cell_type": "code",
   "execution_count": 4,
   "id": "691a5477-7183-475a-aded-282a55bb1faa",
   "metadata": {},
   "outputs": [],
   "source": [
    "data_dir = \"../data/Sulfur_Models/\"\n",
    "model_type = 'XGBoost' # Options: NN, XGBoost, RandomForest\n",
    "target = 'h' # Options: Tavg, h\n",
    "metric = 'rmse' # Options: rmse, r2\n",
    "n_repeats = 1 # Number of times to repeat 5-fold CV. Each repeat gives a different shuffle.\n",
    "\n",
    "if metric == 'rmse':\n",
    "    direction = 'minimize'\n",
    "elif metric == 'r2':\n",
    "    directon = 'maximize'\n",
    "    \n",
    "load_study = False\n",
    "study_name = \"study_NN_20220630-18.pkl\""
   ]
  },
  {
   "cell_type": "code",
   "execution_count": 5,
   "id": "a9a53952-8964-4abb-95fb-315e0b158cd3",
   "metadata": {},
   "outputs": [
    {
     "name": "stderr",
     "output_type": "stream",
     "text": [
      "\u001b[32m[I 2022-07-01 12:58:19,242]\u001b[0m A new study created in memory with name: no-name-e816322b-dca0-482e-b61c-5881e40d4e48\u001b[0m\n"
     ]
    }
   ],
   "source": [
    "if load_study:\n",
    "    study = joblib.load(\"../studies/\" + study_name)\n",
    "    print(\"Best trial until now:\")\n",
    "    print(\" Value: \", study.best_trial.value)\n",
    "    print(\" Params: \")\n",
    "    for key, value in study.best_trial.params.items():\n",
    "        print(f\"    {key}: {value}\")\n",
    "else:\n",
    "    study = optuna.create_study(direction=direction)"
   ]
  },
  {
   "cell_type": "code",
   "execution_count": null,
   "id": "798d9325-63a3-470d-a1f8-26176557ee91",
   "metadata": {},
   "outputs": [
    {
     "name": "stdout",
     "output_type": "stream",
     "text": [
      "[0]\ttest-rmse:42.00425\n",
      "[20]\ttest-rmse:4.05371\n",
      "[40]\ttest-rmse:3.87025\n",
      "[60]\ttest-rmse:3.81885\n",
      "[80]\ttest-rmse:3.80827\n",
      "[100]\ttest-rmse:3.78953\n",
      "[120]\ttest-rmse:3.77736\n",
      "[140]\ttest-rmse:3.74959\n",
      "[160]\ttest-rmse:3.74683\n",
      "[180]\ttest-rmse:3.74111\n",
      "[200]\ttest-rmse:3.74231\n",
      "Split #0, This Result: 3.7423, Average Result: 3.7423\n",
      "[0]\ttest-rmse:40.89905\n",
      "[20]\ttest-rmse:4.39948\n",
      "[40]\ttest-rmse:4.30621\n",
      "[59]\ttest-rmse:4.38127\n",
      "Split #1, This Result: 4.3813, Average Result: 4.0618\n",
      "[0]\ttest-rmse:43.64683\n",
      "[20]\ttest-rmse:2.91550\n",
      "[40]\ttest-rmse:2.83054\n",
      "[56]\ttest-rmse:2.86552\n",
      "Split #2, This Result: 2.8646, Average Result: 3.6627\n",
      "[0]\ttest-rmse:44.92471\n",
      "[20]\ttest-rmse:6.59071\n",
      "[40]\ttest-rmse:6.41923\n",
      "[60]\ttest-rmse:6.39549\n",
      "[80]\ttest-rmse:6.38345\n",
      "[100]\ttest-rmse:6.36455\n",
      "[118]\ttest-rmse:6.36429\n",
      "Split #3, This Result: 6.3643, Average Result: 4.3381\n",
      "[0]\ttest-rmse:41.14594\n",
      "[20]\ttest-rmse:6.42169\n",
      "[40]\ttest-rmse:6.35088\n",
      "[60]\ttest-rmse:6.34314\n",
      "[80]\ttest-rmse:6.29696\n",
      "[100]\ttest-rmse:6.30743\n",
      "[120]\ttest-rmse:6.29448\n",
      "[136]\ttest-rmse:6.29251\n"
     ]
    },
    {
     "name": "stderr",
     "output_type": "stream",
     "text": [
      "\u001b[32m[I 2022-07-01 13:06:21,286]\u001b[0m Trial 0 finished with value: 4.728907386525946 and parameters: {'num_boost_round': 518, 'learning_rate': 0.38448171739473397, 'subsample': 0.6494435242693423}. Best is trial 0 with value: 4.728907386525946.\u001b[0m\n"
     ]
    },
    {
     "name": "stdout",
     "output_type": "stream",
     "text": [
      "Split #4, This Result: 6.2920, Average Result: 4.7289\n",
      "[0]\ttest-rmse:29.43078\n",
      "[20]\ttest-rmse:3.94879\n",
      "[40]\ttest-rmse:3.84034\n",
      "[42]\ttest-rmse:3.83426\n",
      "Split #0, This Result: 3.8343, Average Result: 3.8343\n",
      "[0]\ttest-rmse:28.18161\n",
      "[20]\ttest-rmse:5.25564\n",
      "[25]\ttest-rmse:5.25342\n",
      "Split #1, This Result: 5.2509, Average Result: 4.5426\n",
      "[0]\ttest-rmse:30.95565\n",
      "[20]\ttest-rmse:3.41296\n"
     ]
    }
   ],
   "source": [
    "study.optimize(objective, n_trials=50)"
   ]
  },
  {
   "cell_type": "code",
   "execution_count": null,
   "id": "7b1bd5a8-191b-4458-8f65-aaacdacd7944",
   "metadata": {},
   "outputs": [],
   "source": [
    "best_params = study.best_params"
   ]
  },
  {
   "cell_type": "code",
   "execution_count": 18,
   "id": "30856eb2-9144-4793-8609-503f17cdab7b",
   "metadata": {},
   "outputs": [
    {
     "data": {
      "text/plain": [
       "{'n_layers': 2, 'n_hidden_units': 79, 'batch_size': 339, 'epochs': 7}"
      ]
     },
     "execution_count": 18,
     "metadata": {},
     "output_type": "execute_result"
    }
   ],
   "source": [
    "best_params"
   ]
  },
  {
   "cell_type": "code",
   "execution_count": 21,
   "id": "e1f60f86-38d5-4005-afd9-6b53676817e2",
   "metadata": {},
   "outputs": [],
   "source": [
    "best_value = study.best_value"
   ]
  },
  {
   "cell_type": "code",
   "execution_count": 22,
   "id": "b5a74c6d-d7c7-4eed-910f-cc3e7e7eda06",
   "metadata": {},
   "outputs": [
    {
     "data": {
      "text/plain": [
       "1.0137617092656621"
      ]
     },
     "execution_count": 22,
     "metadata": {},
     "output_type": "execute_result"
    }
   ],
   "source": [
    "best_value"
   ]
  },
  {
   "cell_type": "code",
   "execution_count": null,
   "id": "dcea2104-bf23-4a32-b745-af9692450072",
   "metadata": {},
   "outputs": [],
   "source": []
  }
 ],
 "metadata": {
  "kernelspec": {
   "display_name": "Python 3 (ipykernel)",
   "language": "python",
   "name": "python3"
  },
  "language_info": {
   "codemirror_mode": {
    "name": "ipython",
    "version": 3
   },
   "file_extension": ".py",
   "mimetype": "text/x-python",
   "name": "python",
   "nbconvert_exporter": "python",
   "pygments_lexer": "ipython3",
   "version": "3.9.12"
  }
 },
 "nbformat": 4,
 "nbformat_minor": 5
}
