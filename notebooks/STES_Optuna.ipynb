{
 "cells": [
  {
   "cell_type": "code",
   "execution_count": 1,
   "id": "dae73c25-a7b6-4885-8cb0-2166e56a7b4c",
   "metadata": {},
   "outputs": [
    {
     "name": "stderr",
     "output_type": "stream",
     "text": [
      "/Users/kmenear/Projects/envSulfurTES/lib/python3.9/site-packages/tqdm/auto.py:22: TqdmWarning: IProgress not found. Please update jupyter and ipywidgets. See https://ipywidgets.readthedocs.io/en/stable/user_install.html\n",
      "  from .autonotebook import tqdm as notebook_tqdm\n"
     ]
    }
   ],
   "source": [
    "import optuna\n",
    "import joblib\n",
    "import datetime"
   ]
  },
  {
   "cell_type": "code",
   "execution_count": 2,
   "id": "6dff9627-7970-4b2c-9693-f735e6b72940",
   "metadata": {},
   "outputs": [
    {
     "name": "stderr",
     "output_type": "stream",
     "text": [
      "/Users/kmenear/Projects/envSulfurTES/lib/python3.9/site-packages/xgboost/compat.py:36: FutureWarning: pandas.Int64Index is deprecated and will be removed from pandas in a future version. Use pandas.Index with the appropriate dtype instead.\n",
      "  from pandas import MultiIndex, Int64Index\n"
     ]
    }
   ],
   "source": [
    "from stesml.model_tools import build_train_test_model"
   ]
  },
  {
   "cell_type": "code",
   "execution_count": 3,
   "id": "895c3113-0e9c-4206-8532-108b21078362",
   "metadata": {},
   "outputs": [],
   "source": [
    "def objective(trial):   \n",
    "    # Save the study before running the next trial\n",
    "    joblib.dump(study, \"../studies/study_\" + model_type + \"_\" + datetime.datetime.now().strftime(\"%Y%m%d-%H\") + \".pkl\")\n",
    "    \n",
    "    if model_type == 'NN':\n",
    "        scale = True\n",
    "        n_layers = trial.suggest_int(\"n_layers\", 1, 5)\n",
    "        n_hidden_units = trial.suggest_int(\"n_hidden_units\", 10, 100)\n",
    "        batch_size = trial.suggest_int(\"batch_size\", 10, 10000, log=True)\n",
    "        parameters = {'n_layers': n_layers, 'n_hidden_units': n_hidden_units, 'batch_size': batch_size}\n",
    "        result, addendum = build_train_test_model(data_dir, model_type, target, metric, scale, parameters, n_repeats)\n",
    "    elif model_type == 'XGBoost':\n",
    "        scale = False\n",
    "        learning_rate = trial.suggest_float(\"learning_rate\", 0.01, 1)\n",
    "        subsample = trial.suggest_float(\"subsample\", 0.01, 1)\n",
    "        parameters = {'learning_rate': learning_rate, 'subsample': subsample}\n",
    "        result, addendum = build_train_test_model(data_dir, model_type, target, metric, scale, parameters, n_repeats)\n",
    "    elif model_type == 'RandomForest':\n",
    "        scale = False\n",
    "        n_estimators = trial.suggest_int(\"n_estimators\", 1, 200, log=True)\n",
    "        parameters = {'n_estimators': n_estimators}\n",
    "        result, addendum = build_train_test_model(data_dir, model_type, target, metric, scale, parameters, n_repeats)\n",
    "    \n",
    "    return result"
   ]
  },
  {
   "cell_type": "code",
   "execution_count": 4,
   "id": "691a5477-7183-475a-aded-282a55bb1faa",
   "metadata": {},
   "outputs": [],
   "source": [
    "data_dir = \"../data/Sulfur_Models/\"\n",
    "model_type = 'XGBoost' # Options: NN, XGBoost, RandomForest\n",
    "target = 'h' # Options: Tavg, h\n",
    "metric = 'rmse' # Options: rmse, r2\n",
    "n_repeats = 1 # Number of times to repeat 5-fold CV. Each repeat gives a different shuffle.\n",
    "\n",
    "if metric == 'rmse':\n",
    "    direction = 'minimize'\n",
    "elif metric == 'r2':\n",
    "    directon = 'maximize'\n",
    "    \n",
    "load_study = False\n",
    "study_name = \"study_NN_20220630-18.pkl\""
   ]
  },
  {
   "cell_type": "code",
   "execution_count": 5,
   "id": "a9a53952-8964-4abb-95fb-315e0b158cd3",
   "metadata": {},
   "outputs": [
    {
     "name": "stderr",
     "output_type": "stream",
     "text": [
      "\u001b[32m[I 2022-07-01 13:23:05,469]\u001b[0m A new study created in memory with name: no-name-eaa77fb7-ee41-491c-b886-895ebe2e41dc\u001b[0m\n"
     ]
    }
   ],
   "source": [
    "if load_study:\n",
    "    study = joblib.load(\"../studies/\" + study_name)\n",
    "    print(\"Best trial until now:\")\n",
    "    print(\" Value: \", study.best_trial.value)\n",
    "    print(\" Params: \")\n",
    "    for key, value in study.best_trial.params.items():\n",
    "        print(f\"    {key}: {value}\")\n",
    "else:\n",
    "    study = optuna.create_study(direction=direction)"
   ]
  },
  {
   "cell_type": "code",
   "execution_count": null,
   "id": "798d9325-63a3-470d-a1f8-26176557ee91",
   "metadata": {},
   "outputs": [
    {
     "name": "stdout",
     "output_type": "stream",
     "text": [
      "[0]\ttest-rmse:35.43438\n",
      "[20]\ttest-rmse:3.16562\n",
      "[40]\ttest-rmse:3.03699\n",
      "[60]\ttest-rmse:2.96915\n",
      "[80]\ttest-rmse:2.94310\n",
      "[100]\ttest-rmse:2.92716\n",
      "[120]\ttest-rmse:2.90888\n",
      "[140]\ttest-rmse:2.90643\n",
      "[160]\ttest-rmse:2.89698\n",
      "[180]\ttest-rmse:2.89407\n",
      "[200]\ttest-rmse:2.89461\n",
      "[206]\ttest-rmse:2.89601\n",
      "Split #0, This Result: 2.8960, Average Result: 2.8960\n",
      "[0]\ttest-rmse:34.71487\n",
      "[20]\ttest-rmse:4.86566\n",
      "[32]\ttest-rmse:4.85124\n",
      "Split #1, This Result: 4.8512, Average Result: 3.8736\n",
      "[0]\ttest-rmse:37.07577\n",
      "[20]\ttest-rmse:2.90944\n",
      "[40]\ttest-rmse:2.68084\n",
      "[60]\ttest-rmse:2.61667\n",
      "[80]\ttest-rmse:2.59508\n",
      "[100]\ttest-rmse:2.58445\n",
      "[120]\ttest-rmse:2.57161\n",
      "[131]\ttest-rmse:2.56919\n",
      "Split #2, This Result: 2.5692, Average Result: 3.4388\n",
      "[0]\ttest-rmse:38.60198\n",
      "[20]\ttest-rmse:6.10948\n",
      "[40]\ttest-rmse:6.04255\n",
      "[60]\ttest-rmse:6.00368\n",
      "[80]\ttest-rmse:5.98754\n",
      "[100]\ttest-rmse:5.97862\n",
      "[120]\ttest-rmse:5.97060\n",
      "[140]\ttest-rmse:5.96933\n",
      "[160]\ttest-rmse:5.96845\n",
      "[180]\ttest-rmse:5.97014\n",
      "[183]\ttest-rmse:5.96871\n",
      "Split #3, This Result: 5.9687, Average Result: 4.0713\n",
      "[0]\ttest-rmse:35.13696\n",
      "[20]\ttest-rmse:6.40871\n",
      "[40]\ttest-rmse:6.38473\n",
      "[56]\ttest-rmse:6.38342\n",
      "Split #4, This Result: 6.3834, Average Result: 4.5337\n"
     ]
    },
    {
     "name": "stderr",
     "output_type": "stream",
     "text": [
      "\u001b[32m[I 2022-07-01 13:32:18,982]\u001b[0m Trial 0 finished with value: 4.53370750359884 and parameters: {'learning_rate': 0.48277875344568977, 'subsample': 0.8711264251051485}. Best is trial 0 with value: 4.53370750359884.\u001b[0m\n"
     ]
    },
    {
     "name": "stdout",
     "output_type": "stream",
     "text": [
      "[0]\ttest-rmse:34.48186\n",
      "[20]\ttest-rmse:3.92867\n",
      "[40]\ttest-rmse:3.88196\n",
      "[60]\ttest-rmse:3.88998\n",
      "[75]\ttest-rmse:3.86691\n",
      "Split #0, This Result: 3.8669, Average Result: 3.8669\n",
      "[0]\ttest-rmse:32.33478\n",
      "[20]\ttest-rmse:5.26821\n",
      "[40]\ttest-rmse:5.38090\n",
      "[43]\ttest-rmse:5.37188\n",
      "Split #1, This Result: 5.3728, Average Result: 4.6199\n",
      "[0]\ttest-rmse:35.40485\n",
      "[20]\ttest-rmse:3.80706\n",
      "[40]\ttest-rmse:3.74139\n",
      "[60]\ttest-rmse:3.69773\n",
      "[80]\ttest-rmse:3.73448\n",
      "[81]\ttest-rmse:3.74214\n",
      "Split #2, This Result: 3.7421, Average Result: 4.3273\n",
      "[0]\ttest-rmse:37.12159\n",
      "[20]\ttest-rmse:6.37744\n",
      "[40]\ttest-rmse:6.26271\n",
      "[60]\ttest-rmse:6.22249\n",
      "[80]\ttest-rmse:6.21757\n",
      "[100]\ttest-rmse:6.19866\n",
      "[120]\ttest-rmse:6.14898\n",
      "[140]\ttest-rmse:6.13860\n",
      "[148]\ttest-rmse:6.14068\n",
      "Split #3, This Result: 6.1404, Average Result: 4.7806\n",
      "[0]\ttest-rmse:32.39539\n",
      "[20]\ttest-rmse:6.55092\n",
      "[40]\ttest-rmse:6.43380\n",
      "[60]\ttest-rmse:6.49694\n",
      "[64]\ttest-rmse:6.49969\n"
     ]
    },
    {
     "name": "stderr",
     "output_type": "stream",
     "text": [
      "\u001b[32m[I 2022-07-01 13:36:27,584]\u001b[0m Trial 1 finished with value: 5.124469194550841 and parameters: {'learning_rate': 0.5167270301273807, 'subsample': 0.2438273694274839}. Best is trial 0 with value: 4.53370750359884.\u001b[0m\n"
     ]
    },
    {
     "name": "stdout",
     "output_type": "stream",
     "text": [
      "Split #4, This Result: 6.5001, Average Result: 5.1245\n",
      "[0]\ttest-rmse:61.64845\n",
      "[20]\ttest-rmse:10.12393\n",
      "[40]\ttest-rmse:3.64425\n",
      "[60]\ttest-rmse:3.29407\n",
      "[80]\ttest-rmse:3.21854\n",
      "[100]\ttest-rmse:3.15216\n",
      "[120]\ttest-rmse:3.07960\n",
      "[140]\ttest-rmse:3.06126\n",
      "[160]\ttest-rmse:3.05812\n",
      "[180]\ttest-rmse:3.03813\n",
      "[200]\ttest-rmse:3.03485\n",
      "[220]\ttest-rmse:3.03435\n",
      "[226]\ttest-rmse:3.03375\n",
      "Split #0, This Result: 3.0338, Average Result: 3.0338\n",
      "[0]\ttest-rmse:59.95872\n",
      "[20]\ttest-rmse:10.20899\n",
      "[40]\ttest-rmse:4.73945\n",
      "[60]\ttest-rmse:4.82384\n",
      "[66]\ttest-rmse:4.82228\n",
      "Split #1, This Result: 4.8223, Average Result: 3.9281\n",
      "[0]\ttest-rmse:63.65412\n",
      "[20]\ttest-rmse:11.06096\n",
      "[40]\ttest-rmse:4.06471\n",
      "[60]\ttest-rmse:2.97902\n",
      "[80]\ttest-rmse:2.82283\n",
      "[100]\ttest-rmse:2.76173\n",
      "[120]\ttest-rmse:2.74258\n",
      "[140]\ttest-rmse:2.69482\n",
      "[160]\ttest-rmse:2.68050\n",
      "[171]\ttest-rmse:2.68836\n",
      "Split #2, This Result: 2.6867, Average Result: 3.5143\n",
      "[0]\ttest-rmse:64.13353\n",
      "[20]\ttest-rmse:14.52848\n",
      "[40]\ttest-rmse:7.70284\n",
      "[60]\ttest-rmse:6.92540\n",
      "[80]\ttest-rmse:6.64081\n",
      "[100]\ttest-rmse:6.50643\n",
      "[120]\ttest-rmse:6.43809\n",
      "[140]\ttest-rmse:6.42484\n",
      "[160]\ttest-rmse:6.40409\n",
      "[180]\ttest-rmse:6.39289\n",
      "[200]\ttest-rmse:6.38204\n",
      "[220]\ttest-rmse:6.36472\n",
      "[240]\ttest-rmse:6.35269\n",
      "[260]\ttest-rmse:6.34860\n",
      "[280]\ttest-rmse:6.34791\n",
      "[300]\ttest-rmse:6.34759\n",
      "[320]\ttest-rmse:6.33974\n",
      "[340]\ttest-rmse:6.33710\n",
      "[360]\ttest-rmse:6.33392\n",
      "[380]\ttest-rmse:6.33244\n",
      "[400]\ttest-rmse:6.33188\n",
      "[420]\ttest-rmse:6.33165\n",
      "[440]\ttest-rmse:6.33088\n",
      "[460]\ttest-rmse:6.32466\n",
      "[480]\ttest-rmse:6.32123\n",
      "[500]\ttest-rmse:6.31510\n",
      "[520]\ttest-rmse:6.31072\n",
      "[540]\ttest-rmse:6.30630\n",
      "[560]\ttest-rmse:6.30418\n",
      "[580]\ttest-rmse:6.30241\n",
      "[600]\ttest-rmse:6.30011\n",
      "[620]\ttest-rmse:6.29782\n",
      "[640]\ttest-rmse:6.29579\n",
      "[660]\ttest-rmse:6.29529\n",
      "[680]\ttest-rmse:6.29410\n",
      "[700]\ttest-rmse:6.29329\n",
      "[717]\ttest-rmse:6.29341\n",
      "Split #3, This Result: 6.2934, Average Result: 4.2090\n",
      "[0]\ttest-rmse:59.05224\n",
      "[20]\ttest-rmse:12.02167\n",
      "[40]\ttest-rmse:6.90154\n",
      "[60]\ttest-rmse:6.43741\n",
      "[80]\ttest-rmse:6.24514\n",
      "[100]\ttest-rmse:6.20966\n",
      "[120]\ttest-rmse:6.20307\n",
      "[124]\ttest-rmse:6.20931\n"
     ]
    },
    {
     "name": "stderr",
     "output_type": "stream",
     "text": [
      "\u001b[32m[I 2022-07-01 13:52:24,286]\u001b[0m Trial 2 finished with value: 4.609374186843963 and parameters: {'learning_rate': 0.09007663646258796, 'subsample': 0.5675611471851605}. Best is trial 0 with value: 4.53370750359884.\u001b[0m\n"
     ]
    },
    {
     "name": "stdout",
     "output_type": "stream",
     "text": [
      "Split #4, This Result: 6.2107, Average Result: 4.6094\n",
      "[0]\ttest-rmse:12.40833\n",
      "[20]\ttest-rmse:4.80148\n",
      "[40]\ttest-rmse:4.67581\n",
      "[51]\ttest-rmse:4.70889\n",
      "Split #0, This Result: 4.7089, Average Result: 4.7089\n",
      "[0]\ttest-rmse:11.96041\n",
      "[20]\ttest-rmse:6.16521\n",
      "[21]\ttest-rmse:6.16537\n",
      "Split #1, This Result: 6.1654, Average Result: 5.4372\n",
      "[0]\ttest-rmse:14.00516\n",
      "[20]\ttest-rmse:5.76684\n",
      "[31]\ttest-rmse:5.52869\n",
      "Split #2, This Result: 5.5287, Average Result: 5.4677\n",
      "[0]\ttest-rmse:16.67754\n",
      "[20]\ttest-rmse:6.99967\n",
      "[40]\ttest-rmse:6.98941\n",
      "[60]\ttest-rmse:6.96849\n",
      "[78]\ttest-rmse:6.97156\n",
      "Split #3, This Result: 6.9726, Average Result: 5.8439\n",
      "[0]\ttest-rmse:12.80421\n",
      "[20]\ttest-rmse:6.87436\n",
      "[40]\ttest-rmse:6.77105\n",
      "[60]\ttest-rmse:6.79914\n",
      "[73]\ttest-rmse:6.81487\n"
     ]
    },
    {
     "name": "stderr",
     "output_type": "stream",
     "text": [
      "\u001b[32m[I 2022-07-01 14:02:56,785]\u001b[0m Trial 3 finished with value: 6.0379612705021675 and parameters: {'learning_rate': 0.8763129003951626, 'subsample': 0.5610945203443286}. Best is trial 0 with value: 4.53370750359884.\u001b[0m\n"
     ]
    },
    {
     "name": "stdout",
     "output_type": "stream",
     "text": [
      "Split #4, This Result: 6.8142, Average Result: 6.0380\n",
      "[0]\ttest-rmse:44.57804\n",
      "[20]\ttest-rmse:3.43827\n"
     ]
    }
   ],
   "source": [
    "study.optimize(objective, n_trials=50)"
   ]
  },
  {
   "cell_type": "code",
   "execution_count": null,
   "id": "7b1bd5a8-191b-4458-8f65-aaacdacd7944",
   "metadata": {},
   "outputs": [],
   "source": [
    "best_params = study.best_params"
   ]
  },
  {
   "cell_type": "code",
   "execution_count": 18,
   "id": "30856eb2-9144-4793-8609-503f17cdab7b",
   "metadata": {},
   "outputs": [
    {
     "data": {
      "text/plain": [
       "{'n_layers': 2, 'n_hidden_units': 79, 'batch_size': 339, 'epochs': 7}"
      ]
     },
     "execution_count": 18,
     "metadata": {},
     "output_type": "execute_result"
    }
   ],
   "source": [
    "best_params"
   ]
  },
  {
   "cell_type": "code",
   "execution_count": 21,
   "id": "e1f60f86-38d5-4005-afd9-6b53676817e2",
   "metadata": {},
   "outputs": [],
   "source": [
    "best_value = study.best_value"
   ]
  },
  {
   "cell_type": "code",
   "execution_count": 22,
   "id": "b5a74c6d-d7c7-4eed-910f-cc3e7e7eda06",
   "metadata": {},
   "outputs": [
    {
     "data": {
      "text/plain": [
       "1.0137617092656621"
      ]
     },
     "execution_count": 22,
     "metadata": {},
     "output_type": "execute_result"
    }
   ],
   "source": [
    "best_value"
   ]
  },
  {
   "cell_type": "code",
   "execution_count": null,
   "id": "dcea2104-bf23-4a32-b745-af9692450072",
   "metadata": {},
   "outputs": [],
   "source": []
  }
 ],
 "metadata": {
  "kernelspec": {
   "display_name": "Python 3 (ipykernel)",
   "language": "python",
   "name": "python3"
  },
  "language_info": {
   "codemirror_mode": {
    "name": "ipython",
    "version": 3
   },
   "file_extension": ".py",
   "mimetype": "text/x-python",
   "name": "python",
   "nbconvert_exporter": "python",
   "pygments_lexer": "ipython3",
   "version": "3.9.12"
  }
 },
 "nbformat": 4,
 "nbformat_minor": 5
}
