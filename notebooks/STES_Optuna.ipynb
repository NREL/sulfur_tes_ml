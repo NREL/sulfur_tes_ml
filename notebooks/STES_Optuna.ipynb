{
 "cells": [
  {
   "cell_type": "code",
   "execution_count": 1,
   "id": "17f10e97",
   "metadata": {},
   "outputs": [
    {
     "name": "stderr",
     "output_type": "stream",
     "text": [
      "/Users/kmenear/Projects/envSulfurTES/lib/python3.9/site-packages/tqdm/auto.py:22: TqdmWarning: IProgress not found. Please update jupyter and ipywidgets. See https://ipywidgets.readthedocs.io/en/stable/user_install.html\n",
      "  from .autonotebook import tqdm as notebook_tqdm\n"
     ]
    }
   ],
   "source": [
    "import optuna\n",
    "import joblib\n",
    "import datetime"
   ]
  },
  {
   "cell_type": "code",
   "execution_count": 2,
   "id": "7d54c837",
   "metadata": {},
   "outputs": [
    {
     "name": "stderr",
     "output_type": "stream",
     "text": [
      "/Users/kmenear/Projects/envSulfurTES/lib/python3.9/site-packages/xgboost/compat.py:36: FutureWarning: pandas.Int64Index is deprecated and will be removed from pandas in a future version. Use pandas.Index with the appropriate dtype instead.\n",
      "  from pandas import MultiIndex, Int64Index\n"
     ]
    }
   ],
   "source": [
    "from stesml.model_tools import build_train_test_model"
   ]
  },
  {
   "cell_type": "code",
   "execution_count": 3,
   "id": "49f5d7d2",
   "metadata": {},
   "outputs": [],
   "source": [
    "def objective(trial):   \n",
    "    # Save the study before running the next trial\n",
    "    joblib.dump(study, \"../studies/study_\" + model_type + \"_\" + datetime.datetime.now().strftime(\"%Y%m%d-%H\") + \".pkl\")\n",
    "    \n",
    "    if model_type == 'NN':\n",
    "        scale = True\n",
    "        n_layers = trial.suggest_int(\"n_layers\", 1, 5)\n",
    "        n_hidden_units = trial.suggest_int(\"n_hidden_units\", 10, 100)\n",
    "        batch_size = trial.suggest_int(\"batch_size\", 10, 10000, log=True)\n",
    "        parameters = {'n_layers': n_layers, 'n_hidden_units': n_hidden_units, 'batch_size': batch_size, 'epochs': 200}\n",
    "        result, addendum = build_train_test_model(data_dir, model_type, target, metric, scale, parameters, n_repeats, t_max=360)\n",
    "    elif model_type == 'XGBoost':\n",
    "        scale = False\n",
    "        learning_rate = trial.suggest_float(\"learning_rate\", 0.01, 1)\n",
    "        subsample = 1\n",
    "        colsample_bytree = 1\n",
    "        #subsample = trial.suggest_float(\"subsample\", 0.01, 1)\n",
    "        #colsample_bytree = trial.suggest_float(\"colsample_bytree\", 0.01, 1)\n",
    "        num_boost_round = 10000 # Set this as a maximum, model will stop with early stopping\n",
    "        parameters = {'learning_rate': learning_rate, 'subsample': subsample, 'colsample_bytree': colsample_bytree, 'num_boost_round': num_boost_round}\n",
    "        result, addendum = build_train_test_model(data_dir, model_type, target, metric, scale, parameters, n_repeats, t_min=360)\n",
    "    elif model_type == 'RandomForest':\n",
    "        scale = False\n",
    "        n_estimators = trial.suggest_int(\"n_estimators\", 1, 200, log=True)\n",
    "        max_depth = trial.suggest_int(\"max_depth\", 1, 100)\n",
    "        max_samples = trial.suggest_float(\"max_samples\", .01, 1, log=True)\n",
    "        parameters = {'n_estimators': n_estimators, 'max_depth': max_depth, 'max_samples': max_samples}\n",
    "        result, addendum = build_train_test_model(data_dir, model_type, target, metric, scale, parameters, n_repeats)\n",
    "    \n",
    "    return result"
   ]
  },
  {
   "cell_type": "code",
   "execution_count": 4,
   "id": "8003a376",
   "metadata": {},
   "outputs": [],
   "source": [
    "data_dir = \"../data/Sulfur_Models/heating/heating_all\"\n",
    "model_type = 'XGBoost' # Options: NN, XGBoost, RandomForest\n",
    "target = 'h' # Options: Tavg, h\n",
    "metric = 'rmse' # Options: rmse, r2\n",
    "n_repeats = 1 # Number of times to repeat 5-fold CV. Each repeat gives a different shuffle.\n",
    "\n",
    "if metric == 'rmse':\n",
    "    direction = 'minimize'\n",
    "elif metric == 'r2':\n",
    "    directon = 'maximize'\n",
    "    \n",
    "load_study = False\n",
    "study_name = \"study_XGBoost_20220708-19.pkl\""
   ]
  },
  {
   "cell_type": "code",
   "execution_count": 5,
   "id": "34ff5265",
   "metadata": {},
   "outputs": [
    {
     "name": "stderr",
     "output_type": "stream",
     "text": [
      "\u001b[32m[I 2022-07-11 16:14:27,372]\u001b[0m A new study created in memory with name: no-name-53040c49-01e5-47d0-b671-f669a356525a\u001b[0m\n"
     ]
    }
   ],
   "source": [
    "if load_study:\n",
    "    study = joblib.load(\"../studies/\" + study_name)\n",
    "    print(\"Best trial until now:\")\n",
    "    print(\" Value: \", study.best_trial.value)\n",
    "    print(\" Params: \")\n",
    "    for key, value in study.best_trial.params.items():\n",
    "        print(f\"    {key}: {value}\")\n",
    "else:\n",
    "    study = optuna.create_study(direction=direction)"
   ]
  },
  {
   "cell_type": "code",
   "execution_count": null,
   "id": "daa16b27",
   "metadata": {},
   "outputs": [
    {
     "name": "stdout",
     "output_type": "stream",
     "text": [
      "[16:14:42] WARNING: ../src/learner.cc:576: \n",
      "Parameters: { \"num_boost_round\" } might not be used.\n",
      "\n",
      "  This could be a false alarm, with some parameters getting used by language bindings but\n",
      "  then being mistakenly passed down to XGBoost core, or some parameter actually being used\n",
      "  but getting flagged wrongly here. Please open an issue if you find any such cases.\n",
      "\n",
      "\n",
      "[0]\ttest-rmse:9.73112\n",
      "[20]\ttest-rmse:7.25621\n",
      "[40]\ttest-rmse:7.16270\n",
      "[48]\ttest-rmse:7.16929\n",
      "Split #0, This Result: 7.1689, Average Result: 7.1689\n",
      "[16:15:34] WARNING: ../src/learner.cc:576: \n",
      "Parameters: { \"num_boost_round\" } might not be used.\n",
      "\n",
      "  This could be a false alarm, with some parameters getting used by language bindings but\n",
      "  then being mistakenly passed down to XGBoost core, or some parameter actually being used\n",
      "  but getting flagged wrongly here. Please open an issue if you find any such cases.\n",
      "\n",
      "\n",
      "[0]\ttest-rmse:11.04895\n",
      "[20]\ttest-rmse:6.49078\n",
      "[23]\ttest-rmse:6.49839\n",
      "Split #1, This Result: 6.4984, Average Result: 6.8337\n",
      "[16:16:05] WARNING: ../src/learner.cc:576: \n",
      "Parameters: { \"num_boost_round\" } might not be used.\n",
      "\n",
      "  This could be a false alarm, with some parameters getting used by language bindings but\n",
      "  then being mistakenly passed down to XGBoost core, or some parameter actually being used\n",
      "  but getting flagged wrongly here. Please open an issue if you find any such cases.\n",
      "\n",
      "\n",
      "[0]\ttest-rmse:8.32832\n",
      "[20]\ttest-rmse:2.93581\n",
      "[31]\ttest-rmse:2.92400\n",
      "Split #2, This Result: 2.9240, Average Result: 5.5304\n",
      "[16:16:42] WARNING: ../src/learner.cc:576: \n",
      "Parameters: { \"num_boost_round\" } might not be used.\n",
      "\n",
      "  This could be a false alarm, with some parameters getting used by language bindings but\n",
      "  then being mistakenly passed down to XGBoost core, or some parameter actually being used\n",
      "  but getting flagged wrongly here. Please open an issue if you find any such cases.\n",
      "\n",
      "\n",
      "[0]\ttest-rmse:7.63809\n",
      "[20]\ttest-rmse:3.54089\n",
      "[40]\ttest-rmse:3.50936\n",
      "[60]\ttest-rmse:3.50380\n",
      "[80]\ttest-rmse:3.50345\n",
      "[83]\ttest-rmse:3.50356\n",
      "Split #3, This Result: 3.5036, Average Result: 5.0237\n",
      "[16:18:00] WARNING: ../src/learner.cc:576: \n",
      "Parameters: { \"num_boost_round\" } might not be used.\n",
      "\n",
      "  This could be a false alarm, with some parameters getting used by language bindings but\n",
      "  then being mistakenly passed down to XGBoost core, or some parameter actually being used\n",
      "  but getting flagged wrongly here. Please open an issue if you find any such cases.\n",
      "\n",
      "\n",
      "[0]\ttest-rmse:6.23089\n",
      "[20]\ttest-rmse:7.89363\n",
      "[21]\ttest-rmse:7.80620\n"
     ]
    },
    {
     "name": "stderr",
     "output_type": "stream",
     "text": [
      "\u001b[32m[I 2022-07-11 16:18:14,680]\u001b[0m Trial 0 finished with value: 5.5802088843467414 and parameters: {'learning_rate': 0.8458294256433071}. Best is trial 0 with value: 5.5802088843467414.\u001b[0m\n"
     ]
    },
    {
     "name": "stdout",
     "output_type": "stream",
     "text": [
      "Split #4, This Result: 7.8062, Average Result: 5.5802\n",
      "[16:18:27] WARNING: ../src/learner.cc:576: \n",
      "Parameters: { \"num_boost_round\" } might not be used.\n",
      "\n",
      "  This could be a false alarm, with some parameters getting used by language bindings but\n",
      "  then being mistakenly passed down to XGBoost core, or some parameter actually being used\n",
      "  but getting flagged wrongly here. Please open an issue if you find any such cases.\n",
      "\n",
      "\n",
      "[0]\ttest-rmse:8.10350\n",
      "[20]\ttest-rmse:6.64657\n",
      "[35]\ttest-rmse:6.66178\n",
      "Split #0, This Result: 6.6618, Average Result: 6.6618\n",
      "[16:19:08] WARNING: ../src/learner.cc:576: \n",
      "Parameters: { \"num_boost_round\" } might not be used.\n",
      "\n",
      "  This could be a false alarm, with some parameters getting used by language bindings but\n",
      "  then being mistakenly passed down to XGBoost core, or some parameter actually being used\n",
      "  but getting flagged wrongly here. Please open an issue if you find any such cases.\n",
      "\n",
      "\n",
      "[0]\ttest-rmse:8.35273\n",
      "[20]\ttest-rmse:6.44799\n",
      "[40]\ttest-rmse:6.44415\n",
      "[56]\ttest-rmse:6.44634\n",
      "Split #1, This Result: 6.4463, Average Result: 6.5541\n",
      "[16:19:59] WARNING: ../src/learner.cc:576: \n",
      "Parameters: { \"num_boost_round\" } might not be used.\n",
      "\n",
      "  This could be a false alarm, with some parameters getting used by language bindings but\n",
      "  then being mistakenly passed down to XGBoost core, or some parameter actually being used\n",
      "  but getting flagged wrongly here. Please open an issue if you find any such cases.\n",
      "\n",
      "\n",
      "[0]\ttest-rmse:5.34766\n",
      "[20]\ttest-rmse:3.24311\n",
      "[40]\ttest-rmse:3.26378\n",
      "Split #2, This Result: 3.2638, Average Result: 5.4573\n",
      "[16:20:37] WARNING: ../src/learner.cc:576: \n",
      "Parameters: { \"num_boost_round\" } might not be used.\n",
      "\n",
      "  This could be a false alarm, with some parameters getting used by language bindings but\n",
      "  then being mistakenly passed down to XGBoost core, or some parameter actually being used\n",
      "  but getting flagged wrongly here. Please open an issue if you find any such cases.\n",
      "\n",
      "\n",
      "[0]\ttest-rmse:5.44683\n",
      "[20]\ttest-rmse:4.37963\n",
      "[22]\ttest-rmse:4.37730\n",
      "Split #3, This Result: 4.3773, Average Result: 5.1873\n",
      "[16:21:05] WARNING: ../src/learner.cc:576: \n",
      "Parameters: { \"num_boost_round\" } might not be used.\n",
      "\n",
      "  This could be a false alarm, with some parameters getting used by language bindings but\n",
      "  then being mistakenly passed down to XGBoost core, or some parameter actually being used\n",
      "  but getting flagged wrongly here. Please open an issue if you find any such cases.\n",
      "\n",
      "\n",
      "[0]\ttest-rmse:4.29605\n",
      "[20]\ttest-rmse:4.26104\n",
      "[21]\ttest-rmse:4.25090\n"
     ]
    },
    {
     "name": "stderr",
     "output_type": "stream",
     "text": [
      "\u001b[32m[I 2022-07-11 16:21:18,514]\u001b[0m Trial 1 finished with value: 4.998480093756328 and parameters: {'learning_rate': 0.9402138899698731}. Best is trial 1 with value: 4.998480093756328.\u001b[0m\n"
     ]
    },
    {
     "name": "stdout",
     "output_type": "stream",
     "text": [
      "Split #4, This Result: 4.2432, Average Result: 4.9985\n",
      "[16:21:30] WARNING: ../src/learner.cc:576: \n",
      "Parameters: { \"num_boost_round\" } might not be used.\n",
      "\n",
      "  This could be a false alarm, with some parameters getting used by language bindings but\n",
      "  then being mistakenly passed down to XGBoost core, or some parameter actually being used\n",
      "  but getting flagged wrongly here. Please open an issue if you find any such cases.\n",
      "\n",
      "\n",
      "[0]\ttest-rmse:44.00529\n",
      "[20]\ttest-rmse:23.69805\n",
      "[40]\ttest-rmse:13.46896\n",
      "[60]\ttest-rmse:9.14966\n",
      "[80]\ttest-rmse:7.82750\n",
      "[100]\ttest-rmse:7.41089\n",
      "[120]\ttest-rmse:7.41480\n",
      "[125]\ttest-rmse:7.41840\n",
      "Split #0, This Result: 7.4207, Average Result: 7.4207\n",
      "[16:23:11] WARNING: ../src/learner.cc:576: \n",
      "Parameters: { \"num_boost_round\" } might not be used.\n",
      "\n",
      "  This could be a false alarm, with some parameters getting used by language bindings but\n",
      "  then being mistakenly passed down to XGBoost core, or some parameter actually being used\n",
      "  but getting flagged wrongly here. Please open an issue if you find any such cases.\n",
      "\n",
      "\n",
      "[0]\ttest-rmse:37.39786\n",
      "[20]\ttest-rmse:22.21937\n",
      "[40]\ttest-rmse:14.24330\n",
      "[60]\ttest-rmse:10.08989\n",
      "[80]\ttest-rmse:8.04156\n",
      "[100]\ttest-rmse:7.03406\n",
      "[120]\ttest-rmse:6.53142\n",
      "[140]\ttest-rmse:6.27961\n",
      "[160]\ttest-rmse:6.13639\n",
      "[180]\ttest-rmse:6.07058\n",
      "[200]\ttest-rmse:6.03723\n",
      "[220]\ttest-rmse:6.01872\n",
      "[240]\ttest-rmse:6.01037\n",
      "[260]\ttest-rmse:6.00547\n",
      "[280]\ttest-rmse:6.00249\n",
      "[300]\ttest-rmse:5.99915\n",
      "[320]\ttest-rmse:5.99848\n",
      "[340]\ttest-rmse:5.99827\n",
      "[360]\ttest-rmse:6.00031\n",
      "[361]\ttest-rmse:6.00040\n",
      "Split #1, This Result: 6.0005, Average Result: 6.7106\n",
      "[16:27:39] WARNING: ../src/learner.cc:576: \n",
      "Parameters: { \"num_boost_round\" } might not be used.\n",
      "\n",
      "  This could be a false alarm, with some parameters getting used by language bindings but\n",
      "  then being mistakenly passed down to XGBoost core, or some parameter actually being used\n",
      "  but getting flagged wrongly here. Please open an issue if you find any such cases.\n",
      "\n",
      "\n",
      "[0]\ttest-rmse:41.63602\n",
      "[20]\ttest-rmse:22.75608\n",
      "[40]\ttest-rmse:12.77069\n",
      "[60]\ttest-rmse:7.55572\n",
      "[80]\ttest-rmse:4.89270\n",
      "[100]\ttest-rmse:3.62430\n",
      "[120]\ttest-rmse:2.99966\n",
      "[140]\ttest-rmse:2.71370\n",
      "[160]\ttest-rmse:2.58352\n",
      "[180]\ttest-rmse:2.53234\n",
      "[200]\ttest-rmse:2.49577\n",
      "[220]\ttest-rmse:2.50435\n",
      "[222]\ttest-rmse:2.50340\n",
      "Split #2, This Result: 2.5034, Average Result: 5.3082\n",
      "[16:30:26] WARNING: ../src/learner.cc:576: \n",
      "Parameters: { \"num_boost_round\" } might not be used.\n",
      "\n",
      "  This could be a false alarm, with some parameters getting used by language bindings but\n",
      "  then being mistakenly passed down to XGBoost core, or some parameter actually being used\n",
      "  but getting flagged wrongly here. Please open an issue if you find any such cases.\n",
      "\n",
      "\n",
      "[0]\ttest-rmse:34.98927\n",
      "[20]\ttest-rmse:19.24393\n",
      "[40]\ttest-rmse:10.94068\n",
      "[60]\ttest-rmse:6.55771\n",
      "[80]\ttest-rmse:4.36600\n",
      "[100]\ttest-rmse:3.40337\n",
      "[120]\ttest-rmse:2.99871\n",
      "[140]\ttest-rmse:2.82903\n"
     ]
    }
   ],
   "source": [
    "study.optimize(objective, n_trials=250)"
   ]
  },
  {
   "cell_type": "code",
   "execution_count": null,
   "id": "5efd2871",
   "metadata": {},
   "outputs": [],
   "source": [
    "best_params = study.best_params"
   ]
  },
  {
   "cell_type": "code",
   "execution_count": 18,
   "id": "72d36831",
   "metadata": {},
   "outputs": [
    {
     "data": {
      "text/plain": [
       "{'n_layers': 2, 'n_hidden_units': 79, 'batch_size': 339, 'epochs': 7}"
      ]
     },
     "execution_count": 18,
     "metadata": {},
     "output_type": "execute_result"
    }
   ],
   "source": [
    "best_params"
   ]
  },
  {
   "cell_type": "code",
   "execution_count": 21,
   "id": "2cf2e753",
   "metadata": {},
   "outputs": [],
   "source": [
    "best_value = study.best_value"
   ]
  },
  {
   "cell_type": "code",
   "execution_count": 22,
   "id": "e0223de1",
   "metadata": {},
   "outputs": [
    {
     "data": {
      "text/plain": [
       "1.0137617092656621"
      ]
     },
     "execution_count": 22,
     "metadata": {},
     "output_type": "execute_result"
    }
   ],
   "source": [
    "best_value"
   ]
  },
  {
   "cell_type": "code",
   "execution_count": null,
   "id": "cd901f32",
   "metadata": {},
   "outputs": [],
   "source": []
  }
 ],
 "metadata": {
  "kernelspec": {
   "display_name": "Python 3 (ipykernel)",
   "language": "python",
   "name": "python3"
  },
  "language_info": {
   "codemirror_mode": {
    "name": "ipython",
    "version": 3
   },
   "file_extension": ".py",
   "mimetype": "text/x-python",
   "name": "python",
   "nbconvert_exporter": "python",
   "pygments_lexer": "ipython3",
   "version": "3.9.12"
  }
 },
 "nbformat": 4,
 "nbformat_minor": 5
}
