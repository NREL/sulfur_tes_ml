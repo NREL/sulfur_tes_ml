{
 "cells": [
  {
   "cell_type": "code",
   "execution_count": 44,
   "id": "dae73c25-a7b6-4885-8cb0-2166e56a7b4c",
   "metadata": {},
   "outputs": [],
   "source": [
    "import optuna"
   ]
  },
  {
   "cell_type": "code",
   "execution_count": 45,
   "id": "6dff9627-7970-4b2c-9693-f735e6b72940",
   "metadata": {},
   "outputs": [],
   "source": [
    "from stesml.model_tools import build_train_test_model"
   ]
  },
  {
   "cell_type": "code",
   "execution_count": 49,
   "id": "dc736980-d78d-49c9-a4f7-10db81819a8d",
   "metadata": {},
   "outputs": [],
   "source": [
    "data_dir = \"../data/Sulfur_Models/\"\n",
    "\n",
    "scenario_index = pd.DataFrame({\"filepath\": glob.glob(os.path.join(data_dir, \"ML_*_*.csv\"))})"
   ]
  },
  {
   "cell_type": "code",
   "execution_count": 53,
   "id": "f98e90e7-a4e2-45bc-9086-5610e68e195c",
   "metadata": {
    "tags": []
   },
   "outputs": [],
   "source": [
    "model_type = 'NN'\n",
    "target = 'Tavg'\n",
    "scale = True\n",
    "n_layers = 3\n",
    "n_hidden_units = 50\n",
    "batch_size = 30\n",
    "epochs = 1\n",
    "n_estimators = 10"
   ]
  },
  {
   "cell_type": "code",
   "execution_count": 54,
   "id": "a0826751-64c8-4fa7-a38a-35f8605127bd",
   "metadata": {},
   "outputs": [
    {
     "name": "stdout",
     "output_type": "stream",
     "text": [
      "67427/67427 [==============================] - 38s 560us/step - loss: 0.0018\n"
     ]
    }
   ],
   "source": [
    "rmse = build_train_test_model(scenario_index, model_type, target, scale, n_layers, n_hidden_units, batch_size, epochs, n_estimators)"
   ]
  },
  {
   "cell_type": "code",
   "execution_count": 55,
   "id": "2a8121df-4712-46be-8016-48e055cd3cc3",
   "metadata": {},
   "outputs": [
    {
     "data": {
      "text/plain": [
       "1.7807237342608597"
      ]
     },
     "execution_count": 55,
     "metadata": {},
     "output_type": "execute_result"
    }
   ],
   "source": [
    "rmse"
   ]
  },
  {
   "cell_type": "code",
   "execution_count": null,
   "id": "895c3113-0e9c-4206-8532-108b21078362",
   "metadata": {},
   "outputs": [],
   "source": [
    "def objective(trial):\n",
    "    model_type = 'NN'\n",
    "    target = 'Tavg'\n",
    "    \n",
    "    n_layers = 3\n",
    "    n_hidden_units = 50\n",
    "    batch_size = 30\n",
    "    epochs = 1\n",
    "    n_estimators = 10\n",
    "    \n",
    "    if model_type == 'NN':\n",
    "        scale = True\n",
    "        n_layers = trial.suggest_int(\"n_layers\", 1, 5)\n",
    "        n_hidden_units = trial.suggest_int(\"n_hidden_units\", 10, 100)\n",
    "        batch_size = trial.suggest_int(\"batch_size\", 1, 10000, log=True)\n",
    "        epochs = trial.suggest_int(\"epochs\", 1, 20)\n",
    "    elif model_type == 'XGBoost':\n",
    "        scale = False\n",
    "        n_estimators = trial.suggest_int(\"n_estimators\", 50, 10000, log=True)\n",
    "    elif model_type == 'RandomForest':\n",
    "        scale = False\n",
    "        n_estimators = trial.suggest_int(\"n_estimators\", 1, 100, log=True)\n",
    "    \n",
    "    rmse = build_train_test_model(scenario_index, model_type, target, scale, n_layers, n_hidden_units, batch_size, epochs, n_estimators)\n",
    "    return rmse"
   ]
  },
  {
   "cell_type": "code",
   "execution_count": null,
   "id": "a9a53952-8964-4abb-95fb-315e0b158cd3",
   "metadata": {},
   "outputs": [],
   "source": [
    "study = optuna.create_study(direction='minimize')"
   ]
  },
  {
   "cell_type": "code",
   "execution_count": null,
   "id": "798d9325-63a3-470d-a1f8-26176557ee91",
   "metadata": {},
   "outputs": [],
   "source": [
    "study.optimize(objective, n_trials=100)"
   ]
  }
 ],
 "metadata": {
  "kernelspec": {
   "display_name": "Python 3 (ipykernel)",
   "language": "python",
   "name": "python3"
  },
  "language_info": {
   "codemirror_mode": {
    "name": "ipython",
    "version": 3
   },
   "file_extension": ".py",
   "mimetype": "text/x-python",
   "name": "python",
   "nbconvert_exporter": "python",
   "pygments_lexer": "ipython3",
   "version": "3.9.12"
  }
 },
 "nbformat": 4,
 "nbformat_minor": 5
}
