{
 "cells": [
  {
   "cell_type": "code",
   "execution_count": 1,
   "id": "17f10e97",
   "metadata": {},
   "outputs": [
    {
     "name": "stderr",
     "output_type": "stream",
     "text": [
      "/Users/kmenear/Projects/envSulfurTES/lib/python3.9/site-packages/tqdm/auto.py:22: TqdmWarning: IProgress not found. Please update jupyter and ipywidgets. See https://ipywidgets.readthedocs.io/en/stable/user_install.html\n",
      "  from .autonotebook import tqdm as notebook_tqdm\n"
     ]
    }
   ],
   "source": [
    "import optuna\n",
    "import joblib\n",
    "import datetime"
   ]
  },
  {
   "cell_type": "code",
   "execution_count": 2,
   "id": "7d54c837",
   "metadata": {},
   "outputs": [
    {
     "name": "stderr",
     "output_type": "stream",
     "text": [
      "/Users/kmenear/Projects/envSulfurTES/lib/python3.9/site-packages/xgboost/compat.py:36: FutureWarning: pandas.Int64Index is deprecated and will be removed from pandas in a future version. Use pandas.Index with the appropriate dtype instead.\n",
      "  from pandas import MultiIndex, Int64Index\n"
     ]
    }
   ],
   "source": [
    "from stesml.model_tools import build_train_test_model"
   ]
  },
  {
   "cell_type": "code",
   "execution_count": 3,
   "id": "49f5d7d2",
   "metadata": {},
   "outputs": [],
   "source": [
    "def objective(trial):   \n",
    "    # Save the study before running the next trial\n",
    "    joblib.dump(study, \"../studies/study_\" + model_type + \"_\" + datetime.datetime.now().strftime(\"%Y%m%d-%H\") + \".pkl\")\n",
    "    \n",
    "    if model_type == 'NN':\n",
    "        scale = True\n",
    "        n_layers = trial.suggest_int(\"n_layers\", 1, 5)\n",
    "        n_hidden_units = trial.suggest_int(\"n_hidden_units\", 10, 100)\n",
    "        batch_size = trial.suggest_int(\"batch_size\", 10, 10000, log=True)\n",
    "        parameters = {'n_layers': n_layers, 'n_hidden_units': n_hidden_units, 'batch_size': batch_size}\n",
    "        result, addendum = build_train_test_model(data_dir, model_type, target, metric, scale, parameters, n_repeats)\n",
    "    elif model_type == 'XGBoost':\n",
    "        scale = False\n",
    "        learning_rate = trial.suggest_float(\"learning_rate\", 0.01, 1)\n",
    "        subsample = trial.suggest_float(\"subsample\", 0.01, 1)\n",
    "        colsample_bytree = trial.suggest_float(\"colsample_bytree\", 0.01, 1)\n",
    "        num_boost_round = 10000 # Set this as a maximum, model will stop with early stopping\n",
    "        parameters = {'learning_rate': learning_rate, 'subsample': subsample, 'colsample_bytree': colsample_bytree, 'num_boost_round': num_boost_round}\n",
    "        result, addendum = build_train_test_model(data_dir, model_type, target, metric, scale, parameters, n_repeats)\n",
    "    elif model_type == 'RandomForest':\n",
    "        scale = False\n",
    "        n_estimators = trial.suggest_int(\"n_estimators\", 1, 200, log=True)\n",
    "        max_depth = trial.suggest_int(\"max_depth\", 1, 100)\n",
    "        max_samples = trial.suggest_float(\"max_samples\", .01, 1, log=True)\n",
    "        parameters = {'n_estimators': n_estimators, 'max_depth': max_depth, 'max_samples': max_samples}\n",
    "        result, addendum = build_train_test_model(data_dir, model_type, target, metric, scale, parameters, n_repeats)\n",
    "    \n",
    "    return result"
   ]
  },
  {
   "cell_type": "code",
   "execution_count": 4,
   "id": "8003a376",
   "metadata": {},
   "outputs": [],
   "source": [
    "data_dir = \"../data/Sulfur_Models/\"\n",
    "model_type = 'RandomForest' # Options: NN, XGBoost, RandomForest\n",
    "target = 'h' # Options: Tavg, h\n",
    "metric = 'rmse' # Options: rmse, r2\n",
    "n_repeats = 2 # Number of times to repeat 5-fold CV. Each repeat gives a different shuffle.\n",
    "\n",
    "if metric == 'rmse':\n",
    "    direction = 'minimize'\n",
    "elif metric == 'r2':\n",
    "    directon = 'maximize'\n",
    "    \n",
    "load_study = True\n",
    "study_name = \"study_RandomForest_20220705-12.pkl\""
   ]
  },
  {
   "cell_type": "code",
   "execution_count": 5,
   "id": "34ff5265",
   "metadata": {},
   "outputs": [
    {
     "name": "stdout",
     "output_type": "stream",
     "text": [
      "Best trial until now:\n",
      " Value:  6.710196429609631\n",
      " Params: \n",
      "    n_estimators: 150\n",
      "    max_depth: 64\n",
      "    max_samples: 0.8785156026362354\n"
     ]
    }
   ],
   "source": [
    "if load_study:\n",
    "    study = joblib.load(\"../studies/\" + study_name)\n",
    "    print(\"Best trial until now:\")\n",
    "    print(\" Value: \", study.best_trial.value)\n",
    "    print(\" Params: \")\n",
    "    for key, value in study.best_trial.params.items():\n",
    "        print(f\"    {key}: {value}\")\n",
    "else:\n",
    "    study = optuna.create_study(direction=direction)"
   ]
  },
  {
   "cell_type": "code",
   "execution_count": null,
   "id": "daa16b27",
   "metadata": {},
   "outputs": [
    {
     "name": "stdout",
     "output_type": "stream",
     "text": [
      "Split #0, This Result: 5.6260, Average Result: 5.6260\n",
      "Split #1, This Result: 6.2747, Average Result: 5.9503\n",
      "Split #2, This Result: 4.4762, Average Result: 5.4590\n",
      "Split #3, This Result: 4.7551, Average Result: 5.2830\n",
      "Split #4, This Result: 16.5594, Average Result: 7.5383\n",
      "Split #5, This Result: 11.8042, Average Result: 8.2493\n",
      "Split #6, This Result: 3.5641, Average Result: 7.5799\n",
      "Split #7, This Result: 6.1615, Average Result: 7.4026\n",
      "Split #8, This Result: 4.9851, Average Result: 7.1340\n"
     ]
    },
    {
     "name": "stderr",
     "output_type": "stream",
     "text": [
      "\u001b[32m[I 2022-07-05 14:16:22,919]\u001b[0m Trial 14 finished with value: 6.773366674795023 and parameters: {'n_estimators': 186, 'max_depth': 67, 'max_samples': 0.7089963660387368}. Best is trial 12 with value: 6.710196429609631.\u001b[0m\n"
     ]
    },
    {
     "name": "stdout",
     "output_type": "stream",
     "text": [
      "Split #9, This Result: 3.5274, Average Result: 6.7734\n",
      "Split #0, This Result: 5.6231, Average Result: 5.6231\n",
      "Split #1, This Result: 6.2705, Average Result: 5.9468\n",
      "Split #2, This Result: 4.4711, Average Result: 5.4549\n",
      "Split #3, This Result: 4.3705, Average Result: 5.1838\n",
      "Split #4, This Result: 16.5614, Average Result: 7.4593\n",
      "Split #5, This Result: 11.7977, Average Result: 8.1824\n",
      "Split #6, This Result: 3.7056, Average Result: 7.5428\n",
      "Split #7, This Result: 6.1637, Average Result: 7.3705\n",
      "Split #8, This Result: 5.0044, Average Result: 7.1076\n",
      "Split #9, This Result: 3.5226, Average Result: 6.7491\n"
     ]
    },
    {
     "name": "stderr",
     "output_type": "stream",
     "text": [
      "\u001b[32m[I 2022-07-05 14:47:58,235]\u001b[0m Trial 15 finished with value: 6.74905605227238 and parameters: {'n_estimators': 181, 'max_depth': 95, 'max_samples': 0.9810025329922659}. Best is trial 12 with value: 6.710196429609631.\u001b[0m\n"
     ]
    },
    {
     "name": "stdout",
     "output_type": "stream",
     "text": [
      "Split #0, This Result: 6.9917, Average Result: 6.9917\n",
      "Split #1, This Result: 7.5253, Average Result: 7.2585\n",
      "Split #2, This Result: 5.6629, Average Result: 6.7267\n",
      "Split #3, This Result: 5.9972, Average Result: 6.5443\n",
      "Split #4, This Result: 16.8786, Average Result: 8.6112\n",
      "Split #5, This Result: 12.6662, Average Result: 9.2870\n",
      "Split #6, This Result: 4.8286, Average Result: 8.6501\n",
      "Split #7, This Result: 7.3104, Average Result: 8.4826\n",
      "Split #8, This Result: 5.4226, Average Result: 8.1426\n"
     ]
    },
    {
     "name": "stderr",
     "output_type": "stream",
     "text": [
      "\u001b[32m[I 2022-07-05 14:51:08,551]\u001b[0m Trial 16 finished with value: 7.887281446930777 and parameters: {'n_estimators': 83, 'max_depth': 30, 'max_samples': 0.06333333259268929}. Best is trial 12 with value: 6.710196429609631.\u001b[0m\n"
     ]
    },
    {
     "name": "stdout",
     "output_type": "stream",
     "text": [
      "Split #9, This Result: 5.5892, Average Result: 7.8873\n",
      "Split #0, This Result: 5.6256, Average Result: 5.6256\n",
      "Split #1, This Result: 6.2752, Average Result: 5.9504\n",
      "Split #2, This Result: 4.4891, Average Result: 5.4633\n",
      "Split #3, This Result: 4.6678, Average Result: 5.2644\n",
      "Split #4, This Result: 16.5619, Average Result: 7.5239\n",
      "Split #5, This Result: 11.7999, Average Result: 8.2366\n",
      "Split #6, This Result: 3.3419, Average Result: 7.5373\n",
      "Split #7, This Result: 6.1636, Average Result: 7.3656\n",
      "Split #8, This Result: 4.7443, Average Result: 7.0744\n"
     ]
    },
    {
     "name": "stderr",
     "output_type": "stream",
     "text": [
      "\u001b[32m[I 2022-07-05 15:01:39,037]\u001b[0m Trial 17 finished with value: 6.718711388498688 and parameters: {'n_estimators': 62, 'max_depth': 72, 'max_samples': 0.9246799094869378}. Best is trial 12 with value: 6.710196429609631.\u001b[0m\n"
     ]
    },
    {
     "name": "stdout",
     "output_type": "stream",
     "text": [
      "Split #9, This Result: 3.5179, Average Result: 6.7187\n",
      "Split #0, This Result: 5.6536, Average Result: 5.6536\n",
      "Split #1, This Result: 6.3035, Average Result: 5.9785\n",
      "Split #2, This Result: 4.4938, Average Result: 5.4836\n",
      "Split #3, This Result: 4.3185, Average Result: 5.1923\n",
      "Split #4, This Result: 16.5565, Average Result: 7.4652\n",
      "Split #5, This Result: 11.7948, Average Result: 8.1868\n",
      "Split #6, This Result: 2.9411, Average Result: 7.4374\n",
      "Split #7, This Result: 6.1707, Average Result: 7.2791\n",
      "Split #8, This Result: 5.3574, Average Result: 7.0655\n"
     ]
    },
    {
     "name": "stderr",
     "output_type": "stream",
     "text": [
      "\u001b[32m[I 2022-07-05 15:06:17,490]\u001b[0m Trial 18 finished with value: 6.720214861549404 and parameters: {'n_estimators': 67, 'max_depth': 59, 'max_samples': 0.21664614009968064}. Best is trial 12 with value: 6.710196429609631.\u001b[0m\n"
     ]
    },
    {
     "name": "stdout",
     "output_type": "stream",
     "text": [
      "Split #9, This Result: 3.6124, Average Result: 6.7202\n",
      "Split #0, This Result: 5.6275, Average Result: 5.6275\n",
      "Split #1, This Result: 6.2788, Average Result: 5.9532\n",
      "Split #2, This Result: 4.4809, Average Result: 5.4624\n",
      "Split #3, This Result: 4.1042, Average Result: 5.1229\n",
      "Split #4, This Result: 16.5606, Average Result: 7.4104\n",
      "Split #5, This Result: 11.7970, Average Result: 8.1415\n",
      "Split #6, This Result: 3.6656, Average Result: 7.5021\n",
      "Split #7, This Result: 6.1610, Average Result: 7.3344\n",
      "Split #8, This Result: 5.0577, Average Result: 7.0815\n"
     ]
    },
    {
     "name": "stderr",
     "output_type": "stream",
     "text": [
      "\u001b[32m[I 2022-07-05 15:18:51,853]\u001b[0m Trial 19 finished with value: 6.726417277079429 and parameters: {'n_estimators': 111, 'max_depth': 99, 'max_samples': 0.5397768851422293}. Best is trial 12 with value: 6.710196429609631.\u001b[0m\n"
     ]
    },
    {
     "name": "stdout",
     "output_type": "stream",
     "text": [
      "Split #9, This Result: 3.5309, Average Result: 6.7264\n",
      "Split #0, This Result: 5.8003, Average Result: 5.8003\n",
      "Split #1, This Result: 6.3526, Average Result: 6.0765\n",
      "Split #2, This Result: 4.5406, Average Result: 5.5645\n",
      "Split #3, This Result: 4.6399, Average Result: 5.3333\n",
      "Split #4, This Result: 16.5914, Average Result: 7.5850\n",
      "Split #5, This Result: 11.8013, Average Result: 8.2877\n",
      "Split #6, This Result: 3.8088, Average Result: 7.6478\n",
      "Split #7, This Result: 6.1975, Average Result: 7.4665\n",
      "Split #8, This Result: 5.4292, Average Result: 7.2402\n"
     ]
    },
    {
     "name": "stderr",
     "output_type": "stream",
     "text": [
      "\u001b[32m[I 2022-07-05 15:21:57,760]\u001b[0m Trial 20 finished with value: 6.887346364531476 and parameters: {'n_estimators': 37, 'max_depth': 81, 'max_samples': 0.14573196529779872}. Best is trial 12 with value: 6.710196429609631.\u001b[0m\n"
     ]
    },
    {
     "name": "stdout",
     "output_type": "stream",
     "text": [
      "Split #9, This Result: 3.7120, Average Result: 6.8873\n",
      "Split #0, This Result: 6.9587, Average Result: 6.9587\n",
      "Split #1, This Result: 6.8754, Average Result: 6.9170\n",
      "Split #2, This Result: 5.4490, Average Result: 6.4277\n",
      "Split #3, This Result: 5.9711, Average Result: 6.3135\n",
      "Split #4, This Result: 16.7492, Average Result: 8.4007\n",
      "Split #5, This Result: 12.5432, Average Result: 9.0911\n",
      "Split #6, This Result: 4.8172, Average Result: 8.4805\n",
      "Split #7, This Result: 6.7740, Average Result: 8.2672\n",
      "Split #8, This Result: 6.0271, Average Result: 8.0183\n"
     ]
    },
    {
     "name": "stderr",
     "output_type": "stream",
     "text": [
      "\u001b[32m[I 2022-07-05 15:24:34,478]\u001b[0m Trial 21 finished with value: 7.670921894205625 and parameters: {'n_estimators': 46, 'max_depth': 24, 'max_samples': 0.06854504587626338}. Best is trial 12 with value: 6.710196429609631.\u001b[0m\n"
     ]
    },
    {
     "name": "stdout",
     "output_type": "stream",
     "text": [
      "Split #9, This Result: 4.5443, Average Result: 7.6709\n",
      "Split #0, This Result: 5.6582, Average Result: 5.6582\n",
      "Split #1, This Result: 6.2958, Average Result: 5.9770\n",
      "Split #2, This Result: 4.4770, Average Result: 5.4770\n",
      "Split #3, This Result: 4.9843, Average Result: 5.3539\n",
      "Split #4, This Result: 16.5494, Average Result: 7.5930\n",
      "Split #5, This Result: 11.8145, Average Result: 8.2966\n",
      "Split #6, This Result: 3.5764, Average Result: 7.6222\n",
      "Split #7, This Result: 6.1489, Average Result: 7.4381\n",
      "Split #8, This Result: 5.1438, Average Result: 7.1832\n"
     ]
    },
    {
     "name": "stderr",
     "output_type": "stream",
     "text": [
      "\u001b[32m[I 2022-07-05 15:27:27,097]\u001b[0m Trial 22 finished with value: 6.822844266179125 and parameters: {'n_estimators': 16, 'max_depth': 62, 'max_samples': 0.3276088147406737}. Best is trial 12 with value: 6.710196429609631.\u001b[0m\n"
     ]
    },
    {
     "name": "stdout",
     "output_type": "stream",
     "text": [
      "Split #9, This Result: 3.5800, Average Result: 6.8228\n"
     ]
    }
   ],
   "source": [
    "study.optimize(objective, n_trials=250)"
   ]
  },
  {
   "cell_type": "code",
   "execution_count": null,
   "id": "5efd2871",
   "metadata": {},
   "outputs": [],
   "source": [
    "best_params = study.best_params"
   ]
  },
  {
   "cell_type": "code",
   "execution_count": 18,
   "id": "72d36831",
   "metadata": {},
   "outputs": [
    {
     "data": {
      "text/plain": [
       "{'n_layers': 2, 'n_hidden_units': 79, 'batch_size': 339, 'epochs': 7}"
      ]
     },
     "execution_count": 18,
     "metadata": {},
     "output_type": "execute_result"
    }
   ],
   "source": [
    "best_params"
   ]
  },
  {
   "cell_type": "code",
   "execution_count": 21,
   "id": "2cf2e753",
   "metadata": {},
   "outputs": [],
   "source": [
    "best_value = study.best_value"
   ]
  },
  {
   "cell_type": "code",
   "execution_count": 22,
   "id": "e0223de1",
   "metadata": {},
   "outputs": [
    {
     "data": {
      "text/plain": [
       "1.0137617092656621"
      ]
     },
     "execution_count": 22,
     "metadata": {},
     "output_type": "execute_result"
    }
   ],
   "source": [
    "best_value"
   ]
  },
  {
   "cell_type": "code",
   "execution_count": null,
   "id": "cd901f32",
   "metadata": {},
   "outputs": [],
   "source": []
  }
 ],
 "metadata": {
  "kernelspec": {
   "display_name": "Python 3 (ipykernel)",
   "language": "python",
   "name": "python3"
  },
  "language_info": {
   "codemirror_mode": {
    "name": "ipython",
    "version": 3
   },
   "file_extension": ".py",
   "mimetype": "text/x-python",
   "name": "python",
   "nbconvert_exporter": "python",
   "pygments_lexer": "ipython3",
   "version": "3.9.12"
  }
 },
 "nbformat": 4,
 "nbformat_minor": 5
}
