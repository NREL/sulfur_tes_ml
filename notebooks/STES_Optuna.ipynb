{
 "cells": [
  {
   "cell_type": "code",
   "execution_count": 1,
   "id": "17f10e97",
   "metadata": {},
   "outputs": [
    {
     "name": "stderr",
     "output_type": "stream",
     "text": [
      "/Users/kmenear/Projects/envSulfurTES/lib/python3.9/site-packages/tqdm/auto.py:22: TqdmWarning: IProgress not found. Please update jupyter and ipywidgets. See https://ipywidgets.readthedocs.io/en/stable/user_install.html\n",
      "  from .autonotebook import tqdm as notebook_tqdm\n"
     ]
    }
   ],
   "source": [
    "import optuna\n",
    "import joblib\n",
    "import datetime"
   ]
  },
  {
   "cell_type": "code",
   "execution_count": 2,
   "id": "7d54c837",
   "metadata": {},
   "outputs": [
    {
     "name": "stderr",
     "output_type": "stream",
     "text": [
      "/Users/kmenear/Projects/envSulfurTES/lib/python3.9/site-packages/xgboost/compat.py:36: FutureWarning: pandas.Int64Index is deprecated and will be removed from pandas in a future version. Use pandas.Index with the appropriate dtype instead.\n",
      "  from pandas import MultiIndex, Int64Index\n"
     ]
    }
   ],
   "source": [
    "from stesml.model_tools import build_train_test_model"
   ]
  },
  {
   "cell_type": "code",
   "execution_count": 3,
   "id": "49f5d7d2",
   "metadata": {},
   "outputs": [],
   "source": [
    "def objective(trial):   \n",
    "    # Save the study before running the next trial\n",
    "    joblib.dump(study, \"../studies/study_\" + model_type + \"_\" + datetime.datetime.now().strftime(\"%Y%m%d-%H\") + \".pkl\")\n",
    "    \n",
    "    if model_type == 'NN':\n",
    "        scale = True\n",
    "        n_layers = trial.suggest_int(\"n_layers\", 1, 5)\n",
    "        n_hidden_units = trial.suggest_int(\"n_hidden_units\", 10, 100)\n",
    "        batch_size = trial.suggest_int(\"batch_size\", 10, 10000, log=True)\n",
    "        parameters = {'n_layers': n_layers, 'n_hidden_units': n_hidden_units, 'batch_size': batch_size, 'epochs': 200}\n",
    "        result, addendum = build_train_test_model(data_dir, model_type, target, metric, scale, parameters, n_repeats, t_max=360)\n",
    "    elif model_type == 'XGBoost':\n",
    "        scale = False\n",
    "        learning_rate = trial.suggest_float(\"learning_rate\", 0.01, 1)\n",
    "        subsample = trial.suggest_float(\"subsample\", 0.01, 1)\n",
    "        colsample_bytree = trial.suggest_float(\"colsample_bytree\", 0.01, 1)\n",
    "        num_boost_round = 10000 # Set this as a maximum, model will stop with early stopping\n",
    "        parameters = {'learning_rate': learning_rate, 'subsample': subsample, 'colsample_bytree': colsample_bytree, 'num_boost_round': num_boost_round}\n",
    "        result, addendum = build_train_test_model(data_dir, model_type, target, metric, scale, parameters, n_repeats, t_min=360)\n",
    "    elif model_type == 'RandomForest':\n",
    "        scale = False\n",
    "        n_estimators = trial.suggest_int(\"n_estimators\", 1, 200, log=True)\n",
    "        max_depth = trial.suggest_int(\"max_depth\", 1, 100)\n",
    "        max_samples = trial.suggest_float(\"max_samples\", .01, 1, log=True)\n",
    "        parameters = {'n_estimators': n_estimators, 'max_depth': max_depth, 'max_samples': max_samples}\n",
    "        result, addendum = build_train_test_model(data_dir, model_type, target, metric, scale, parameters, n_repeats)\n",
    "    \n",
    "    return result"
   ]
  },
  {
   "cell_type": "code",
   "execution_count": 4,
   "id": "8003a376",
   "metadata": {},
   "outputs": [],
   "source": [
    "data_dir = \"../data/Sulfur_Models/heating/heating_all\"\n",
    "model_type = 'XGBoost' # Options: NN, XGBoost, RandomForest\n",
    "target = 'h' # Options: Tavg, h\n",
    "metric = 'rmse' # Options: rmse, r2\n",
    "n_repeats = 1 # Number of times to repeat 5-fold CV. Each repeat gives a different shuffle.\n",
    "\n",
    "if metric == 'rmse':\n",
    "    direction = 'minimize'\n",
    "elif metric == 'r2':\n",
    "    directon = 'maximize'\n",
    "    \n",
    "load_study = True\n",
    "study_name = \"study_XGBoost_20220708-19.pkl\""
   ]
  },
  {
   "cell_type": "code",
   "execution_count": 5,
   "id": "34ff5265",
   "metadata": {},
   "outputs": [
    {
     "name": "stdout",
     "output_type": "stream",
     "text": [
      "Best trial until now:\n",
      " Value:  5.524612415643093\n",
      " Params: \n",
      "    learning_rate: 0.7303137624182325\n",
      "    subsample: 0.7460404902385005\n",
      "    colsample_bytree: 0.8555578185452548\n"
     ]
    }
   ],
   "source": [
    "if load_study:\n",
    "    study = joblib.load(\"../studies/\" + study_name)\n",
    "    print(\"Best trial until now:\")\n",
    "    print(\" Value: \", study.best_trial.value)\n",
    "    print(\" Params: \")\n",
    "    for key, value in study.best_trial.params.items():\n",
    "        print(f\"    {key}: {value}\")\n",
    "else:\n",
    "    study = optuna.create_study(direction=direction)"
   ]
  },
  {
   "cell_type": "code",
   "execution_count": null,
   "id": "daa16b27",
   "metadata": {},
   "outputs": [
    {
     "name": "stdout",
     "output_type": "stream",
     "text": [
      "[23:17:51] WARNING: ../src/learner.cc:576: \n",
      "Parameters: { \"num_boost_round\" } might not be used.\n",
      "\n",
      "  This could be a false alarm, with some parameters getting used by language bindings but\n",
      "  then being mistakenly passed down to XGBoost core, or some parameter actually being used\n",
      "  but getting flagged wrongly here. Please open an issue if you find any such cases.\n",
      "\n",
      "\n",
      "[0]\ttest-rmse:32.26539\n",
      "[20]\ttest-rmse:8.18279\n",
      "[28]\ttest-rmse:8.63249\n",
      "Split #0, This Result: 8.8979, Average Result: 8.8979\n",
      "[23:18:20] WARNING: ../src/learner.cc:576: \n",
      "Parameters: { \"num_boost_round\" } might not be used.\n",
      "\n",
      "  This could be a false alarm, with some parameters getting used by language bindings but\n",
      "  then being mistakenly passed down to XGBoost core, or some parameter actually being used\n",
      "  but getting flagged wrongly here. Please open an issue if you find any such cases.\n",
      "\n",
      "\n",
      "[0]\ttest-rmse:28.44063\n",
      "[20]\ttest-rmse:9.57957\n",
      "[40]\ttest-rmse:9.62026\n",
      "[45]\ttest-rmse:9.61449\n",
      "Split #1, This Result: 9.6149, Average Result: 9.2564\n",
      "[23:18:53] WARNING: ../src/learner.cc:576: \n",
      "Parameters: { \"num_boost_round\" } might not be used.\n",
      "\n",
      "  This could be a false alarm, with some parameters getting used by language bindings but\n",
      "  then being mistakenly passed down to XGBoost core, or some parameter actually being used\n",
      "  but getting flagged wrongly here. Please open an issue if you find any such cases.\n",
      "\n",
      "\n",
      "[0]\ttest-rmse:31.08505\n",
      "[20]\ttest-rmse:8.39508\n",
      "[40]\ttest-rmse:8.13511\n",
      "[60]\ttest-rmse:8.12890\n",
      "[80]\ttest-rmse:8.13847\n",
      "[82]\ttest-rmse:8.13907\n",
      "Split #2, This Result: 8.1391, Average Result: 8.8840\n",
      "[23:19:41] WARNING: ../src/learner.cc:576: \n",
      "Parameters: { \"num_boost_round\" } might not be used.\n",
      "\n",
      "  This could be a false alarm, with some parameters getting used by language bindings but\n",
      "  then being mistakenly passed down to XGBoost core, or some parameter actually being used\n",
      "  but getting flagged wrongly here. Please open an issue if you find any such cases.\n",
      "\n",
      "\n",
      "[0]\ttest-rmse:24.78509\n",
      "[20]\ttest-rmse:4.13781\n",
      "[34]\ttest-rmse:4.04078\n",
      "Split #3, This Result: 4.0408, Average Result: 7.6732\n",
      "[23:20:08] WARNING: ../src/learner.cc:576: \n",
      "Parameters: { \"num_boost_round\" } might not be used.\n",
      "\n",
      "  This could be a false alarm, with some parameters getting used by language bindings but\n",
      "  then being mistakenly passed down to XGBoost core, or some parameter actually being used\n",
      "  but getting flagged wrongly here. Please open an issue if you find any such cases.\n",
      "\n",
      "\n",
      "[0]\ttest-rmse:24.65760\n",
      "[20]\ttest-rmse:4.63247\n",
      "[31]\ttest-rmse:5.09015\n"
     ]
    },
    {
     "name": "stderr",
     "output_type": "stream",
     "text": [
      "\u001b[32m[I 2022-07-08 23:20:20,260]\u001b[0m Trial 9 finished with value: 7.156570678081183 and parameters: {'learning_rate': 0.31184190124088107, 'subsample': 0.6107729263035355, 'colsample_bytree': 0.18476491504401746}. Best is trial 2 with value: 5.524612415643093.\u001b[0m\n"
     ]
    },
    {
     "name": "stdout",
     "output_type": "stream",
     "text": [
      "Split #4, This Result: 5.0902, Average Result: 7.1566\n",
      "[23:20:35] WARNING: ../src/learner.cc:576: \n",
      "Parameters: { \"num_boost_round\" } might not be used.\n",
      "\n",
      "  This could be a false alarm, with some parameters getting used by language bindings but\n",
      "  then being mistakenly passed down to XGBoost core, or some parameter actually being used\n",
      "  but getting flagged wrongly here. Please open an issue if you find any such cases.\n",
      "\n",
      "\n",
      "[0]\ttest-rmse:23.40025\n",
      "[20]\ttest-rmse:9.61493\n",
      "[23]\ttest-rmse:9.42959\n",
      "Split #0, This Result: 9.5413, Average Result: 9.5413\n",
      "[23:21:01] WARNING: ../src/learner.cc:576: \n",
      "Parameters: { \"num_boost_round\" } might not be used.\n",
      "\n",
      "  This could be a false alarm, with some parameters getting used by language bindings but\n",
      "  then being mistakenly passed down to XGBoost core, or some parameter actually being used\n",
      "  but getting flagged wrongly here. Please open an issue if you find any such cases.\n",
      "\n",
      "\n",
      "[0]\ttest-rmse:21.76374\n",
      "[20]\ttest-rmse:9.04227\n",
      "[40]\ttest-rmse:9.66384\n",
      "[42]\ttest-rmse:9.66759\n",
      "Split #1, This Result: 9.5823, Average Result: 9.5618\n",
      "[23:21:34] WARNING: ../src/learner.cc:576: \n",
      "Parameters: { \"num_boost_round\" } might not be used.\n",
      "\n",
      "  This could be a false alarm, with some parameters getting used by language bindings but\n",
      "  then being mistakenly passed down to XGBoost core, or some parameter actually being used\n",
      "  but getting flagged wrongly here. Please open an issue if you find any such cases.\n",
      "\n",
      "\n",
      "[0]\ttest-rmse:23.07915\n",
      "[20]\ttest-rmse:8.14012\n",
      "[40]\ttest-rmse:8.13412\n",
      "[50]\ttest-rmse:8.13334\n",
      "Split #2, This Result: 8.1409, Average Result: 9.0882\n",
      "[23:22:04] WARNING: ../src/learner.cc:576: \n",
      "Parameters: { \"num_boost_round\" } might not be used.\n",
      "\n",
      "  This could be a false alarm, with some parameters getting used by language bindings but\n",
      "  then being mistakenly passed down to XGBoost core, or some parameter actually being used\n",
      "  but getting flagged wrongly here. Please open an issue if you find any such cases.\n",
      "\n",
      "\n",
      "[0]\ttest-rmse:16.98888\n",
      "[20]\ttest-rmse:4.18865\n",
      "[29]\ttest-rmse:4.14443\n",
      "Split #3, This Result: 4.1699, Average Result: 7.8586\n",
      "[23:22:25] WARNING: ../src/learner.cc:576: \n",
      "Parameters: { \"num_boost_round\" } might not be used.\n",
      "\n",
      "  This could be a false alarm, with some parameters getting used by language bindings but\n",
      "  then being mistakenly passed down to XGBoost core, or some parameter actually being used\n",
      "  but getting flagged wrongly here. Please open an issue if you find any such cases.\n",
      "\n",
      "\n",
      "[0]\ttest-rmse:16.43561\n",
      "[20]\ttest-rmse:5.73523\n",
      "[27]\ttest-rmse:6.00874\n"
     ]
    },
    {
     "name": "stderr",
     "output_type": "stream",
     "text": [
      "\u001b[32m[I 2022-07-08 23:22:32,953]\u001b[0m Trial 10 finished with value: 7.477252481847981 and parameters: {'learning_rate': 0.530736353445202, 'subsample': 0.5955359879866121, 'colsample_bytree': 0.5024268524729334}. Best is trial 2 with value: 5.524612415643093.\u001b[0m\n"
     ]
    },
    {
     "name": "stdout",
     "output_type": "stream",
     "text": [
      "Split #4, This Result: 5.9517, Average Result: 7.4773\n",
      "[23:22:46] WARNING: ../src/learner.cc:576: \n",
      "Parameters: { \"num_boost_round\" } might not be used.\n",
      "\n",
      "  This could be a false alarm, with some parameters getting used by language bindings but\n",
      "  then being mistakenly passed down to XGBoost core, or some parameter actually being used\n",
      "  but getting flagged wrongly here. Please open an issue if you find any such cases.\n",
      "\n",
      "\n",
      "[0]\ttest-rmse:44.22303\n",
      "[20]\ttest-rmse:28.71423\n",
      "[40]\ttest-rmse:19.63630\n",
      "[60]\ttest-rmse:14.82174\n",
      "[80]\ttest-rmse:12.35599\n",
      "[100]\ttest-rmse:11.02347\n",
      "[120]\ttest-rmse:10.09757\n",
      "[140]\ttest-rmse:9.62545\n",
      "[160]\ttest-rmse:9.35514\n",
      "[180]\ttest-rmse:9.16467\n",
      "[200]\ttest-rmse:8.92783\n",
      "[220]\ttest-rmse:8.77007\n",
      "[240]\ttest-rmse:8.61751\n",
      "[260]\ttest-rmse:8.58850\n",
      "[280]\ttest-rmse:8.41936\n",
      "[300]\ttest-rmse:8.38986\n",
      "[320]\ttest-rmse:8.37398\n",
      "[340]\ttest-rmse:8.36272\n",
      "[360]\ttest-rmse:8.34879\n",
      "[380]\ttest-rmse:8.20878\n",
      "[400]\ttest-rmse:8.17097\n",
      "[414]\ttest-rmse:8.18536\n",
      "Split #0, This Result: 8.1856, Average Result: 8.1856\n",
      "[23:24:11] WARNING: ../src/learner.cc:576: \n",
      "Parameters: { \"num_boost_round\" } might not be used.\n",
      "\n",
      "  This could be a false alarm, with some parameters getting used by language bindings but\n",
      "  then being mistakenly passed down to XGBoost core, or some parameter actually being used\n",
      "  but getting flagged wrongly here. Please open an issue if you find any such cases.\n",
      "\n",
      "\n",
      "[0]\ttest-rmse:37.52947\n",
      "[20]\ttest-rmse:23.78573\n",
      "[40]\ttest-rmse:16.91423\n",
      "[60]\ttest-rmse:13.60775\n",
      "[80]\ttest-rmse:12.03426\n",
      "[100]\ttest-rmse:11.39450\n",
      "[120]\ttest-rmse:10.79684\n",
      "[140]\ttest-rmse:10.23554\n",
      "[160]\ttest-rmse:9.92338\n",
      "[180]\ttest-rmse:9.61348\n",
      "[200]\ttest-rmse:9.39074\n",
      "[220]\ttest-rmse:9.25288\n",
      "[240]\ttest-rmse:9.16183\n",
      "[260]\ttest-rmse:9.06023\n",
      "[280]\ttest-rmse:8.99222\n",
      "[300]\ttest-rmse:8.94687\n",
      "[320]\ttest-rmse:8.91169\n",
      "[340]\ttest-rmse:8.88795\n"
     ]
    }
   ],
   "source": [
    "study.optimize(objective, n_trials=250)"
   ]
  },
  {
   "cell_type": "code",
   "execution_count": null,
   "id": "5efd2871",
   "metadata": {},
   "outputs": [],
   "source": [
    "best_params = study.best_params"
   ]
  },
  {
   "cell_type": "code",
   "execution_count": 18,
   "id": "72d36831",
   "metadata": {},
   "outputs": [
    {
     "data": {
      "text/plain": [
       "{'n_layers': 2, 'n_hidden_units': 79, 'batch_size': 339, 'epochs': 7}"
      ]
     },
     "execution_count": 18,
     "metadata": {},
     "output_type": "execute_result"
    }
   ],
   "source": [
    "best_params"
   ]
  },
  {
   "cell_type": "code",
   "execution_count": 21,
   "id": "2cf2e753",
   "metadata": {},
   "outputs": [],
   "source": [
    "best_value = study.best_value"
   ]
  },
  {
   "cell_type": "code",
   "execution_count": 22,
   "id": "e0223de1",
   "metadata": {},
   "outputs": [
    {
     "data": {
      "text/plain": [
       "1.0137617092656621"
      ]
     },
     "execution_count": 22,
     "metadata": {},
     "output_type": "execute_result"
    }
   ],
   "source": [
    "best_value"
   ]
  },
  {
   "cell_type": "code",
   "execution_count": null,
   "id": "cd901f32",
   "metadata": {},
   "outputs": [],
   "source": []
  }
 ],
 "metadata": {
  "kernelspec": {
   "display_name": "Python 3 (ipykernel)",
   "language": "python",
   "name": "python3"
  },
  "language_info": {
   "codemirror_mode": {
    "name": "ipython",
    "version": 3
   },
   "file_extension": ".py",
   "mimetype": "text/x-python",
   "name": "python",
   "nbconvert_exporter": "python",
   "pygments_lexer": "ipython3",
   "version": "3.9.12"
  }
 },
 "nbformat": 4,
 "nbformat_minor": 5
}
