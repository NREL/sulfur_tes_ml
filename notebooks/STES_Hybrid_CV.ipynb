{
 "cells": [
  {
   "cell_type": "markdown",
   "id": "5011ff81-dae3-4cdd-bf43-e2521aa82c04",
   "metadata": {},
   "source": [
    "## This notebook is used for per-scenario evaluation of the hybrid model."
   ]
  },
  {
   "cell_type": "code",
   "execution_count": 1,
   "id": "a2e9beea-0a76-4a69-b84a-d7b19f70f039",
   "metadata": {},
   "outputs": [
    {
     "name": "stderr",
     "output_type": "stream",
     "text": [
      "/Users/kmenear/Projects/sulfur_tes_ml/envSulfurTES/lib/python3.9/site-packages/xgboost/compat.py:36: FutureWarning: pandas.Int64Index is deprecated and will be removed from pandas in a future version. Use pandas.Index with the appropriate dtype instead.\n",
      "  from pandas import MultiIndex, Int64Index\n"
     ]
    }
   ],
   "source": [
    "from stesml.model_tools import train_and_validate_hybrid_model\n",
    "from stesml.stes_model import stes_model\n",
    "from stesml.model_tools import analyze_CV_results"
   ]
  },
  {
   "cell_type": "markdown",
   "id": "2ead5dc4-7437-4d12-bb6a-89a8959f39d9",
   "metadata": {},
   "source": [
    "#### Get the data directory, XGBoost and Neural Network model parameters, and hybrid split time"
   ]
  },
  {
   "cell_type": "code",
   "execution_count": 2,
   "id": "1f1e5d07-beba-49d1-99bc-c552cd2063cc",
   "metadata": {},
   "outputs": [],
   "source": [
    "data_dir = \"../data/Sulfur_Models/heating/full_runs\"\n",
    "parameters_xgb = stes_model.get_parameters('XGBoost')\n",
    "parameters_nn = stes_model.get_parameters('NN', truncated=True)"
   ]
  },
  {
   "cell_type": "markdown",
   "id": "ee2700cf-d788-44a1-98fd-1dbd1bdc9fa2",
   "metadata": {},
   "source": [
    "#### Set necessary parameters"
   ]
  },
  {
   "cell_type": "code",
   "execution_count": 3,
   "id": "dd7f2e4c-7bc5-4473-8d52-0c0901727b70",
   "metadata": {},
   "outputs": [],
   "source": [
    "hybrid_split_time = 360 # Transition time between predictions and calculations for sulfur average temperature\n",
    "n_repeats = 20 # Number of repeats for five-fold CV\n",
    "random_state = 7 # This is the seed for the CV ssplits. Set this to -1 to use a random seed.\n",
    "features=[\"flow-time\", \"Tw\", \"Ti\"] # Input features"
   ]
  },
  {
   "cell_type": "markdown",
   "id": "fc192c08-0ba1-49a1-ae1b-e71c4244c2c9",
   "metadata": {},
   "source": [
    "#### Train and validate hybrid model & return addendum for each CV split"
   ]
  },
  {
   "cell_type": "code",
   "execution_count": 4,
   "id": "2e88d12f-aa12-41de-bbe0-10c2f96fc94a",
   "metadata": {},
   "outputs": [
    {
     "name": "stdout",
     "output_type": "stream",
     "text": [
      "../data/Sulfur_Models/heating/full_runs\n",
      "                                             filepath\n",
      "0   ../data/Sulfur_Models/heating/full_runs/ML_540...\n",
      "1   ../data/Sulfur_Models/heating/full_runs/ML_640...\n",
      "2   ../data/Sulfur_Models/heating/full_runs/ML_640...\n",
      "3   ../data/Sulfur_Models/heating/full_runs/ML_600...\n",
      "4   ../data/Sulfur_Models/heating/full_runs/ML_500...\n",
      "..                                                ...\n",
      "82  ../data/Sulfur_Models/heating/full_runs/ML_520...\n",
      "83  ../data/Sulfur_Models/heating/full_runs/ML_620...\n",
      "84  ../data/Sulfur_Models/heating/full_runs/ML_660...\n",
      "85  ../data/Sulfur_Models/heating/full_runs/ML_480...\n",
      "86  ../data/Sulfur_Models/heating/full_runs/ML_460...\n",
      "\n",
      "[87 rows x 1 columns]\n"
     ]
    },
    {
     "name": "stderr",
     "output_type": "stream",
     "text": [
      "2022-09-21 00:40:00.442164: I tensorflow/core/platform/cpu_feature_guard.cc:142] This TensorFlow binary is optimized with oneAPI Deep Neural Network Library (oneDNN) to use the following CPU instructions in performance-critical operations:  SSE4.1 SSE4.2 AVX AVX2 FMA\n",
      "To enable them in other operations, rebuild TensorFlow with the appropriate compiler flags.\n",
      "2022-09-21 00:40:00.520056: I tensorflow/compiler/mlir/mlir_graph_optimization_pass.cc:116] None of the MLIR optimization passes are enabled (registered 2)\n"
     ]
    },
    {
     "name": "stdout",
     "output_type": "stream",
     "text": [
      "Epoch 1/6\n",
      "21686/21686 [==============================] - 14s 634us/step - loss: 0.0043 - val_loss: 2.7808e-05\n",
      "Epoch 2/6\n",
      "21686/21686 [==============================] - 13s 593us/step - loss: 4.5281e-05 - val_loss: 5.3863e-05\n",
      "Epoch 3/6\n",
      "21686/21686 [==============================] - 13s 598us/step - loss: 3.7000e-05 - val_loss: 3.3395e-05\n",
      "[00:40:40] WARNING: ../src/learner.cc:576: \n",
      "Parameters: { \"num_boost_round\" } might not be used.\n",
      "\n",
      "  This could be a false alarm, with some parameters getting used by language bindings but\n",
      "  then being mistakenly passed down to XGBoost core, or some parameter actually being used\n",
      "  but getting flagged wrongly here. Please open an issue if you find any such cases.\n",
      "\n",
      "\n",
      "[0]\tval-rmse:31.83760\n",
      "[20]\tval-rmse:2.84519\n",
      "[40]\tval-rmse:2.23965\n",
      "[60]\tval-rmse:2.00784\n",
      "[80]\tval-rmse:1.94801\n",
      "[100]\tval-rmse:1.87551\n",
      "[120]\tval-rmse:1.83723\n",
      "[140]\tval-rmse:1.82046\n",
      "[160]\tval-rmse:1.79430\n",
      "[180]\tval-rmse:1.76174\n",
      "[200]\tval-rmse:1.74515\n",
      "[220]\tval-rmse:1.73772\n",
      "[240]\tval-rmse:1.73130\n",
      "[249]\tval-rmse:1.73125\n",
      "RMSE: 1.7312551, R2: 0.9830370\n",
      "Split #0, XGB h RMSE: 1.731255, XGB h RMSE Average: 1.731255\n",
      "Split #0, XGB h R2: 0.983037, XGB h R2 Average: 0.983037\n",
      "RMSE: 0.3320250, R2: 0.9999636\n",
      "Split #0, NN Tavg RMSE: 0.332025, NN Tavg RMSE Average: 0.332025\n",
      "Split #0, NN Tavg R2: 0.999964, NN Tavg R2 Average: 0.999964\n",
      "RMSE: 54.9887868, R2: 0.0594764\n",
      "RMSE: 19.2882414, R2: 0.8787993\n",
      "Split #0, Hybrid RMSE: 1.778394, Hybrid RMSE Average: 1.778394\n",
      "Split #0, Hybrid R2: 0.998970, Hybrid R2 Average: 0.998970\n",
      "Epoch 1/6\n",
      " 4187/21677 [====>.........................] - ETA: 13s - loss: 0.0216"
     ]
    },
    {
     "name": "stderr",
     "output_type": "stream",
     "text": [
      "\n",
      "KeyboardInterrupt\n",
      "\n"
     ]
    }
   ],
   "source": [
    "addenda = train_and_validate_hybrid_model(data_dir=data_dir, parameters_xgb=parameters_xgb, parameters_nn=parameters_nn, n_repeats=n_repeats, random_state=random_state, hybrid_split_time=hybrid_split_time, features=features)"
   ]
  },
  {
   "cell_type": "markdown",
   "id": "89d6274a-8bba-4da7-8e47-1bd1511b25c2",
   "metadata": {},
   "source": [
    "#### Break out addenda for Neural Network, XGBoost, and hybrid models\n",
    "The NN model is trained to predict T for t <= 360, the XGBoost model is trained to predict h for t >= 360\n",
    "\n",
    "The hybrid model combines NN model predictions of T with calculations of T from the XGBoost predictions of h\n",
    "to get T for all time."
   ]
  },
  {
   "cell_type": "code",
   "execution_count": 9,
   "id": "3d565636-8952-44a9-aa1e-fcf59f63d360",
   "metadata": {},
   "outputs": [],
   "source": [
    "addenda_NN = list()\n",
    "addenda_XGB = list()\n",
    "addenda_Hybrid = list()\n",
    "for addenda_composite in addenda:\n",
    "    addenda_NN.append(addenda_composite['NN'])\n",
    "    addenda_XGB.append(addenda_composite['XGBoost'])\n",
    "    addenda_Hybrid.append(addenda_composite['Hybrid'])"
   ]
  },
  {
   "cell_type": "markdown",
   "id": "7189be71-5f3d-4fa2-ba9a-64bd356a5427",
   "metadata": {},
   "source": [
    "#### Analyze CV results for Neural Network, XGBoost, and Hybrid models"
   ]
  },
  {
   "cell_type": "markdown",
   "id": "923170c6-efd9-4aee-94a2-8efd64e044a6",
   "metadata": {},
   "source": [
    "`analyze_CV_results` saves a csv file with the per-scenario evaluation results. This function is specific to the representative set, and will need to be altered based on the training dataset."
   ]
  },
  {
   "cell_type": "code",
   "execution_count": 10,
   "id": "14db91b0-855b-4124-9dc4-b54ec58c6457",
   "metadata": {},
   "outputs": [],
   "source": [
    "analyze_CV_results(addenda_NN, t_max=hybrid_split_time, target='Tavg')"
   ]
  },
  {
   "cell_type": "code",
   "execution_count": 11,
   "id": "9ea51513-1dbb-41c0-9c67-136fb1ca4701",
   "metadata": {},
   "outputs": [],
   "source": [
    "analyze_CV_results(addenda_XGB, t_min=hybrid_split_time, target='h')"
   ]
  },
  {
   "cell_type": "code",
   "execution_count": 12,
   "id": "39be03ec-a4bb-4448-85c8-3df444e8443a",
   "metadata": {},
   "outputs": [],
   "source": [
    "analyze_CV_results(addenda_Hybrid, target='Tavg', hybrid=True)"
   ]
  },
  {
   "cell_type": "code",
   "execution_count": null,
   "id": "38bf5788-4429-4d1d-8f73-497792c44e06",
   "metadata": {},
   "outputs": [],
   "source": []
  }
 ],
 "metadata": {
  "kernelspec": {
   "display_name": "Python 3 (ipykernel)",
   "language": "python",
   "name": "python3"
  },
  "language_info": {
   "codemirror_mode": {
    "name": "ipython",
    "version": 3
   },
   "file_extension": ".py",
   "mimetype": "text/x-python",
   "name": "python",
   "nbconvert_exporter": "python",
   "pygments_lexer": "ipython3",
   "version": "3.9.12"
  }
 },
 "nbformat": 4,
 "nbformat_minor": 5
}
