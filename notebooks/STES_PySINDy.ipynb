{
 "cells": [
  {
   "cell_type": "code",
   "execution_count": 58,
   "id": "08507b5e-f034-4f3b-be4f-dce0d88a9ac2",
   "metadata": {},
   "outputs": [],
   "source": [
    "import matplotlib.pyplot as plt\n",
    "from mpl_toolkits.mplot3d import Axes3D\n",
    "import numpy as np\n",
    "from sklearn.linear_model import Lasso\n",
    "\n",
    "import pysindy as ps\n",
    "import pandas as pd\n",
    "import numpy as np"
   ]
  },
  {
   "cell_type": "code",
   "execution_count": 59,
   "id": "4cc5826a-8687-45fb-ae6e-6175a0061ef2",
   "metadata": {},
   "outputs": [],
   "source": [
    "from stesml.data_tools import get_scenario_index\n",
    "from stesml.data_tools import get_train_and_val_index\n",
    "from stesml.data_tools import load_data"
   ]
  },
  {
   "cell_type": "code",
   "execution_count": 60,
   "id": "3e4082fb-af86-43db-8bfb-6bd36d8e0f3d",
   "metadata": {},
   "outputs": [],
   "source": [
    "data_dir = \"../data/Sulfur_Models/heating/heating_all\""
   ]
  },
  {
   "cell_type": "code",
   "execution_count": 61,
   "id": "5db033f5-27c4-4474-9510-104386637f8b",
   "metadata": {},
   "outputs": [],
   "source": [
    "scenario_index = get_scenario_index(data_dir)"
   ]
  },
  {
   "cell_type": "code",
   "execution_count": 62,
   "id": "87356f40-26d9-416f-b087-03f58b45a118",
   "metadata": {},
   "outputs": [],
   "source": [
    "train_index, val_index = get_train_and_val_index(scenario_index, random_state=5)"
   ]
  },
  {
   "cell_type": "code",
   "execution_count": 63,
   "id": "4ae2eca9-7982-4d9f-bfd4-2243ccf9aa35",
   "metadata": {},
   "outputs": [],
   "source": [
    "train_data = load_data(scenario_index, train_index)"
   ]
  },
  {
   "cell_type": "code",
   "execution_count": 64,
   "id": "e07a3a5a-e692-45a1-93af-b493cecaf8f3",
   "metadata": {},
   "outputs": [],
   "source": [
    "train_df = train_data[['Tw','Ti','Tavg']]"
   ]
  },
  {
   "cell_type": "code",
   "execution_count": 65,
   "id": "805de3f0-5caf-4f1a-a818-39c28c14ffe3",
   "metadata": {},
   "outputs": [],
   "source": [
    "train_df.index = train_data['flow-time']"
   ]
  },
  {
   "cell_type": "code",
   "execution_count": 66,
   "id": "7d14a705-8e07-4c29-b4be-d9165899f61c",
   "metadata": {},
   "outputs": [
    {
     "data": {
      "text/html": [
       "<div>\n",
       "<style scoped>\n",
       "    .dataframe tbody tr th:only-of-type {\n",
       "        vertical-align: middle;\n",
       "    }\n",
       "\n",
       "    .dataframe tbody tr th {\n",
       "        vertical-align: top;\n",
       "    }\n",
       "\n",
       "    .dataframe thead th {\n",
       "        text-align: right;\n",
       "    }\n",
       "</style>\n",
       "<table border=\"1\" class=\"dataframe\">\n",
       "  <thead>\n",
       "    <tr style=\"text-align: right;\">\n",
       "      <th></th>\n",
       "      <th>Tw</th>\n",
       "      <th>Ti</th>\n",
       "      <th>Tavg</th>\n",
       "    </tr>\n",
       "    <tr>\n",
       "      <th>flow-time</th>\n",
       "      <th></th>\n",
       "      <th></th>\n",
       "      <th></th>\n",
       "    </tr>\n",
       "  </thead>\n",
       "  <tbody>\n",
       "    <tr>\n",
       "      <th>0.000000</th>\n",
       "      <td>540</td>\n",
       "      <td>400.0</td>\n",
       "      <td>400.000000</td>\n",
       "    </tr>\n",
       "    <tr>\n",
       "      <th>0.000050</th>\n",
       "      <td>540</td>\n",
       "      <td>400.0</td>\n",
       "      <td>400.000177</td>\n",
       "    </tr>\n",
       "    <tr>\n",
       "      <th>0.000100</th>\n",
       "      <td>540</td>\n",
       "      <td>400.0</td>\n",
       "      <td>400.000354</td>\n",
       "    </tr>\n",
       "    <tr>\n",
       "      <th>0.000192</th>\n",
       "      <td>540</td>\n",
       "      <td>400.0</td>\n",
       "      <td>400.000680</td>\n",
       "    </tr>\n",
       "    <tr>\n",
       "      <th>0.000370</th>\n",
       "      <td>540</td>\n",
       "      <td>400.0</td>\n",
       "      <td>400.001306</td>\n",
       "    </tr>\n",
       "    <tr>\n",
       "      <th>...</th>\n",
       "      <td>...</td>\n",
       "      <td>...</td>\n",
       "      <td>...</td>\n",
       "    </tr>\n",
       "    <tr>\n",
       "      <th>7199.604681</th>\n",
       "      <td>460</td>\n",
       "      <td>400.0</td>\n",
       "      <td>429.384154</td>\n",
       "    </tr>\n",
       "    <tr>\n",
       "      <th>7199.704681</th>\n",
       "      <td>460</td>\n",
       "      <td>400.0</td>\n",
       "      <td>429.384296</td>\n",
       "    </tr>\n",
       "    <tr>\n",
       "      <th>7199.804681</th>\n",
       "      <td>460</td>\n",
       "      <td>400.0</td>\n",
       "      <td>429.384439</td>\n",
       "    </tr>\n",
       "    <tr>\n",
       "      <th>7199.904681</th>\n",
       "      <td>460</td>\n",
       "      <td>400.0</td>\n",
       "      <td>429.384582</td>\n",
       "    </tr>\n",
       "    <tr>\n",
       "      <th>7200.000000</th>\n",
       "      <td>460</td>\n",
       "      <td>400.0</td>\n",
       "      <td>429.384718</td>\n",
       "    </tr>\n",
       "  </tbody>\n",
       "</table>\n",
       "<p>2402705 rows × 3 columns</p>\n",
       "</div>"
      ],
      "text/plain": [
       "              Tw     Ti        Tavg\n",
       "flow-time                          \n",
       "0.000000     540  400.0  400.000000\n",
       "0.000050     540  400.0  400.000177\n",
       "0.000100     540  400.0  400.000354\n",
       "0.000192     540  400.0  400.000680\n",
       "0.000370     540  400.0  400.001306\n",
       "...          ...    ...         ...\n",
       "7199.604681  460  400.0  429.384154\n",
       "7199.704681  460  400.0  429.384296\n",
       "7199.804681  460  400.0  429.384439\n",
       "7199.904681  460  400.0  429.384582\n",
       "7200.000000  460  400.0  429.384718\n",
       "\n",
       "[2402705 rows x 3 columns]"
      ]
     },
     "execution_count": 66,
     "metadata": {},
     "output_type": "execute_result"
    }
   ],
   "source": [
    "train_df"
   ]
  },
  {
   "cell_type": "code",
   "execution_count": 67,
   "id": "675e8a64-799e-453d-9977-276edd01caf4",
   "metadata": {},
   "outputs": [],
   "source": [
    "train_data_list = list()\n",
    "index_list = list()\n",
    "for idx, grp in train_df.groupby([\"Tw\", \"Ti\"]):\n",
    "    train_data_list.append(grp.values)\n",
    "    index_list.append(grp.index.values)"
   ]
  },
  {
   "cell_type": "code",
   "execution_count": 68,
   "id": "3f2c8500-aecf-48ef-922d-2240892d52ff",
   "metadata": {},
   "outputs": [
    {
     "data": {
      "text/plain": [
       "array([399.99999977, 400.00002467, 400.00004954, ..., 414.02091475,\n",
       "       414.02096705, 414.02096949])"
      ]
     },
     "execution_count": 68,
     "metadata": {},
     "output_type": "execute_result"
    }
   ],
   "source": [
    "train_data_list[0][:,2]"
   ]
  },
  {
   "cell_type": "code",
   "execution_count": 69,
   "id": "2b7f5065-ba2b-48c4-a7f0-5b44a9ffa9b8",
   "metadata": {},
   "outputs": [
    {
     "data": {
      "text/plain": [
       "array([0.00000000e+00, 5.00000000e-05, 1.00000000e-04, ...,\n",
       "       7.19983193e+03, 7.19993193e+03, 7.20000000e+03])"
      ]
     },
     "execution_count": 69,
     "metadata": {},
     "output_type": "execute_result"
    }
   ],
   "source": [
    "index_list[1]"
   ]
  },
  {
   "cell_type": "code",
   "execution_count": 70,
   "id": "23125967-0e88-45cd-95ff-833e8005f199",
   "metadata": {},
   "outputs": [
    {
     "data": {
      "text/plain": [
       "array([399.99999977])"
      ]
     },
     "execution_count": 70,
     "metadata": {},
     "output_type": "execute_result"
    }
   ],
   "source": [
    "np.array(train_data_list[1][:,2][0]).reshape(1)"
   ]
  },
  {
   "cell_type": "code",
   "execution_count": 71,
   "id": "20f0e025-a681-47f6-b463-e1d9567bb2f8",
   "metadata": {},
   "outputs": [],
   "source": [
    "sparse_regression_optimizer = ps.STLSQ(threshold=0, normalize_columns=True)\n",
    "model = ps.SINDy(optimizer=sparse_regression_optimizer)"
   ]
  },
  {
   "cell_type": "code",
   "execution_count": 86,
   "id": "1fa51615-8ed8-49a3-a6ac-ba10bbacb65d",
   "metadata": {},
   "outputs": [
    {
     "name": "stdout",
     "output_type": "stream",
     "text": [
      "(x0)' = 0.000\n",
      "(x1)' = 0.000\n",
      "(x2)' = 22.201 1 + -40374.339 x0 + 8952.552 x1 + 242.070 x2 + 3001188.487 x0^2 + -6452454.311 x0 x1 + 3466350.321 x1^2 + -0.605 x1 x2\n"
     ]
    }
   ],
   "source": [
    "model.fit(train_data_list[0:2], t=index_list[0:2], multiple_trajectories=True)\n",
    "model.print()"
   ]
  },
  {
   "cell_type": "code",
   "execution_count": 88,
   "id": "7ae272d8-473a-4fd9-b4b7-0a4e9ef20d65",
   "metadata": {},
   "outputs": [],
   "source": [
    "res = model.simulate(x0=np.array(train_data_list[1][0]).reshape(3),t=index_list[1][0:200])"
   ]
  },
  {
   "cell_type": "code",
   "execution_count": 89,
   "id": "ec1fe695-ce53-433c-b877-d4dc4e58c076",
   "metadata": {},
   "outputs": [
    {
     "data": {
      "text/plain": [
       "array([399.99999977, 400.0000006 , 400.00000144, 400.00000298,\n",
       "       400.00000595, 400.0000119 , 400.00002378, 400.00004752,\n",
       "       400.00009508, 400.00019016, 400.00035997, 400.0006496 ,\n",
       "       400.00114142, 400.0019759 , 400.00337201, 400.00503217,\n",
       "       400.00669233, 400.00835248, 400.01001264, 400.0116728 ,\n",
       "       400.01333389, 400.01501846, 400.01670303, 400.01838733,\n",
       "       400.02005938, 400.02173175, 400.02340411, 400.02506472,\n",
       "       400.02672488, 400.02838503, 400.03004519, 400.03170534,\n",
       "       400.0333655 , 400.03504624, 400.03673074, 400.0384151 ,\n",
       "       400.04008754, 400.04175822, 400.04341838, 400.04507854,\n",
       "       400.0467387 , 400.04839885, 400.05005901, 400.05171916,\n",
       "       400.05337732, 400.05505059, 400.05672983, 400.0584023 ,\n",
       "       400.06007467, 400.06173515, 400.06339531, 400.06505547,\n",
       "       400.06671562, 400.06837578, 400.07003594, 400.07169599,\n",
       "       400.07334396, 400.07500312, 400.07667548, 400.07834785,\n",
       "       400.08002021, 400.08168749, 400.08334765, 400.08500781,\n",
       "       400.08666796, 400.08832809, 400.08915788, 400.09080975,\n",
       "       400.09245771, 400.09410566, 400.09577129, 400.09744365,\n",
       "       400.09911601, 400.10078838, 400.10245646, 400.10411662,\n",
       "       400.1057766 , 400.10742988, 400.10907839, 400.11072634,\n",
       "       400.11155032, 400.11319827, 400.11484622, 400.11651807,\n",
       "       400.11819043, 400.1198628 , 400.12153516, 400.12320403,\n",
       "       400.12485519, 400.12650391, 400.12815186, 400.12979981,\n",
       "       400.13144776, 400.13309571, 400.13474365, 400.13640926,\n",
       "       400.13808162, 400.13975399, 400.14142126, 400.14225134,\n",
       "       400.14391121, 400.14555918, 400.14720713, 400.14885508,\n",
       "       400.15050303, 400.15215098, 400.15379892, 400.15544687,\n",
       "       400.15711788, 400.15878819, 400.16044834, 400.1621085 ,\n",
       "       400.16376866, 400.16459874, 400.165011  , 400.16583497,\n",
       "       400.16624696, 400.16707093, 400.16871888, 400.17036683,\n",
       "       400.17201478, 400.17366267, 400.17531035, 400.17696608,\n",
       "       400.17862644, 400.1802866 , 400.18194676, 400.18360691,\n",
       "       400.18526707, 400.18691591, 400.18856385, 400.19021177,\n",
       "       400.19185842, 400.19349545, 400.19513261, 400.19677761,\n",
       "       400.19843777, 400.20009792, 400.20175808, 400.20341824,\n",
       "       400.20507839, 400.20673498, 400.20838293, 400.21002839,\n",
       "       400.21166449, 400.21330033, 400.21493607, 400.21657339,\n",
       "       400.21823355, 400.2198937 , 400.22155386, 400.22321401,\n",
       "       400.22487417, 400.22653285, 400.22817852, 400.22981445,\n",
       "       400.23145022, 400.23308597, 400.23472171, 400.23635745,\n",
       "       400.2380113 , 400.23967145, 400.24133161, 400.24299176,\n",
       "       400.24465192, 400.24631123, 400.24795923, 400.24959926,\n",
       "       400.251235  , 400.25287074, 400.25450649, 400.25614223,\n",
       "       400.25778817, 400.25944833, 400.2611077 , 400.2627582 ,\n",
       "       400.26440614, 400.26605409, 400.26770204, 400.26934785,\n",
       "       400.27098359, 400.27261933, 400.27425507, 400.27589081,\n",
       "       400.27752752, 400.27918654, 400.28083915, 400.2824871 ,\n",
       "       400.28413505, 400.285783  , 400.28743095, 400.2890789 ,\n",
       "       400.29071984, 400.29235558, 400.29399132, 400.29562655,\n",
       "       400.29725259, 400.29889389, 400.30054184, 400.30218979])"
      ]
     },
     "execution_count": 89,
     "metadata": {},
     "output_type": "execute_result"
    }
   ],
   "source": [
    "res[:,2]"
   ]
  },
  {
   "cell_type": "code",
   "execution_count": 91,
   "id": "33c50087-495c-4886-b409-d638b7ffe86c",
   "metadata": {},
   "outputs": [
    {
     "data": {
      "text/plain": [
       "[<matplotlib.lines.Line2D at 0x7f79b8a447c0>]"
      ]
     },
     "execution_count": 91,
     "metadata": {},
     "output_type": "execute_result"
    },
    {
     "data": {
      "image/png": "[encoded data removed]",
      "text/plain": [
       "<Figure size 432x288 with 1 Axes>"
      ]
     },
     "metadata": {
      "needs_background": "light"
     },
     "output_type": "display_data"
    }
   ],
   "source": [
    "plt.plot(res[:,2])"
   ]
  },
  {
   "cell_type": "code",
   "execution_count": 76,
   "id": "e8338099-49ae-4544-a8ab-4ecf826298c1",
   "metadata": {},
   "outputs": [
    {
     "data": {
      "text/plain": [
       "[<matplotlib.lines.Line2D at 0x7f7a066e5b80>]"
      ]
     },
     "execution_count": 76,
     "metadata": {},
     "output_type": "execute_result"
    },
    {
     "data": {
      "image/png": "[encoded data removed]",
      "text/plain": [
       "<Figure size 432x288 with 1 Axes>"
      ]
     },
     "metadata": {
      "needs_background": "light"
     },
     "output_type": "display_data"
    }
   ],
   "source": [
    "plt.plot(train_data_list[1][:,2])"
   ]
  },
  {
   "cell_type": "code",
   "execution_count": 78,
   "id": "046c121a-abd5-4267-aa5a-36fb2c3f35ec",
   "metadata": {},
   "outputs": [
    {
     "data": {
      "text/plain": [
       "array([399.99999977, 400.0000498 , 400.00009979, ..., 426.4899895 ,\n",
       "       426.4900862 , 426.49015203])"
      ]
     },
     "execution_count": 78,
     "metadata": {},
     "output_type": "execute_result"
    }
   ],
   "source": [
    "train_data_list[1][:,2]"
   ]
  },
  {
   "cell_type": "code",
   "execution_count": 92,
   "id": "99662d7f-a5d0-4692-aa38-714eaea4d194",
   "metadata": {},
   "outputs": [
    {
     "ename": "ValueError",
     "evalue": "operands could not be broadcast together with shapes (73305,) (200,) ",
     "output_type": "error",
     "traceback": [
      "\u001b[0;31m---------------------------------------------------------------------------\u001b[0m",
      "\u001b[0;31mValueError\u001b[0m                                Traceback (most recent call last)",
      "Input \u001b[0;32mIn [92]\u001b[0m, in \u001b[0;36m<cell line: 1>\u001b[0;34m()\u001b[0m\n\u001b[0;32m----> 1\u001b[0m plt\u001b[38;5;241m.\u001b[39mplot(\u001b[43mtrain_data_list\u001b[49m\u001b[43m[\u001b[49m\u001b[38;5;241;43m1\u001b[39;49m\u001b[43m]\u001b[49m\u001b[43m[\u001b[49m\u001b[43m:\u001b[49m\u001b[43m,\u001b[49m\u001b[38;5;241;43m2\u001b[39;49m\u001b[43m]\u001b[49m\u001b[43m \u001b[49m\u001b[38;5;241;43m-\u001b[39;49m\u001b[43m \u001b[49m\u001b[43mres\u001b[49m\u001b[43m[\u001b[49m\u001b[43m:\u001b[49m\u001b[43m,\u001b[49m\u001b[38;5;241;43m2\u001b[39;49m\u001b[43m]\u001b[49m)\n",
      "\u001b[0;31mValueError\u001b[0m: operands could not be broadcast together with shapes (73305,) (200,) "
     ]
    }
   ],
   "source": [
    "plt.plot(train_data_list[1][:,2] - res[:,2])"
   ]
  },
  {
   "cell_type": "code",
   "execution_count": null,
   "id": "07f84fd5-44be-4957-b8ba-0440eeb2c32a",
   "metadata": {},
   "outputs": [],
   "source": []
  }
 ],
 "metadata": {
  "kernelspec": {
   "display_name": "Python 3 (ipykernel)",
   "language": "python",
   "name": "python3"
  },
  "language_info": {
   "codemirror_mode": {
    "name": "ipython",
    "version": 3
   },
   "file_extension": ".py",
   "mimetype": "text/x-python",
   "name": "python",
   "nbconvert_exporter": "python",
   "pygments_lexer": "ipython3",
   "version": "3.9.12"
  }
 },
 "nbformat": 4,
 "nbformat_minor": 5
}
