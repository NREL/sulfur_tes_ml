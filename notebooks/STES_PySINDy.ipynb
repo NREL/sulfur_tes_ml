{
 "cells": [
  {
   "cell_type": "code",
   "execution_count": 334,
   "id": "08507b5e-f034-4f3b-be4f-dce0d88a9ac2",
   "metadata": {},
   "outputs": [],
   "source": [
    "import matplotlib.pyplot as plt\n",
    "from mpl_toolkits.mplot3d import Axes3D\n",
    "import numpy as np\n",
    "from sklearn.linear_model import Lasso\n",
    "\n",
    "import pysindy as ps\n",
    "import pandas as pd\n",
    "import numpy as np\n",
    "\n",
    "from sklearn.metrics import mean_squared_error\n",
    "from sklearn.metrics import r2_score"
   ]
  },
  {
   "cell_type": "code",
   "execution_count": 335,
   "id": "4cc5826a-8687-45fb-ae6e-6175a0061ef2",
   "metadata": {},
   "outputs": [],
   "source": [
    "from stesml.data_tools import get_scenario_index\n",
    "from stesml.data_tools import get_train_and_val_index\n",
    "from stesml.data_tools import load_data"
   ]
  },
  {
   "cell_type": "code",
   "execution_count": 336,
   "id": "3e4082fb-af86-43db-8bfb-6bd36d8e0f3d",
   "metadata": {},
   "outputs": [],
   "source": [
    "data_dir = \"../data/Sulfur_Models/heating/heating_all\""
   ]
  },
  {
   "cell_type": "code",
   "execution_count": 337,
   "id": "b6aa27c2-ac72-408c-b5ed-5184455d86f0",
   "metadata": {},
   "outputs": [],
   "source": [
    "t_min = 1\n",
    "t_max = 360"
   ]
  },
  {
   "cell_type": "code",
   "execution_count": 338,
   "id": "5db033f5-27c4-4474-9510-104386637f8b",
   "metadata": {},
   "outputs": [],
   "source": [
    "scenario_index = get_scenario_index(data_dir)"
   ]
  },
  {
   "cell_type": "code",
   "execution_count": 339,
   "id": "87356f40-26d9-416f-b087-03f58b45a118",
   "metadata": {},
   "outputs": [],
   "source": [
    "train_index, val_index = get_train_and_val_index(scenario_index, random_state=5)"
   ]
  },
  {
   "cell_type": "code",
   "execution_count": 340,
   "id": "4ae2eca9-7982-4d9f-bfd4-2243ccf9aa35",
   "metadata": {},
   "outputs": [
    {
     "data": {
      "text/html": [
       "<div>\n",
       "<style scoped>\n",
       "    .dataframe tbody tr th:only-of-type {\n",
       "        vertical-align: middle;\n",
       "    }\n",
       "\n",
       "    .dataframe tbody tr th {\n",
       "        vertical-align: top;\n",
       "    }\n",
       "\n",
       "    .dataframe thead th {\n",
       "        text-align: right;\n",
       "    }\n",
       "</style>\n",
       "<table border=\"1\" class=\"dataframe\">\n",
       "  <thead>\n",
       "    <tr style=\"text-align: right;\">\n",
       "      <th></th>\n",
       "      <th>Tw</th>\n",
       "      <th>Ti</th>\n",
       "      <th>Tavg</th>\n",
       "    </tr>\n",
       "    <tr>\n",
       "      <th>flow-time</th>\n",
       "      <th></th>\n",
       "      <th></th>\n",
       "      <th></th>\n",
       "    </tr>\n",
       "  </thead>\n",
       "  <tbody>\n",
       "    <tr>\n",
       "      <th>1.010680</th>\n",
       "      <td>540</td>\n",
       "      <td>400.0</td>\n",
       "      <td>400.874253</td>\n",
       "    </tr>\n",
       "    <tr>\n",
       "      <th>1.110680</th>\n",
       "      <td>540</td>\n",
       "      <td>400.0</td>\n",
       "      <td>400.920411</td>\n",
       "    </tr>\n",
       "    <tr>\n",
       "      <th>1.210680</th>\n",
       "      <td>540</td>\n",
       "      <td>400.0</td>\n",
       "      <td>400.964261</td>\n",
       "    </tr>\n",
       "    <tr>\n",
       "      <th>1.310680</th>\n",
       "      <td>540</td>\n",
       "      <td>400.0</td>\n",
       "      <td>401.006935</td>\n",
       "    </tr>\n",
       "    <tr>\n",
       "      <th>1.410680</th>\n",
       "      <td>540</td>\n",
       "      <td>400.0</td>\n",
       "      <td>401.048340</td>\n",
       "    </tr>\n",
       "    <tr>\n",
       "      <th>...</th>\n",
       "      <td>...</td>\n",
       "      <td>...</td>\n",
       "      <td>...</td>\n",
       "    </tr>\n",
       "    <tr>\n",
       "      <th>359.554681</th>\n",
       "      <td>460</td>\n",
       "      <td>400.0</td>\n",
       "      <td>404.503556</td>\n",
       "    </tr>\n",
       "    <tr>\n",
       "      <th>359.654681</th>\n",
       "      <td>460</td>\n",
       "      <td>400.0</td>\n",
       "      <td>404.504525</td>\n",
       "    </tr>\n",
       "    <tr>\n",
       "      <th>359.754681</th>\n",
       "      <td>460</td>\n",
       "      <td>400.0</td>\n",
       "      <td>404.505495</td>\n",
       "    </tr>\n",
       "    <tr>\n",
       "      <th>359.854681</th>\n",
       "      <td>460</td>\n",
       "      <td>400.0</td>\n",
       "      <td>404.506465</td>\n",
       "    </tr>\n",
       "    <tr>\n",
       "      <th>359.954681</th>\n",
       "      <td>460</td>\n",
       "      <td>400.0</td>\n",
       "      <td>404.507434</td>\n",
       "    </tr>\n",
       "  </tbody>\n",
       "</table>\n",
       "<p>279603 rows × 3 columns</p>\n",
       "</div>"
      ],
      "text/plain": [
       "             Tw     Ti        Tavg\n",
       "flow-time                         \n",
       "1.010680    540  400.0  400.874253\n",
       "1.110680    540  400.0  400.920411\n",
       "1.210680    540  400.0  400.964261\n",
       "1.310680    540  400.0  401.006935\n",
       "1.410680    540  400.0  401.048340\n",
       "...         ...    ...         ...\n",
       "359.554681  460  400.0  404.503556\n",
       "359.654681  460  400.0  404.504525\n",
       "359.754681  460  400.0  404.505495\n",
       "359.854681  460  400.0  404.506465\n",
       "359.954681  460  400.0  404.507434\n",
       "\n",
       "[279603 rows x 3 columns]"
      ]
     },
     "execution_count": 340,
     "metadata": {},
     "output_type": "execute_result"
    }
   ],
   "source": [
    "train_data_ = load_data(scenario_index, train_index, t_min=t_min, t_max=t_max)\n",
    "train_df = train_data_[['Tw','Ti','Tavg']]\n",
    "train_df.index = train_data_['flow-time']\n",
    "train_df"
   ]
  },
  {
   "cell_type": "code",
   "execution_count": 341,
   "id": "8fae28d6-3a04-47c4-a6fa-c5cafc892943",
   "metadata": {},
   "outputs": [
    {
     "data": {
      "text/html": [
       "<div>\n",
       "<style scoped>\n",
       "    .dataframe tbody tr th:only-of-type {\n",
       "        vertical-align: middle;\n",
       "    }\n",
       "\n",
       "    .dataframe tbody tr th {\n",
       "        vertical-align: top;\n",
       "    }\n",
       "\n",
       "    .dataframe thead th {\n",
       "        text-align: right;\n",
       "    }\n",
       "</style>\n",
       "<table border=\"1\" class=\"dataframe\">\n",
       "  <thead>\n",
       "    <tr style=\"text-align: right;\">\n",
       "      <th></th>\n",
       "      <th>Tw</th>\n",
       "      <th>Ti</th>\n",
       "      <th>Tavg</th>\n",
       "    </tr>\n",
       "    <tr>\n",
       "      <th>flow-time</th>\n",
       "      <th></th>\n",
       "      <th></th>\n",
       "      <th></th>\n",
       "    </tr>\n",
       "  </thead>\n",
       "  <tbody>\n",
       "    <tr>\n",
       "      <th>1.066673</th>\n",
       "      <td>560</td>\n",
       "      <td>440.0</td>\n",
       "      <td>440.778176</td>\n",
       "    </tr>\n",
       "    <tr>\n",
       "      <th>1.166673</th>\n",
       "      <td>560</td>\n",
       "      <td>440.0</td>\n",
       "      <td>440.817492</td>\n",
       "    </tr>\n",
       "    <tr>\n",
       "      <th>1.266673</th>\n",
       "      <td>560</td>\n",
       "      <td>440.0</td>\n",
       "      <td>440.855069</td>\n",
       "    </tr>\n",
       "    <tr>\n",
       "      <th>1.366673</th>\n",
       "      <td>560</td>\n",
       "      <td>440.0</td>\n",
       "      <td>440.891111</td>\n",
       "    </tr>\n",
       "    <tr>\n",
       "      <th>1.466673</th>\n",
       "      <td>560</td>\n",
       "      <td>440.0</td>\n",
       "      <td>440.925782</td>\n",
       "    </tr>\n",
       "    <tr>\n",
       "      <th>...</th>\n",
       "      <td>...</td>\n",
       "      <td>...</td>\n",
       "      <td>...</td>\n",
       "    </tr>\n",
       "    <tr>\n",
       "      <th>359.669535</th>\n",
       "      <td>520</td>\n",
       "      <td>440.0</td>\n",
       "      <td>446.627400</td>\n",
       "    </tr>\n",
       "    <tr>\n",
       "      <th>359.769535</th>\n",
       "      <td>520</td>\n",
       "      <td>440.0</td>\n",
       "      <td>446.627971</td>\n",
       "    </tr>\n",
       "    <tr>\n",
       "      <th>359.869535</th>\n",
       "      <td>520</td>\n",
       "      <td>440.0</td>\n",
       "      <td>446.628541</td>\n",
       "    </tr>\n",
       "    <tr>\n",
       "      <th>359.969535</th>\n",
       "      <td>520</td>\n",
       "      <td>440.0</td>\n",
       "      <td>446.629112</td>\n",
       "    </tr>\n",
       "    <tr>\n",
       "      <th>360.000000</th>\n",
       "      <td>520</td>\n",
       "      <td>440.0</td>\n",
       "      <td>446.629286</td>\n",
       "    </tr>\n",
       "  </tbody>\n",
       "</table>\n",
       "<p>66026 rows × 3 columns</p>\n",
       "</div>"
      ],
      "text/plain": [
       "             Tw     Ti        Tavg\n",
       "flow-time                         \n",
       "1.066673    560  440.0  440.778176\n",
       "1.166673    560  440.0  440.817492\n",
       "1.266673    560  440.0  440.855069\n",
       "1.366673    560  440.0  440.891111\n",
       "1.466673    560  440.0  440.925782\n",
       "...         ...    ...         ...\n",
       "359.669535  520  440.0  446.627400\n",
       "359.769535  520  440.0  446.627971\n",
       "359.869535  520  440.0  446.628541\n",
       "359.969535  520  440.0  446.629112\n",
       "360.000000  520  440.0  446.629286\n",
       "\n",
       "[66026 rows x 3 columns]"
      ]
     },
     "execution_count": 341,
     "metadata": {},
     "output_type": "execute_result"
    }
   ],
   "source": [
    "val_data_ = load_data(scenario_index, val_index, t_min=t_min, t_max=t_max)\n",
    "val_df = val_data_[['Tw','Ti','Tavg']]\n",
    "val_df.index = val_data_['flow-time']\n",
    "val_df"
   ]
  },
  {
   "cell_type": "code",
   "execution_count": 342,
   "id": "675e8a64-799e-453d-9977-276edd01caf4",
   "metadata": {},
   "outputs": [],
   "source": [
    "train_data = list()\n",
    "train_index = list()\n",
    "for idx, grp in train_df.groupby([\"Tw\", \"Ti\"]):\n",
    "    train_data.append(grp.values)\n",
    "    train_index.append(grp.index.values)"
   ]
  },
  {
   "cell_type": "code",
   "execution_count": 343,
   "id": "8eb6a2a8-3f14-47cf-a619-26dea2db409a",
   "metadata": {},
   "outputs": [],
   "source": [
    "val_data = list()\n",
    "val_index = list()\n",
    "for idx, grp in val_df.groupby([\"Tw\", \"Ti\"]):\n",
    "    val_data.append(grp.values)\n",
    "    val_index.append(grp.index.values)"
   ]
  },
  {
   "cell_type": "code",
   "execution_count": 386,
   "id": "20f0e025-a681-47f6-b463-e1d9567bb2f8",
   "metadata": {},
   "outputs": [],
   "source": [
    "poly_library = ps.feature_library.PolynomialLibrary(degree=5)\n",
    "optimizer = ps.STLSQ(threshold=0,normalize_columns=True,verbose=True,alpha=0)\n",
    "model = ps.SINDy(optimizer=optimizer, feature_names=['Tw','Ti','Ts'], feature_library=poly_library)"
   ]
  },
  {
   "cell_type": "code",
   "execution_count": 387,
   "id": "1fa51615-8ed8-49a3-a6ac-ba10bbacb65d",
   "metadata": {},
   "outputs": [
    {
     "name": "stdout",
     "output_type": "stream",
     "text": [
      " Iteration ... |y - Xw|^2 ...  a * |w|_2 ...      |w|_0 ... Total error: |y - Xw|^2 + a * |w|_2\n",
      "         0 ... 1.4155e+02 ... 0.0000e+00 ...        168 ... 1.4155e+02\n"
     ]
    },
    {
     "data": {
      "text/plain": [
       "SINDy(differentiation_method=FiniteDifference(),\n",
       "      feature_library=PolynomialLibrary(degree=5),\n",
       "      feature_names=['Tw', 'Ti', 'Ts'],\n",
       "      optimizer=STLSQ(alpha=0, normalize_columns=True, threshold=0,\n",
       "                      verbose=True))"
      ]
     },
     "execution_count": 387,
     "metadata": {},
     "output_type": "execute_result"
    }
   ],
   "source": [
    "model.fit(train_data, t=train_index, multiple_trajectories=True)"
   ]
  },
  {
   "cell_type": "code",
   "execution_count": 388,
   "id": "aab67c92-0e9c-4322-8076-9b53da6a7a5a",
   "metadata": {},
   "outputs": [
    {
     "name": "stdout",
     "output_type": "stream",
     "text": [
      "(Tw)' = 0.00000\n",
      "(Ti)' = 0.00000\n",
      "(Ts)' = -0.00042 Tw + -0.00041 Ti + -0.00041 Ts + 0.00026 Tw^2 + -0.00068 Tw Ti + -0.00001 Tw Ts + -0.00026 Ti^2 + 0.00014 Ti Ts + 0.00056 Ts^2 + 0.00007 Tw^2 Ti + -0.00008 Tw^2 Ts + 0.00068 Tw Ti^2 + -0.00150 Tw Ti Ts + 0.00083 Tw Ts^2 + -0.00043 Ti^3 + 0.00054 Ti^2 Ts + 0.00030 Ti Ts^2 + -0.00041 Ts^3 + -0.00001 Tw^2 Ti^2 + 0.00002 Tw^2 Ti Ts + -0.00001 Tw^2 Ts^2 + -0.00010 Tw Ti^3 + 0.00030 Tw Ti^2 Ts + -0.00032 Tw Ti Ts^2 + 0.00011 Tw Ts^3 + -0.00038 Ti^4 + 0.00161 Ti^3 Ts + -0.00259 Ti^2 Ts^2 + 0.00184 Ti Ts^3 + -0.00049 Ts^4 + -0.00001 Tw Ti^3 Ts + 0.00002 Tw Ti^2 Ts^2 + -0.00001 Tw Ti Ts^3 + 0.00001 Ti^5 + -0.00003 Ti^4 Ts + 0.00006 Ti^3 Ts^2 + -0.00007 Ti^2 Ts^3 + 0.00004 Ti Ts^4 + -0.00001 Ts^5\n"
     ]
    }
   ],
   "source": [
    "model.print(precision=5)"
   ]
  },
  {
   "cell_type": "code",
   "execution_count": 389,
   "id": "53359614-d019-490c-94f0-6582ce57ce14",
   "metadata": {},
   "outputs": [],
   "source": [
    "n_cases = len(val_data)"
   ]
  },
  {
   "cell_type": "code",
   "execution_count": null,
   "id": "7ae272d8-473a-4fd9-b4b7-0a4e9ef20d65",
   "metadata": {},
   "outputs": [],
   "source": [
    "predictions = list()\n",
    "for i in range(n_cases):\n",
    "    prediction = model.simulate(x0=np.array(val_data[i][0]).reshape(3),t=val_index[i])\n",
    "    predictions.append(prediction)"
   ]
  },
  {
   "cell_type": "code",
   "execution_count": null,
   "id": "99662d7f-a5d0-4692-aa38-714eaea4d194",
   "metadata": {},
   "outputs": [],
   "source": [
    "for i in range(n_cases):\n",
    "    plt.plot(val_index[i], val_data[i][:,2] - predictions[i][:,2])\n",
    "    plt.xlim(0,360)"
   ]
  },
  {
   "cell_type": "code",
   "execution_count": null,
   "id": "60a4e53a-e0bc-428b-8831-5a09249951c9",
   "metadata": {},
   "outputs": [],
   "source": [
    "predictions_joined = list()\n",
    "val_data_joined = list()\n",
    "\n",
    "for i in range(n_cases):\n",
    "    val_data_joined += val_data[i][:,2].tolist()\n",
    "    predictions_joined += predictions[i][:,2].tolist()"
   ]
  },
  {
   "cell_type": "code",
   "execution_count": null,
   "id": "96829fc4-12a2-47bb-a52a-3d332de5f6f6",
   "metadata": {},
   "outputs": [],
   "source": [
    "r2 = r2_score(val_data_joined, predictions_joined)\n",
    "rmse = mean_squared_error(val_data_joined, predictions_joined, squared=False)\n",
    "print(f'RMSE: {rmse}, R2: {r2}')"
   ]
  },
  {
   "cell_type": "code",
   "execution_count": null,
   "id": "07f84fd5-44be-4957-b8ba-0440eeb2c32a",
   "metadata": {},
   "outputs": [],
   "source": [
    "plt.style.use('ggplot')\n",
    "for i in range(len(val_data_list)):\n",
    "    Tw = val_data_list[i][:,0][0]\n",
    "    Ti = val_data_list[i][:,1][0]\n",
    "    plt.plot(val_index[i], val_data[i][:,2], linewidth=2.5, c='DarkBlue', label='Expected')\n",
    "    plt.plot(val_index[i], predictions[i][:,2], linewidth=2.5, c='DarkOrange', label='Predicted')\n",
    "    plt.xlabel('flow-time')\n",
    "    plt.title(f'Tw = {Tw}  Ti = {Ti}')\n",
    "    plt.legend()\n",
    "    plt.show()"
   ]
  },
  {
   "cell_type": "code",
   "execution_count": null,
   "id": "47414576-9a2e-4970-951a-3b7d921a253a",
   "metadata": {},
   "outputs": [],
   "source": []
  }
 ],
 "metadata": {
  "kernelspec": {
   "display_name": "Python 3 (ipykernel)",
   "language": "python",
   "name": "python3"
  },
  "language_info": {
   "codemirror_mode": {
    "name": "ipython",
    "version": 3
   },
   "file_extension": ".py",
   "mimetype": "text/x-python",
   "name": "python",
   "nbconvert_exporter": "python",
   "pygments_lexer": "ipython3",
   "version": "3.9.12"
  }
 },
 "nbformat": 4,
 "nbformat_minor": 5
}
