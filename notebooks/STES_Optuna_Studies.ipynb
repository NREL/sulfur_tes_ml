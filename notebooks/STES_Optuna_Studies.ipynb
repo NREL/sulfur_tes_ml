{
 "cells": [
  {
   "cell_type": "markdown",
   "id": "3680aaba-6702-4854-aee9-66468e2f6027",
   "metadata": {},
   "source": [
    "## This notebook is used to run hyperparameter optimization studies with Optuna."
   ]
  },
  {
   "cell_type": "code",
   "execution_count": 1,
   "id": "17f10e97",
   "metadata": {},
   "outputs": [
    {
     "name": "stderr",
     "output_type": "stream",
     "text": [
      "/Users/kmenear/Projects/sulfur_tes_ml/envSulfurTES/lib/python3.9/site-packages/tqdm/auto.py:22: TqdmWarning: IProgress not found. Please update jupyter and ipywidgets. See https://ipywidgets.readthedocs.io/en/stable/user_install.html\n",
      "  from .autonotebook import tqdm as notebook_tqdm\n"
     ]
    }
   ],
   "source": [
    "import optuna\n",
    "import joblib\n",
    "import datetime"
   ]
  },
  {
   "cell_type": "code",
   "execution_count": 2,
   "id": "7d54c837",
   "metadata": {},
   "outputs": [
    {
     "name": "stderr",
     "output_type": "stream",
     "text": [
      "/Users/kmenear/Projects/sulfur_tes_ml/envSulfurTES/lib/python3.9/site-packages/xgboost/compat.py:36: FutureWarning: pandas.Int64Index is deprecated and will be removed from pandas in a future version. Use pandas.Index with the appropriate dtype instead.\n",
      "  from pandas import MultiIndex, Int64Index\n"
     ]
    }
   ],
   "source": [
    "from stesml.model_tools import train_and_validate_model"
   ]
  },
  {
   "cell_type": "markdown",
   "id": "a3766321-15d2-40e0-a82e-6cdc3fee38c1",
   "metadata": {},
   "source": [
    "### Define parameters used for model training in the objective function below."
   ]
  },
  {
   "cell_type": "code",
   "execution_count": 3,
   "id": "24539931-e92e-4fb6-8fd9-b92458cb93c5",
   "metadata": {},
   "outputs": [],
   "source": [
    "data_dir = \"../data/Sulfur_Models/heating/full_runs\"\n",
    "model_type = 'NN' # Options: NN, XGBoost, RandomForest\n",
    "target = 'Tavg' # Options: Tavg, h\n",
    "metric = 'rmse' # Options: rmse, r2\n",
    "n_repeats = 1 # Number of times to repeat 5-fold CV. Each repeat gives a different shuffle.\n",
    "split_test_data = False # Split data into train (64%), val (16%), and test (20%) (True) or just train (80%) and val (20%) (False)\n",
    "\n",
    "if metric == 'rmse':\n",
    "    direction = 'minimize'\n",
    "elif metric == 'r2':\n",
    "    directon = 'maximize'"
   ]
  },
  {
   "cell_type": "markdown",
   "id": "4fbb47e5-ca40-431b-bd96-2642516a7de7",
   "metadata": {},
   "source": [
    "### Define the objective function.\n",
    "See https://optuna.readthedocs.io/en/stable/tutorial/10_key_features/001_first.html#sphx-glr-tutorial-10-key-features-001-first-py for an introduction to using Optuna for hyperparameter optimization."
   ]
  },
  {
   "cell_type": "code",
   "execution_count": 4,
   "id": "49f5d7d2",
   "metadata": {},
   "outputs": [],
   "source": [
    "def objective(trial):\n",
    "    # Save the study before running the next trial\n",
    "    joblib.dump(study, \"../studies/study_\" + model_type + \"_\" + datetime.datetime.now().strftime(\"%Y%m%d-%H\") + \".pkl\")\n",
    "    \n",
    "    if model_type == 'NN':\n",
    "        scale = True\n",
    "        learning_rate = trial.suggest_float(\"learning_rate\", 0.00001, 0.5, log=True)\n",
    "        n_layers = trial.suggest_int(\"n_layers\", 1, 5)\n",
    "        n_hidden_units = trial.suggest_int(\"n_hidden_units\", 10, 1000)\n",
    "        batch_size = trial.suggest_int(\"batch_size\", 100, 10000)\n",
    "        parameters = {'learning_rate': learning_rate, 'n_layers': n_layers, 'n_hidden_units': n_hidden_units, 'batch_size': batch_size, 'epochs': 200}\n",
    "        result, addendum = train_and_validate_model(data_dir, model_type, target, metric, scale, parameters, n_repeats, split_test_data=split_test_data)\n",
    "    elif model_type == 'XGBoost':\n",
    "        scale = False\n",
    "        learning_rate = trial.suggest_float(\"learning_rate\", 0.1, 0.5)\n",
    "        subsample = trial.suggest_float(\"subsample\", 0.01, 1)\n",
    "        max_depth = trial.suggest_int(\"max_depth\", 1, 20)\n",
    "        num_boost_round = 10000 # Set this as a maximum, model will stop with early stopping\n",
    "        parameters = {'learning_rate': learning_rate, 'subsample': subsample, 'max_depth': max_depth, 'num_boost_round': num_boost_round}\n",
    "        result, addendum = train_and_validate_model(data_dir, model_type, target, metric, scale, parameters, n_repeats, split_test_data=split_test_data, t_min=360)\n",
    "    elif model_type == 'RandomForest':\n",
    "        scale = False\n",
    "        n_estimators = trial.suggest_int(\"n_estimators\", 1, 200, log=True)\n",
    "        max_depth = trial.suggest_int(\"max_depth\", 1, 100)\n",
    "        max_samples = trial.suggest_float(\"max_samples\", .01, 1, log=True)\n",
    "        parameters = {'n_estimators': n_estimators, 'max_depth': max_depth, 'max_samples': max_samples}\n",
    "        result, addendum = train_and_validate_model(data_dir, model_type, target, metric, scale, parameters, n_repeats, split_test_data=split_test_data)\n",
    "    \n",
    "    return result"
   ]
  },
  {
   "cell_type": "markdown",
   "id": "ce73b8c2-feb7-4d08-8b5c-3df9b75cdb48",
   "metadata": {},
   "source": [
    "### If continuing a previous study, set `load_study` to `True` and provide the study name.\n",
    "*Note:* Studies are saved in the `studies` directory."
   ]
  },
  {
   "cell_type": "code",
   "execution_count": 6,
   "id": "8003a376",
   "metadata": {},
   "outputs": [],
   "source": [
    "load_study = False\n",
    "study_name = \"study_name_.pkl\""
   ]
  },
  {
   "cell_type": "markdown",
   "id": "21568a5e-8f94-4035-94c3-77098e4e67a7",
   "metadata": {},
   "source": [
    "### Either load the previous study or create a new study."
   ]
  },
  {
   "cell_type": "code",
   "execution_count": 7,
   "id": "34ff5265",
   "metadata": {},
   "outputs": [
    {
     "name": "stderr",
     "output_type": "stream",
     "text": [
      "\u001b[32m[I 2022-09-21 00:47:56,831]\u001b[0m A new study created in memory with name: no-name-6e1f30a8-6bfb-4214-ab51-89194b9a7ac7\u001b[0m\n"
     ]
    }
   ],
   "source": [
    "if load_study:\n",
    "    study = joblib.load(\"../studies/\" + study_name)\n",
    "    print(\"Best trial until now:\")\n",
    "    print(\" Value: \", study.best_trial.value)\n",
    "    print(\" Params: \")\n",
    "    for key, value in study.best_trial.params.items():\n",
    "        print(f\"    {key}: {value}\")\n",
    "else:\n",
    "    study = optuna.create_study(direction=direction)"
   ]
  },
  {
   "cell_type": "markdown",
   "id": "9f8f6ac9-735c-49ad-abd7-444cab0829e6",
   "metadata": {},
   "source": [
    "### Run the study."
   ]
  },
  {
   "cell_type": "code",
   "execution_count": 8,
   "id": "daa16b27",
   "metadata": {},
   "outputs": [
    {
     "name": "stderr",
     "output_type": "stream",
     "text": [
      "2022-09-21 00:48:35.293263: I tensorflow/core/platform/cpu_feature_guard.cc:142] This TensorFlow binary is optimized with oneAPI Deep Neural Network Library (oneDNN) to use the following CPU instructions in performance-critical operations:  SSE4.1 SSE4.2 AVX AVX2 FMA\n",
      "To enable them in other operations, rebuild TensorFlow with the appropriate compiler flags.\n",
      "2022-09-21 00:48:35.399598: I tensorflow/compiler/mlir/mlir_graph_optimization_pass.cc:116] None of the MLIR optimization passes are enabled (registered 2)\n"
     ]
    },
    {
     "name": "stdout",
     "output_type": "stream",
     "text": [
      "Epoch 1/200\n",
      "179/665 [=======>......................] - ETA: 7s - loss: 0.1693"
     ]
    },
    {
     "name": "stderr",
     "output_type": "stream",
     "text": [
      "\n",
      "KeyboardInterrupt\n",
      "\n"
     ]
    }
   ],
   "source": [
    "study.optimize(objective, n_trials=250)"
   ]
  },
  {
   "cell_type": "markdown",
   "id": "61eb4db7-3339-4ba3-bbdb-e4c0104174b9",
   "metadata": {},
   "source": [
    "### Print the hyperparameter and objective function values for the best trial in the study."
   ]
  },
  {
   "cell_type": "code",
   "execution_count": null,
   "id": "5efd2871",
   "metadata": {},
   "outputs": [],
   "source": [
    "print(study.best_params)"
   ]
  },
  {
   "cell_type": "code",
   "execution_count": 21,
   "id": "2cf2e753",
   "metadata": {},
   "outputs": [],
   "source": [
    "print(study.best_value)"
   ]
  },
  {
   "cell_type": "code",
   "execution_count": null,
   "id": "a2cbf872-7a4a-4847-bb00-51034c43dcd9",
   "metadata": {},
   "outputs": [],
   "source": []
  }
 ],
 "metadata": {
  "kernelspec": {
   "display_name": "Python 3 (ipykernel)",
   "language": "python",
   "name": "python3"
  },
  "language_info": {
   "codemirror_mode": {
    "name": "ipython",
    "version": 3
   },
   "file_extension": ".py",
   "mimetype": "text/x-python",
   "name": "python",
   "nbconvert_exporter": "python",
   "pygments_lexer": "ipython3",
   "version": "3.9.12"
  }
 },
 "nbformat": 4,
 "nbformat_minor": 5
}
